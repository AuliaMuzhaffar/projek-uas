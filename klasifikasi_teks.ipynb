{
 "cells": [
  {
   "cell_type": "code",
   "execution_count": 1,
   "metadata": {},
   "outputs": [],
   "source": [
    "\n",
    "import pandas as pd"
   ]
  },
  {
   "cell_type": "code",
   "execution_count": 2,
   "metadata": {},
   "outputs": [
    {
     "data": {
      "text/html": [
       "<div>\n",
       "<style scoped>\n",
       "    .dataframe tbody tr th:only-of-type {\n",
       "        vertical-align: middle;\n",
       "    }\n",
       "\n",
       "    .dataframe tbody tr th {\n",
       "        vertical-align: top;\n",
       "    }\n",
       "\n",
       "    .dataframe thead th {\n",
       "        text-align: right;\n",
       "    }\n",
       "</style>\n",
       "<table border=\"1\" class=\"dataframe\">\n",
       "  <thead>\n",
       "    <tr style=\"text-align: right;\">\n",
       "      <th></th>\n",
       "      <th>Judul</th>\n",
       "      <th>Tanggal</th>\n",
       "      <th>Penulis</th>\n",
       "      <th>Editor</th>\n",
       "      <th>Isi Artikel</th>\n",
       "      <th>Kategori</th>\n",
       "    </tr>\n",
       "  </thead>\n",
       "  <tbody>\n",
       "    <tr>\n",
       "      <th>0</th>\n",
       "      <td>Susno Duadji dan Hotman Paris Beda Pendapat so...</td>\n",
       "      <td>Selasa, 30 Juli 2024 21:25 WIB</td>\n",
       "      <td>Hasanudin Aco</td>\n",
       "      <td>Editor tidak ditemukan</td>\n",
       "      <td>TRIBUNNEWS.COM, JAKARTA -  Pengacara kondang H...</td>\n",
       "      <td>nasional</td>\n",
       "    </tr>\n",
       "    <tr>\n",
       "      <th>1</th>\n",
       "      <td>BREAKING NEWS: Jokowi Benarkan Adanya Pemotong...</td>\n",
       "      <td>Senin, 27 Mei 2024 22:42 WIB</td>\n",
       "      <td>Taufik Ismail</td>\n",
       "      <td>Acos Abdul Qodir</td>\n",
       "      <td>Laporan Wartawan Tribunnews Taufik Ismail\\nTRI...</td>\n",
       "      <td>nasional</td>\n",
       "    </tr>\n",
       "    <tr>\n",
       "      <th>2</th>\n",
       "      <td>6 'Kemewahan' Nayunda dari SYL: Saweran Ratusa...</td>\n",
       "      <td>Rabu, 29 Mei 2024 21:31 WIB</td>\n",
       "      <td>Faryyanida Putwiliani</td>\n",
       "      <td>Garudea Prabawati</td>\n",
       "      <td>TRIBUNNEWS.COM - Penyanyi dangdut Nayunda Nabi...</td>\n",
       "      <td>nasional</td>\n",
       "    </tr>\n",
       "    <tr>\n",
       "      <th>3</th>\n",
       "      <td>Peran Ditjen Administrasi Hukum Umum Diganjar ...</td>\n",
       "      <td>Rabu, 21 Agustus 2024 20:45 WIB</td>\n",
       "      <td>Ilham Rian Pratama</td>\n",
       "      <td>Wahyu Aji</td>\n",
       "      <td>TRIBUNNEWS.COM, JAKARTA - Direktorat Jenderal ...</td>\n",
       "      <td>nasional</td>\n",
       "    </tr>\n",
       "    <tr>\n",
       "      <th>4</th>\n",
       "      <td>Senator Bali Dipecat Badan Kehormatan DPD RI, ...</td>\n",
       "      <td>Jumat, 2 Februari 2024 18:09 WIB</td>\n",
       "      <td>Chaerul Umam</td>\n",
       "      <td>Dodi Esvandi</td>\n",
       "      <td>Laporan Wartawan Tribunnews.com, Chaerul Umam\\...</td>\n",
       "      <td>nasional</td>\n",
       "    </tr>\n",
       "  </tbody>\n",
       "</table>\n",
       "</div>"
      ],
      "text/plain": [
       "                                               Judul  \\\n",
       "0  Susno Duadji dan Hotman Paris Beda Pendapat so...   \n",
       "1  BREAKING NEWS: Jokowi Benarkan Adanya Pemotong...   \n",
       "2  6 'Kemewahan' Nayunda dari SYL: Saweran Ratusa...   \n",
       "3  Peran Ditjen Administrasi Hukum Umum Diganjar ...   \n",
       "4  Senator Bali Dipecat Badan Kehormatan DPD RI, ...   \n",
       "\n",
       "                            Tanggal                Penulis  \\\n",
       "0    Selasa, 30 Juli 2024 21:25 WIB          Hasanudin Aco   \n",
       "1      Senin, 27 Mei 2024 22:42 WIB          Taufik Ismail   \n",
       "2       Rabu, 29 Mei 2024 21:31 WIB  Faryyanida Putwiliani   \n",
       "3   Rabu, 21 Agustus 2024 20:45 WIB     Ilham Rian Pratama   \n",
       "4  Jumat, 2 Februari 2024 18:09 WIB           Chaerul Umam   \n",
       "\n",
       "                   Editor                                        Isi Artikel  \\\n",
       "0  Editor tidak ditemukan  TRIBUNNEWS.COM, JAKARTA -  Pengacara kondang H...   \n",
       "1        Acos Abdul Qodir  Laporan Wartawan Tribunnews Taufik Ismail\\nTRI...   \n",
       "2       Garudea Prabawati  TRIBUNNEWS.COM - Penyanyi dangdut Nayunda Nabi...   \n",
       "3               Wahyu Aji  TRIBUNNEWS.COM, JAKARTA - Direktorat Jenderal ...   \n",
       "4            Dodi Esvandi  Laporan Wartawan Tribunnews.com, Chaerul Umam\\...   \n",
       "\n",
       "   Kategori  \n",
       "0  nasional  \n",
       "1  nasional  \n",
       "2  nasional  \n",
       "3  nasional  \n",
       "4  nasional  "
      ]
     },
     "execution_count": 2,
     "metadata": {},
     "output_type": "execute_result"
    }
   ],
   "source": [
    "df = pd.read_csv('artikel-jadi.csv')\n",
    "df.head()"
   ]
  },
  {
   "cell_type": "code",
   "execution_count": 3,
   "metadata": {},
   "outputs": [
    {
     "name": "stdout",
     "output_type": "stream",
     "text": [
      "<class 'pandas.core.frame.DataFrame'>\n",
      "RangeIndex: 27754 entries, 0 to 27753\n",
      "Data columns (total 6 columns):\n",
      " #   Column       Non-Null Count  Dtype \n",
      "---  ------       --------------  ----- \n",
      " 0   Judul        27754 non-null  object\n",
      " 1   Tanggal      27754 non-null  object\n",
      " 2   Penulis      27754 non-null  object\n",
      " 3   Editor       27754 non-null  object\n",
      " 4   Isi Artikel  27753 non-null  object\n",
      " 5   Kategori     27754 non-null  object\n",
      "dtypes: object(6)\n",
      "memory usage: 1.3+ MB\n",
      "None\n"
     ]
    }
   ],
   "source": [
    "# exploratory data analysis\n",
    "print(df.info())"
   ]
  },
  {
   "cell_type": "code",
   "execution_count": 4,
   "metadata": {},
   "outputs": [
    {
     "name": "stdout",
     "output_type": "stream",
     "text": [
      "Kategori\n",
      "regional         5000\n",
      "internasional    4998\n",
      "pendidikan       4998\n",
      "metropolitan     4989\n",
      "nasional         4854\n",
      "lifestyle        2915\n",
      "Name: count, dtype: int64\n"
     ]
    },
    {
     "data": {
      "text/plain": [
       "<Axes: xlabel='Kategori'>"
      ]
     },
     "execution_count": 4,
     "metadata": {},
     "output_type": "execute_result"
    },
    {
     "data": {
      "image/png": "[encoded data removed]",
      "text/plain": [
       "<Figure size 640x480 with 1 Axes>"
      ]
     },
     "metadata": {},
     "output_type": "display_data"
    }
   ],
   "source": [
    "# tampilkan distribusi data katagori\n",
    "print(df['Kategori'].value_counts())\n",
    "# visualisasi distribusi data katagori\n",
    "df['Kategori'].value_counts().plot(kind='bar')"
   ]
  },
  {
   "cell_type": "code",
   "execution_count": 6,
   "metadata": {},
   "outputs": [
    {
     "name": "stdout",
     "output_type": "stream",
     "text": [
      "Judul          0\n",
      "Tanggal        0\n",
      "Penulis        0\n",
      "Editor         0\n",
      "Isi Artikel    1\n",
      "Kategori       0\n",
      "dtype: int64\n"
     ]
    }
   ],
   "source": [
    "#cek isian data kosong\n",
    "\n",
    "print(df.isnull().sum())"
   ]
  },
  {
   "cell_type": "code",
   "execution_count": 12,
   "metadata": {},
   "outputs": [
    {
     "name": "stdout",
     "output_type": "stream",
     "text": [
      "Judul          0\n",
      "Tanggal        0\n",
      "Penulis        0\n",
      "Editor         0\n",
      "Isi Artikel    0\n",
      "Kategori       0\n",
      "dtype: int64\n"
     ]
    }
   ],
   "source": [
    "#hapus baris data yang kosong\n",
    "df = df.dropna()\n",
    "print(df.isnull().sum())"
   ]
  },
  {
   "cell_type": "code",
   "execution_count": 13,
   "metadata": {},
   "outputs": [
    {
     "name": "stdout",
     "output_type": "stream",
     "text": [
      "Kategori\n",
      "regional         5000\n",
      "internasional    4998\n",
      "pendidikan       4998\n",
      "metropolitan     4988\n",
      "nasional         4854\n",
      "lifestyle        2915\n",
      "Name: count, dtype: int64\n"
     ]
    },
    {
     "data": {
      "text/plain": [
       "<Axes: xlabel='Kategori'>"
      ]
     },
     "execution_count": 13,
     "metadata": {},
     "output_type": "execute_result"
    },
    {
     "data": {
      "image/png": "[encoded data removed]",
      "text/plain": [
       "<Figure size 640x480 with 1 Axes>"
      ]
     },
     "metadata": {},
     "output_type": "display_data"
    }
   ],
   "source": [
    "# tampilkan distribusi data katagori\n",
    "print(df['Kategori'].value_counts())\n",
    "# visualisasi distribusi data katagori\n",
    "df['Kategori'].value_counts().plot(kind='bar')"
   ]
  },
  {
   "cell_type": "code",
   "execution_count": 14,
   "metadata": {},
   "outputs": [],
   "source": [
    "import re\n",
    "\n",
    "# Fungsi untuk membersihkan teks\n",
    "def clean_text(text):\n",
    "    # Menghapus URL\n",
    "    text = re.sub(r'http\\S+', '', text)\n",
    "    # Menghapus karakter non-alfabet dan mengubahnya menjadi huruf kecil\n",
    "    text = re.sub(r'[^a-zA-Z0-9\\s]', '', text)\n",
    "    text = text.lower()\n",
    "    # Menghapus spasi berlebih\n",
    "    text = ' '.join(text.split())\n",
    "    # # Menghapus angka\n",
    "    # text = re.sub(r'\\d+', '', text)\n",
    "    # menghapus tag html\n",
    "    text = re.sub(r'<.*?>', '', text)\n",
    "    # menghapus karakter tanda baca\n",
    "    text = re.sub(r'[^\\w\\s]', '', text)\n",
    "    # menghapus -, +, *, /, =, dll\n",
    "    text = re.sub(r'[-+*/=]', '', text)\n",
    "    return text\n",
    "\n",
    "# # Menerapkan fungsi pembersihan ke kolom \"Isi Artikel\" dan \"Judul\"\n",
    "# df['juduldf['Isi Artikel'].apply(clean_text)\n",
    "# df['Judul'].apply(clean_text)\n",
    "\n",
    "# # Fill NaN values with an empty string\n",
    "# df['Judul'] = df['Judul'].fillna('')\n",
    "# df['Isi Artikel'] = df['Isi Artikel'].fillna('')\n",
    "\n",
    "df['Judul'] = df['Judul'].apply(clean_text)\n",
    "df['Isi Artikel'] = df['Isi Artikel'].apply(clean_text)"
   ]
  },
  {
   "cell_type": "code",
   "execution_count": 16,
   "metadata": {},
   "outputs": [
    {
     "data": {
      "text/html": [
       "<div>\n",
       "<style scoped>\n",
       "    .dataframe tbody tr th:only-of-type {\n",
       "        vertical-align: middle;\n",
       "    }\n",
       "\n",
       "    .dataframe tbody tr th {\n",
       "        vertical-align: top;\n",
       "    }\n",
       "\n",
       "    .dataframe thead th {\n",
       "        text-align: right;\n",
       "    }\n",
       "</style>\n",
       "<table border=\"1\" class=\"dataframe\">\n",
       "  <thead>\n",
       "    <tr style=\"text-align: right;\">\n",
       "      <th></th>\n",
       "      <th>Judul</th>\n",
       "      <th>Tanggal</th>\n",
       "      <th>Penulis</th>\n",
       "      <th>Editor</th>\n",
       "      <th>Isi Artikel</th>\n",
       "      <th>Kategori</th>\n",
       "    </tr>\n",
       "  </thead>\n",
       "  <tbody>\n",
       "    <tr>\n",
       "      <th>0</th>\n",
       "      <td>susno duadji dan hotman paris beda pendapat so...</td>\n",
       "      <td>Selasa, 30 Juli 2024 21:25 WIB</td>\n",
       "      <td>Hasanudin Aco</td>\n",
       "      <td>Editor tidak ditemukan</td>\n",
       "      <td>tribunnewscom jakarta pengacara kondang hotman...</td>\n",
       "      <td>nasional</td>\n",
       "    </tr>\n",
       "    <tr>\n",
       "      <th>1</th>\n",
       "      <td>breaking news jokowi benarkan adanya pemotonga...</td>\n",
       "      <td>Senin, 27 Mei 2024 22:42 WIB</td>\n",
       "      <td>Taufik Ismail</td>\n",
       "      <td>Acos Abdul Qodir</td>\n",
       "      <td>laporan wartawan tribunnews taufik ismail trib...</td>\n",
       "      <td>nasional</td>\n",
       "    </tr>\n",
       "    <tr>\n",
       "      <th>2</th>\n",
       "      <td>6 kemewahan nayunda dari syl saweran ratusan j...</td>\n",
       "      <td>Rabu, 29 Mei 2024 21:31 WIB</td>\n",
       "      <td>Faryyanida Putwiliani</td>\n",
       "      <td>Garudea Prabawati</td>\n",
       "      <td>tribunnewscom penyanyi dangdut nayunda nabila ...</td>\n",
       "      <td>nasional</td>\n",
       "    </tr>\n",
       "    <tr>\n",
       "      <th>3</th>\n",
       "      <td>peran ditjen administrasi hukum umum diganjar ...</td>\n",
       "      <td>Rabu, 21 Agustus 2024 20:45 WIB</td>\n",
       "      <td>Ilham Rian Pratama</td>\n",
       "      <td>Wahyu Aji</td>\n",
       "      <td>tribunnewscom jakarta direktorat jenderal admi...</td>\n",
       "      <td>nasional</td>\n",
       "    </tr>\n",
       "    <tr>\n",
       "      <th>4</th>\n",
       "      <td>senator bali dipecat badan kehormatan dpd ri l...</td>\n",
       "      <td>Jumat, 2 Februari 2024 18:09 WIB</td>\n",
       "      <td>Chaerul Umam</td>\n",
       "      <td>Dodi Esvandi</td>\n",
       "      <td>laporan wartawan tribunnewscom chaerul umam tr...</td>\n",
       "      <td>nasional</td>\n",
       "    </tr>\n",
       "  </tbody>\n",
       "</table>\n",
       "</div>"
      ],
      "text/plain": [
       "                                               Judul  \\\n",
       "0  susno duadji dan hotman paris beda pendapat so...   \n",
       "1  breaking news jokowi benarkan adanya pemotonga...   \n",
       "2  6 kemewahan nayunda dari syl saweran ratusan j...   \n",
       "3  peran ditjen administrasi hukum umum diganjar ...   \n",
       "4  senator bali dipecat badan kehormatan dpd ri l...   \n",
       "\n",
       "                            Tanggal                Penulis  \\\n",
       "0    Selasa, 30 Juli 2024 21:25 WIB          Hasanudin Aco   \n",
       "1      Senin, 27 Mei 2024 22:42 WIB          Taufik Ismail   \n",
       "2       Rabu, 29 Mei 2024 21:31 WIB  Faryyanida Putwiliani   \n",
       "3   Rabu, 21 Agustus 2024 20:45 WIB     Ilham Rian Pratama   \n",
       "4  Jumat, 2 Februari 2024 18:09 WIB           Chaerul Umam   \n",
       "\n",
       "                   Editor                                        Isi Artikel  \\\n",
       "0  Editor tidak ditemukan  tribunnewscom jakarta pengacara kondang hotman...   \n",
       "1        Acos Abdul Qodir  laporan wartawan tribunnews taufik ismail trib...   \n",
       "2       Garudea Prabawati  tribunnewscom penyanyi dangdut nayunda nabila ...   \n",
       "3               Wahyu Aji  tribunnewscom jakarta direktorat jenderal admi...   \n",
       "4            Dodi Esvandi  laporan wartawan tribunnewscom chaerul umam tr...   \n",
       "\n",
       "   Kategori  \n",
       "0  nasional  \n",
       "1  nasional  \n",
       "2  nasional  \n",
       "3  nasional  \n",
       "4  nasional  "
      ]
     },
     "execution_count": 16,
     "metadata": {},
     "output_type": "execute_result"
    }
   ],
   "source": [
    "df.head()\n"
   ]
  },
  {
   "cell_type": "code",
   "execution_count": 9,
   "metadata": {},
   "outputs": [
    {
     "name": "stdout",
     "output_type": "stream",
     "text": [
      "Collecting SastrawiNote: you may need to restart the kernel to use updated packages.\n",
      "\n",
      "  Downloading Sastrawi-1.0.1-py2.py3-none-any.whl.metadata (909 bytes)\n",
      "Downloading Sastrawi-1.0.1-py2.py3-none-any.whl (209 kB)\n",
      "Installing collected packages: Sastrawi\n",
      "Successfully installed Sastrawi-1.0.1\n"
     ]
    },
    {
     "name": "stderr",
     "output_type": "stream",
     "text": [
      "\n",
      "[notice] A new release of pip is available: 24.2 -> 24.3.1\n",
      "[notice] To update, run: python.exe -m pip install --upgrade pip\n"
     ]
    }
   ],
   "source": [
    "%pip install Sastrawi"
   ]
  },
  {
   "cell_type": "code",
   "execution_count": 12,
   "metadata": {},
   "outputs": [
    {
     "name": "stdout",
     "output_type": "stream",
     "text": [
      "Collecting nltkNote: you may need to restart the kernel to use updated packages.\n",
      "\n",
      "  Downloading nltk-3.9.1-py3-none-any.whl.metadata (2.9 kB)\n",
      "Requirement already satisfied: click in c:\\users\\asus\\appdata\\local\\programs\\python\\python312\\lib\\site-packages (from nltk) (8.1.7)\n",
      "Collecting joblib (from nltk)\n",
      "  Downloading joblib-1.4.2-py3-none-any.whl.metadata (5.4 kB)\n",
      "Collecting regex>=2021.8.3 (from nltk)\n",
      "  Downloading regex-2024.11.6-cp312-cp312-win_amd64.whl.metadata (41 kB)\n",
      "Requirement already satisfied: tqdm in c:\\users\\asus\\appdata\\local\\programs\\python\\python312\\lib\\site-packages (from nltk) (4.67.1)\n",
      "Requirement already satisfied: colorama in c:\\users\\asus\\appdata\\roaming\\python\\python312\\site-packages (from click->nltk) (0.4.6)\n",
      "Downloading nltk-3.9.1-py3-none-any.whl (1.5 MB)\n",
      "   ---------------------------------------- 0.0/1.5 MB ? eta -:--:--\n",
      "   ---------------------------------------- 0.0/1.5 MB ? eta -:--:--\n",
      "   ------ --------------------------------- 0.3/1.5 MB ? eta -:--:--\n",
      "   ------------- -------------------------- 0.5/1.5 MB 1.2 MB/s eta 0:00:01\n",
      "   -------------------- ------------------- 0.8/1.5 MB 1.1 MB/s eta 0:00:01\n",
      "   --------------------------- ------------ 1.0/1.5 MB 1.0 MB/s eta 0:00:01\n",
      "   --------------------------- ------------ 1.0/1.5 MB 1.0 MB/s eta 0:00:01\n",
      "   ---------------------------------- ----- 1.3/1.5 MB 1.0 MB/s eta 0:00:01\n",
      "   ---------------------------------------- 1.5/1.5 MB 1.0 MB/s eta 0:00:00\n",
      "Downloading regex-2024.11.6-cp312-cp312-win_amd64.whl (273 kB)\n",
      "Downloading joblib-1.4.2-py3-none-any.whl (301 kB)\n",
      "Installing collected packages: regex, joblib, nltk\n",
      "Successfully installed joblib-1.4.2 nltk-3.9.1 regex-2024.11.6\n"
     ]
    },
    {
     "name": "stderr",
     "output_type": "stream",
     "text": [
      "\n",
      "[notice] A new release of pip is available: 24.2 -> 24.3.1\n",
      "[notice] To update, run: python.exe -m pip install --upgrade pip\n"
     ]
    }
   ],
   "source": [
    "%pip install nltk"
   ]
  },
  {
   "cell_type": "code",
   "execution_count": 17,
   "metadata": {},
   "outputs": [],
   "source": [
    "#menghapus kata tribunnews\n",
    "def remove_tribunnews(text):\n",
    "    text = text.replace('tribunnewscom', '')\n",
    "    return text\n",
    "\n",
    "# Menerapkan fungsi remove_tribunnews ke kolom \"Isi Artikel\" dan \"Judul\"\n",
    "df['Judul'] = df['Judul'].apply(remove_tribunnews)\n",
    "df['Isi Artikel'] = df['Isi Artikel'].apply(remove_tribunnews)"
   ]
  },
  {
   "cell_type": "code",
   "execution_count": 18,
   "metadata": {},
   "outputs": [
    {
     "data": {
      "text/html": [
       "<div>\n",
       "<style scoped>\n",
       "    .dataframe tbody tr th:only-of-type {\n",
       "        vertical-align: middle;\n",
       "    }\n",
       "\n",
       "    .dataframe tbody tr th {\n",
       "        vertical-align: top;\n",
       "    }\n",
       "\n",
       "    .dataframe thead th {\n",
       "        text-align: right;\n",
       "    }\n",
       "</style>\n",
       "<table border=\"1\" class=\"dataframe\">\n",
       "  <thead>\n",
       "    <tr style=\"text-align: right;\">\n",
       "      <th></th>\n",
       "      <th>Judul</th>\n",
       "      <th>Tanggal</th>\n",
       "      <th>Penulis</th>\n",
       "      <th>Editor</th>\n",
       "      <th>Isi Artikel</th>\n",
       "      <th>Kategori</th>\n",
       "    </tr>\n",
       "  </thead>\n",
       "  <tbody>\n",
       "    <tr>\n",
       "      <th>0</th>\n",
       "      <td>susno duadji dan hotman paris beda pendapat so...</td>\n",
       "      <td>Selasa, 30 Juli 2024 21:25 WIB</td>\n",
       "      <td>Hasanudin Aco</td>\n",
       "      <td>Editor tidak ditemukan</td>\n",
       "      <td>jakarta pengacara kondang hotman paris beda p...</td>\n",
       "      <td>nasional</td>\n",
       "    </tr>\n",
       "    <tr>\n",
       "      <th>1</th>\n",
       "      <td>breaking news jokowi benarkan adanya pemotonga...</td>\n",
       "      <td>Senin, 27 Mei 2024 22:42 WIB</td>\n",
       "      <td>Taufik Ismail</td>\n",
       "      <td>Acos Abdul Qodir</td>\n",
       "      <td>laporan wartawan tribunnews taufik ismail  jak...</td>\n",
       "      <td>nasional</td>\n",
       "    </tr>\n",
       "    <tr>\n",
       "      <th>2</th>\n",
       "      <td>6 kemewahan nayunda dari syl saweran ratusan j...</td>\n",
       "      <td>Rabu, 29 Mei 2024 21:31 WIB</td>\n",
       "      <td>Faryyanida Putwiliani</td>\n",
       "      <td>Garudea Prabawati</td>\n",
       "      <td>penyanyi dangdut nayunda nabila nizrinah ikut...</td>\n",
       "      <td>nasional</td>\n",
       "    </tr>\n",
       "    <tr>\n",
       "      <th>3</th>\n",
       "      <td>peran ditjen administrasi hukum umum diganjar ...</td>\n",
       "      <td>Rabu, 21 Agustus 2024 20:45 WIB</td>\n",
       "      <td>Ilham Rian Pratama</td>\n",
       "      <td>Wahyu Aji</td>\n",
       "      <td>jakarta direktorat jenderal administrasi huku...</td>\n",
       "      <td>nasional</td>\n",
       "    </tr>\n",
       "    <tr>\n",
       "      <th>4</th>\n",
       "      <td>senator bali dipecat badan kehormatan dpd ri l...</td>\n",
       "      <td>Jumat, 2 Februari 2024 18:09 WIB</td>\n",
       "      <td>Chaerul Umam</td>\n",
       "      <td>Dodi Esvandi</td>\n",
       "      <td>laporan wartawan  chaerul umam  jakarta ketua ...</td>\n",
       "      <td>nasional</td>\n",
       "    </tr>\n",
       "  </tbody>\n",
       "</table>\n",
       "</div>"
      ],
      "text/plain": [
       "                                               Judul  \\\n",
       "0  susno duadji dan hotman paris beda pendapat so...   \n",
       "1  breaking news jokowi benarkan adanya pemotonga...   \n",
       "2  6 kemewahan nayunda dari syl saweran ratusan j...   \n",
       "3  peran ditjen administrasi hukum umum diganjar ...   \n",
       "4  senator bali dipecat badan kehormatan dpd ri l...   \n",
       "\n",
       "                            Tanggal                Penulis  \\\n",
       "0    Selasa, 30 Juli 2024 21:25 WIB          Hasanudin Aco   \n",
       "1      Senin, 27 Mei 2024 22:42 WIB          Taufik Ismail   \n",
       "2       Rabu, 29 Mei 2024 21:31 WIB  Faryyanida Putwiliani   \n",
       "3   Rabu, 21 Agustus 2024 20:45 WIB     Ilham Rian Pratama   \n",
       "4  Jumat, 2 Februari 2024 18:09 WIB           Chaerul Umam   \n",
       "\n",
       "                   Editor                                        Isi Artikel  \\\n",
       "0  Editor tidak ditemukan   jakarta pengacara kondang hotman paris beda p...   \n",
       "1        Acos Abdul Qodir  laporan wartawan tribunnews taufik ismail  jak...   \n",
       "2       Garudea Prabawati   penyanyi dangdut nayunda nabila nizrinah ikut...   \n",
       "3               Wahyu Aji   jakarta direktorat jenderal administrasi huku...   \n",
       "4            Dodi Esvandi  laporan wartawan  chaerul umam  jakarta ketua ...   \n",
       "\n",
       "   Kategori  \n",
       "0  nasional  \n",
       "1  nasional  \n",
       "2  nasional  \n",
       "3  nasional  \n",
       "4  nasional  "
      ]
     },
     "execution_count": 18,
     "metadata": {},
     "output_type": "execute_result"
    }
   ],
   "source": [
    "df.head()"
   ]
  },
  {
   "cell_type": "code",
   "execution_count": 22,
   "metadata": {},
   "outputs": [
    {
     "name": "stderr",
     "output_type": "stream",
     "text": [
      "[nltk_data] Downloading package punkt to\n",
      "[nltk_data]     C:\\Users\\Asus\\AppData\\Roaming\\nltk_data...\n",
      "[nltk_data]   Package punkt is already up-to-date!\n"
     ]
    }
   ],
   "source": [
    "import nltk\n",
    "nltk.download('punkt')\n",
    "from nltk.tokenize import word_tokenize"
   ]
  },
  {
   "cell_type": "code",
   "execution_count": null,
   "metadata": {},
   "outputs": [],
   "source": [
    "from Sastrawi.StopWordRemover.StopWordRemoverFactory import StopWordRemoverFactory\n",
    "factory = StopWordRemoverFactory()\n",
    "stopword = factory.create_stop_word_remover()\n",
    "\n",
    "# Membuat fungsi stopword removal dan stemming\n",
    "def stopwordd(text):\n",
    "    text = stopword.remove(text)\n",
    "    return text\n",
    "\n",
    "# # Menggabungkan token kembali menjadi string sebelum menerapkan fungsi stopword removal\n",
    "# df['Judul'] = df['Judul'].apply(lambda x: ' '.join(x))\n",
    "# df['Isi Artikel'] = df['Isi Artikel'].apply(lambda x: ' '.join(x))\n",
    "\n",
    "# Menerapkan fungsi stopword removal ke kolom \"Isi Artikel\" dan \"Judul\"\n",
    "df['Judul'] = df['Judul'].apply(stopwordd)\n",
    "df['Isi Artikel'] = df['Isi Artikel'].apply(stopwordd)"
   ]
  },
  {
   "cell_type": "code",
   "execution_count": 35,
   "metadata": {},
   "outputs": [
    {
     "data": {
      "text/html": [
       "<div>\n",
       "<style scoped>\n",
       "    .dataframe tbody tr th:only-of-type {\n",
       "        vertical-align: middle;\n",
       "    }\n",
       "\n",
       "    .dataframe tbody tr th {\n",
       "        vertical-align: top;\n",
       "    }\n",
       "\n",
       "    .dataframe thead th {\n",
       "        text-align: right;\n",
       "    }\n",
       "</style>\n",
       "<table border=\"1\" class=\"dataframe\">\n",
       "  <thead>\n",
       "    <tr style=\"text-align: right;\">\n",
       "      <th></th>\n",
       "      <th>Judul</th>\n",
       "      <th>Tanggal</th>\n",
       "      <th>Penulis</th>\n",
       "      <th>Editor</th>\n",
       "      <th>Isi Artikel</th>\n",
       "      <th>Kategori</th>\n",
       "    </tr>\n",
       "  </thead>\n",
       "  <tbody>\n",
       "    <tr>\n",
       "      <th>0</th>\n",
       "      <td>susno duadji hotman paris beda pendapat soal p...</td>\n",
       "      <td>Selasa, 30 Juli 2024 21:25 WIB</td>\n",
       "      <td>Hasanudin Aco</td>\n",
       "      <td>Editor tidak ditemukan</td>\n",
       "      <td>jakarta pengacara kondang hotman paris beda pe...</td>\n",
       "      <td>nasional</td>\n",
       "    </tr>\n",
       "    <tr>\n",
       "      <th>1</th>\n",
       "      <td>breaking news jokowi benarkan adanya pemotonga...</td>\n",
       "      <td>Senin, 27 Mei 2024 22:42 WIB</td>\n",
       "      <td>Taufik Ismail</td>\n",
       "      <td>Acos Abdul Qodir</td>\n",
       "      <td>laporan wartawan tribunnews taufik ismail jaka...</td>\n",
       "      <td>nasional</td>\n",
       "    </tr>\n",
       "    <tr>\n",
       "      <th>2</th>\n",
       "      <td>6 kemewahan nayunda syl saweran ratusan juta t...</td>\n",
       "      <td>Rabu, 29 Mei 2024 21:31 WIB</td>\n",
       "      <td>Faryyanida Putwiliani</td>\n",
       "      <td>Garudea Prabawati</td>\n",
       "      <td>penyanyi dangdut nayunda nabila nizrinah ikut ...</td>\n",
       "      <td>nasional</td>\n",
       "    </tr>\n",
       "    <tr>\n",
       "      <th>3</th>\n",
       "      <td>peran ditjen administrasi hukum umum diganjar ...</td>\n",
       "      <td>Rabu, 21 Agustus 2024 20:45 WIB</td>\n",
       "      <td>Ilham Rian Pratama</td>\n",
       "      <td>Wahyu Aji</td>\n",
       "      <td>jakarta direktorat jenderal administrasi hukum...</td>\n",
       "      <td>nasional</td>\n",
       "    </tr>\n",
       "    <tr>\n",
       "      <th>4</th>\n",
       "      <td>senator bali dipecat badan kehormatan dpd ri l...</td>\n",
       "      <td>Jumat, 2 Februari 2024 18:09 WIB</td>\n",
       "      <td>Chaerul Umam</td>\n",
       "      <td>Dodi Esvandi</td>\n",
       "      <td>laporan wartawan chaerul umam jakarta ketua dp...</td>\n",
       "      <td>nasional</td>\n",
       "    </tr>\n",
       "  </tbody>\n",
       "</table>\n",
       "</div>"
      ],
      "text/plain": [
       "                                               Judul  \\\n",
       "0  susno duadji hotman paris beda pendapat soal p...   \n",
       "1  breaking news jokowi benarkan adanya pemotonga...   \n",
       "2  6 kemewahan nayunda syl saweran ratusan juta t...   \n",
       "3  peran ditjen administrasi hukum umum diganjar ...   \n",
       "4  senator bali dipecat badan kehormatan dpd ri l...   \n",
       "\n",
       "                            Tanggal                Penulis  \\\n",
       "0    Selasa, 30 Juli 2024 21:25 WIB          Hasanudin Aco   \n",
       "1      Senin, 27 Mei 2024 22:42 WIB          Taufik Ismail   \n",
       "2       Rabu, 29 Mei 2024 21:31 WIB  Faryyanida Putwiliani   \n",
       "3   Rabu, 21 Agustus 2024 20:45 WIB     Ilham Rian Pratama   \n",
       "4  Jumat, 2 Februari 2024 18:09 WIB           Chaerul Umam   \n",
       "\n",
       "                   Editor                                        Isi Artikel  \\\n",
       "0  Editor tidak ditemukan  jakarta pengacara kondang hotman paris beda pe...   \n",
       "1        Acos Abdul Qodir  laporan wartawan tribunnews taufik ismail jaka...   \n",
       "2       Garudea Prabawati  penyanyi dangdut nayunda nabila nizrinah ikut ...   \n",
       "3               Wahyu Aji  jakarta direktorat jenderal administrasi hukum...   \n",
       "4            Dodi Esvandi  laporan wartawan chaerul umam jakarta ketua dp...   \n",
       "\n",
       "   Kategori  \n",
       "0  nasional  \n",
       "1  nasional  \n",
       "2  nasional  \n",
       "3  nasional  \n",
       "4  nasional  "
      ]
     },
     "execution_count": 35,
     "metadata": {},
     "output_type": "execute_result"
    }
   ],
   "source": [
    "df.head()"
   ]
  },
  {
   "cell_type": "code",
   "execution_count": null,
   "metadata": {},
   "outputs": [
    {
     "ename": "KeyboardInterrupt",
     "evalue": "",
     "output_type": "error",
     "traceback": [
      "\u001b[1;31m---------------------------------------------------------------------------\u001b[0m",
      "\u001b[1;31mKeyboardInterrupt\u001b[0m                         Traceback (most recent call last)",
      "Cell \u001b[1;32mIn[36], line 31\u001b[0m\n\u001b[0;32m     10\u001b[0m     \u001b[38;5;28;01mreturn\u001b[39;00m text\n\u001b[0;32m     12\u001b[0m \u001b[38;5;66;03m# #menghapus kata tribunnews\u001b[39;00m\n\u001b[0;32m     13\u001b[0m \u001b[38;5;66;03m# def remove_tribunnews(text):\u001b[39;00m\n\u001b[0;32m     14\u001b[0m \u001b[38;5;66;03m#     text = text.replace('tribunnews', '')\u001b[39;00m\n\u001b[1;32m   (...)\u001b[0m\n\u001b[0;32m     29\u001b[0m \n\u001b[0;32m     30\u001b[0m \u001b[38;5;66;03m# Menerapkan fungsi stopword removal dan stemming ke kolom \"Isi Artikel\" dan \"Judul\"\u001b[39;00m\n\u001b[1;32m---> 31\u001b[0m df[\u001b[38;5;124m'\u001b[39m\u001b[38;5;124mJudul\u001b[39m\u001b[38;5;124m'\u001b[39m] \u001b[38;5;241m=\u001b[39m \u001b[43mdf\u001b[49m\u001b[43m[\u001b[49m\u001b[38;5;124;43m'\u001b[39;49m\u001b[38;5;124;43mJudul\u001b[39;49m\u001b[38;5;124;43m'\u001b[39;49m\u001b[43m]\u001b[49m\u001b[38;5;241;43m.\u001b[39;49m\u001b[43mapply\u001b[49m\u001b[43m(\u001b[49m\u001b[43mstemming\u001b[49m\u001b[43m)\u001b[49m\n\u001b[0;32m     32\u001b[0m df[\u001b[38;5;124m'\u001b[39m\u001b[38;5;124mIsi Artikel\u001b[39m\u001b[38;5;124m'\u001b[39m] \u001b[38;5;241m=\u001b[39m df[\u001b[38;5;124m'\u001b[39m\u001b[38;5;124mIsi Artikel\u001b[39m\u001b[38;5;124m'\u001b[39m]\u001b[38;5;241m.\u001b[39mapply(stemming)\n\u001b[0;32m     34\u001b[0m \u001b[38;5;66;03m# # Menerapkan fungsi tokenisasi ke kolom \"Isi Artikel\" dan \"Judul\"\u001b[39;00m\n\u001b[0;32m     35\u001b[0m \u001b[38;5;66;03m# df['Judul'] = df['Judul'].apply(tokenisasi)\u001b[39;00m\n\u001b[0;32m     36\u001b[0m \u001b[38;5;66;03m# df['Isi Artikel'] = df['Isi Artikel'].apply(tokenisasi)\u001b[39;00m\n",
      "File \u001b[1;32mc:\\Users\\Asus\\AppData\\Local\\Programs\\Python\\Python312\\Lib\\site-packages\\pandas\\core\\series.py:4915\u001b[0m, in \u001b[0;36mSeries.apply\u001b[1;34m(self, func, convert_dtype, args, by_row, **kwargs)\u001b[0m\n\u001b[0;32m   4780\u001b[0m \u001b[38;5;28;01mdef\u001b[39;00m \u001b[38;5;21mapply\u001b[39m(\n\u001b[0;32m   4781\u001b[0m     \u001b[38;5;28mself\u001b[39m,\n\u001b[0;32m   4782\u001b[0m     func: AggFuncType,\n\u001b[1;32m   (...)\u001b[0m\n\u001b[0;32m   4787\u001b[0m     \u001b[38;5;241m*\u001b[39m\u001b[38;5;241m*\u001b[39mkwargs,\n\u001b[0;32m   4788\u001b[0m ) \u001b[38;5;241m-\u001b[39m\u001b[38;5;241m>\u001b[39m DataFrame \u001b[38;5;241m|\u001b[39m Series:\n\u001b[0;32m   4789\u001b[0m \u001b[38;5;250m    \u001b[39m\u001b[38;5;124;03m\"\"\"\u001b[39;00m\n\u001b[0;32m   4790\u001b[0m \u001b[38;5;124;03m    Invoke function on values of Series.\u001b[39;00m\n\u001b[0;32m   4791\u001b[0m \n\u001b[1;32m   (...)\u001b[0m\n\u001b[0;32m   4906\u001b[0m \u001b[38;5;124;03m    dtype: float64\u001b[39;00m\n\u001b[0;32m   4907\u001b[0m \u001b[38;5;124;03m    \"\"\"\u001b[39;00m\n\u001b[0;32m   4908\u001b[0m     \u001b[38;5;28;01mreturn\u001b[39;00m \u001b[43mSeriesApply\u001b[49m\u001b[43m(\u001b[49m\n\u001b[0;32m   4909\u001b[0m \u001b[43m        \u001b[49m\u001b[38;5;28;43mself\u001b[39;49m\u001b[43m,\u001b[49m\n\u001b[0;32m   4910\u001b[0m \u001b[43m        \u001b[49m\u001b[43mfunc\u001b[49m\u001b[43m,\u001b[49m\n\u001b[0;32m   4911\u001b[0m \u001b[43m        \u001b[49m\u001b[43mconvert_dtype\u001b[49m\u001b[38;5;241;43m=\u001b[39;49m\u001b[43mconvert_dtype\u001b[49m\u001b[43m,\u001b[49m\n\u001b[0;32m   4912\u001b[0m \u001b[43m        \u001b[49m\u001b[43mby_row\u001b[49m\u001b[38;5;241;43m=\u001b[39;49m\u001b[43mby_row\u001b[49m\u001b[43m,\u001b[49m\n\u001b[0;32m   4913\u001b[0m \u001b[43m        \u001b[49m\u001b[43margs\u001b[49m\u001b[38;5;241;43m=\u001b[39;49m\u001b[43margs\u001b[49m\u001b[43m,\u001b[49m\n\u001b[0;32m   4914\u001b[0m \u001b[43m        \u001b[49m\u001b[43mkwargs\u001b[49m\u001b[38;5;241;43m=\u001b[39;49m\u001b[43mkwargs\u001b[49m\u001b[43m,\u001b[49m\n\u001b[1;32m-> 4915\u001b[0m \u001b[43m    \u001b[49m\u001b[43m)\u001b[49m\u001b[38;5;241;43m.\u001b[39;49m\u001b[43mapply\u001b[49m\u001b[43m(\u001b[49m\u001b[43m)\u001b[49m\n",
      "File \u001b[1;32mc:\\Users\\Asus\\AppData\\Local\\Programs\\Python\\Python312\\Lib\\site-packages\\pandas\\core\\apply.py:1427\u001b[0m, in \u001b[0;36mSeriesApply.apply\u001b[1;34m(self)\u001b[0m\n\u001b[0;32m   1424\u001b[0m     \u001b[38;5;28;01mreturn\u001b[39;00m \u001b[38;5;28mself\u001b[39m\u001b[38;5;241m.\u001b[39mapply_compat()\n\u001b[0;32m   1426\u001b[0m \u001b[38;5;66;03m# self.func is Callable\u001b[39;00m\n\u001b[1;32m-> 1427\u001b[0m \u001b[38;5;28;01mreturn\u001b[39;00m \u001b[38;5;28;43mself\u001b[39;49m\u001b[38;5;241;43m.\u001b[39;49m\u001b[43mapply_standard\u001b[49m\u001b[43m(\u001b[49m\u001b[43m)\u001b[49m\n",
      "File \u001b[1;32mc:\\Users\\Asus\\AppData\\Local\\Programs\\Python\\Python312\\Lib\\site-packages\\pandas\\core\\apply.py:1507\u001b[0m, in \u001b[0;36mSeriesApply.apply_standard\u001b[1;34m(self)\u001b[0m\n\u001b[0;32m   1501\u001b[0m \u001b[38;5;66;03m# row-wise access\u001b[39;00m\n\u001b[0;32m   1502\u001b[0m \u001b[38;5;66;03m# apply doesn't have a `na_action` keyword and for backward compat reasons\u001b[39;00m\n\u001b[0;32m   1503\u001b[0m \u001b[38;5;66;03m# we need to give `na_action=\"ignore\"` for categorical data.\u001b[39;00m\n\u001b[0;32m   1504\u001b[0m \u001b[38;5;66;03m# TODO: remove the `na_action=\"ignore\"` when that default has been changed in\u001b[39;00m\n\u001b[0;32m   1505\u001b[0m \u001b[38;5;66;03m#  Categorical (GH51645).\u001b[39;00m\n\u001b[0;32m   1506\u001b[0m action \u001b[38;5;241m=\u001b[39m \u001b[38;5;124m\"\u001b[39m\u001b[38;5;124mignore\u001b[39m\u001b[38;5;124m\"\u001b[39m \u001b[38;5;28;01mif\u001b[39;00m \u001b[38;5;28misinstance\u001b[39m(obj\u001b[38;5;241m.\u001b[39mdtype, CategoricalDtype) \u001b[38;5;28;01melse\u001b[39;00m \u001b[38;5;28;01mNone\u001b[39;00m\n\u001b[1;32m-> 1507\u001b[0m mapped \u001b[38;5;241m=\u001b[39m \u001b[43mobj\u001b[49m\u001b[38;5;241;43m.\u001b[39;49m\u001b[43m_map_values\u001b[49m\u001b[43m(\u001b[49m\n\u001b[0;32m   1508\u001b[0m \u001b[43m    \u001b[49m\u001b[43mmapper\u001b[49m\u001b[38;5;241;43m=\u001b[39;49m\u001b[43mcurried\u001b[49m\u001b[43m,\u001b[49m\u001b[43m \u001b[49m\u001b[43mna_action\u001b[49m\u001b[38;5;241;43m=\u001b[39;49m\u001b[43maction\u001b[49m\u001b[43m,\u001b[49m\u001b[43m \u001b[49m\u001b[43mconvert\u001b[49m\u001b[38;5;241;43m=\u001b[39;49m\u001b[38;5;28;43mself\u001b[39;49m\u001b[38;5;241;43m.\u001b[39;49m\u001b[43mconvert_dtype\u001b[49m\n\u001b[0;32m   1509\u001b[0m \u001b[43m\u001b[49m\u001b[43m)\u001b[49m\n\u001b[0;32m   1511\u001b[0m \u001b[38;5;28;01mif\u001b[39;00m \u001b[38;5;28mlen\u001b[39m(mapped) \u001b[38;5;129;01mand\u001b[39;00m \u001b[38;5;28misinstance\u001b[39m(mapped[\u001b[38;5;241m0\u001b[39m], ABCSeries):\n\u001b[0;32m   1512\u001b[0m     \u001b[38;5;66;03m# GH#43986 Need to do list(mapped) in order to get treated as nested\u001b[39;00m\n\u001b[0;32m   1513\u001b[0m     \u001b[38;5;66;03m#  See also GH#25959 regarding EA support\u001b[39;00m\n\u001b[0;32m   1514\u001b[0m     \u001b[38;5;28;01mreturn\u001b[39;00m obj\u001b[38;5;241m.\u001b[39m_constructor_expanddim(\u001b[38;5;28mlist\u001b[39m(mapped), index\u001b[38;5;241m=\u001b[39mobj\u001b[38;5;241m.\u001b[39mindex)\n",
      "File \u001b[1;32mc:\\Users\\Asus\\AppData\\Local\\Programs\\Python\\Python312\\Lib\\site-packages\\pandas\\core\\base.py:921\u001b[0m, in \u001b[0;36mIndexOpsMixin._map_values\u001b[1;34m(self, mapper, na_action, convert)\u001b[0m\n\u001b[0;32m    918\u001b[0m \u001b[38;5;28;01mif\u001b[39;00m \u001b[38;5;28misinstance\u001b[39m(arr, ExtensionArray):\n\u001b[0;32m    919\u001b[0m     \u001b[38;5;28;01mreturn\u001b[39;00m arr\u001b[38;5;241m.\u001b[39mmap(mapper, na_action\u001b[38;5;241m=\u001b[39mna_action)\n\u001b[1;32m--> 921\u001b[0m \u001b[38;5;28;01mreturn\u001b[39;00m \u001b[43malgorithms\u001b[49m\u001b[38;5;241;43m.\u001b[39;49m\u001b[43mmap_array\u001b[49m\u001b[43m(\u001b[49m\u001b[43marr\u001b[49m\u001b[43m,\u001b[49m\u001b[43m \u001b[49m\u001b[43mmapper\u001b[49m\u001b[43m,\u001b[49m\u001b[43m \u001b[49m\u001b[43mna_action\u001b[49m\u001b[38;5;241;43m=\u001b[39;49m\u001b[43mna_action\u001b[49m\u001b[43m,\u001b[49m\u001b[43m \u001b[49m\u001b[43mconvert\u001b[49m\u001b[38;5;241;43m=\u001b[39;49m\u001b[43mconvert\u001b[49m\u001b[43m)\u001b[49m\n",
      "File \u001b[1;32mc:\\Users\\Asus\\AppData\\Local\\Programs\\Python\\Python312\\Lib\\site-packages\\pandas\\core\\algorithms.py:1743\u001b[0m, in \u001b[0;36mmap_array\u001b[1;34m(arr, mapper, na_action, convert)\u001b[0m\n\u001b[0;32m   1741\u001b[0m values \u001b[38;5;241m=\u001b[39m arr\u001b[38;5;241m.\u001b[39mastype(\u001b[38;5;28mobject\u001b[39m, copy\u001b[38;5;241m=\u001b[39m\u001b[38;5;28;01mFalse\u001b[39;00m)\n\u001b[0;32m   1742\u001b[0m \u001b[38;5;28;01mif\u001b[39;00m na_action \u001b[38;5;129;01mis\u001b[39;00m \u001b[38;5;28;01mNone\u001b[39;00m:\n\u001b[1;32m-> 1743\u001b[0m     \u001b[38;5;28;01mreturn\u001b[39;00m \u001b[43mlib\u001b[49m\u001b[38;5;241;43m.\u001b[39;49m\u001b[43mmap_infer\u001b[49m\u001b[43m(\u001b[49m\u001b[43mvalues\u001b[49m\u001b[43m,\u001b[49m\u001b[43m \u001b[49m\u001b[43mmapper\u001b[49m\u001b[43m,\u001b[49m\u001b[43m \u001b[49m\u001b[43mconvert\u001b[49m\u001b[38;5;241;43m=\u001b[39;49m\u001b[43mconvert\u001b[49m\u001b[43m)\u001b[49m\n\u001b[0;32m   1744\u001b[0m \u001b[38;5;28;01melse\u001b[39;00m:\n\u001b[0;32m   1745\u001b[0m     \u001b[38;5;28;01mreturn\u001b[39;00m lib\u001b[38;5;241m.\u001b[39mmap_infer_mask(\n\u001b[0;32m   1746\u001b[0m         values, mapper, mask\u001b[38;5;241m=\u001b[39misna(values)\u001b[38;5;241m.\u001b[39mview(np\u001b[38;5;241m.\u001b[39muint8), convert\u001b[38;5;241m=\u001b[39mconvert\n\u001b[0;32m   1747\u001b[0m     )\n",
      "File \u001b[1;32mlib.pyx:2972\u001b[0m, in \u001b[0;36mpandas._libs.lib.map_infer\u001b[1;34m()\u001b[0m\n",
      "Cell \u001b[1;32mIn[36], line 9\u001b[0m, in \u001b[0;36mstemming\u001b[1;34m(text)\u001b[0m\n\u001b[0;32m      8\u001b[0m \u001b[38;5;28;01mdef\u001b[39;00m \u001b[38;5;21mstemming\u001b[39m(text):\n\u001b[1;32m----> 9\u001b[0m     text \u001b[38;5;241m=\u001b[39m \u001b[43mstemmer\u001b[49m\u001b[38;5;241;43m.\u001b[39;49m\u001b[43mstem\u001b[49m\u001b[43m(\u001b[49m\u001b[43mtext\u001b[49m\u001b[43m)\u001b[49m\n\u001b[0;32m     10\u001b[0m     \u001b[38;5;28;01mreturn\u001b[39;00m text\n",
      "File \u001b[1;32mc:\\Users\\Asus\\AppData\\Local\\Programs\\Python\\Python312\\Lib\\site-packages\\Sastrawi\\Stemmer\\CachedStemmer.py:20\u001b[0m, in \u001b[0;36mCachedStemmer.stem\u001b[1;34m(self, text)\u001b[0m\n\u001b[0;32m     18\u001b[0m     stems\u001b[38;5;241m.\u001b[39mappend(\u001b[38;5;28mself\u001b[39m\u001b[38;5;241m.\u001b[39mcache\u001b[38;5;241m.\u001b[39mget(word))\n\u001b[0;32m     19\u001b[0m \u001b[38;5;28;01melse\u001b[39;00m:\n\u001b[1;32m---> 20\u001b[0m     stem \u001b[38;5;241m=\u001b[39m \u001b[38;5;28;43mself\u001b[39;49m\u001b[38;5;241;43m.\u001b[39;49m\u001b[43mdelegatedStemmer\u001b[49m\u001b[38;5;241;43m.\u001b[39;49m\u001b[43mstem\u001b[49m\u001b[43m(\u001b[49m\u001b[43mword\u001b[49m\u001b[43m)\u001b[49m\n\u001b[0;32m     21\u001b[0m     \u001b[38;5;28mself\u001b[39m\u001b[38;5;241m.\u001b[39mcache\u001b[38;5;241m.\u001b[39mset(word, stem)\n\u001b[0;32m     22\u001b[0m     stems\u001b[38;5;241m.\u001b[39mappend(stem)\n",
      "File \u001b[1;32mc:\\Users\\Asus\\AppData\\Local\\Programs\\Python\\Python312\\Lib\\site-packages\\Sastrawi\\Stemmer\\Stemmer.py:27\u001b[0m, in \u001b[0;36mStemmer.stem\u001b[1;34m(self, text)\u001b[0m\n\u001b[0;32m     24\u001b[0m stems \u001b[38;5;241m=\u001b[39m []\n\u001b[0;32m     26\u001b[0m \u001b[38;5;28;01mfor\u001b[39;00m word \u001b[38;5;129;01min\u001b[39;00m words:\n\u001b[1;32m---> 27\u001b[0m     stems\u001b[38;5;241m.\u001b[39mappend(\u001b[38;5;28;43mself\u001b[39;49m\u001b[38;5;241;43m.\u001b[39;49m\u001b[43mstem_word\u001b[49m\u001b[43m(\u001b[49m\u001b[43mword\u001b[49m\u001b[43m)\u001b[49m)\n\u001b[0;32m     29\u001b[0m \u001b[38;5;28;01mreturn\u001b[39;00m \u001b[38;5;124m'\u001b[39m\u001b[38;5;124m \u001b[39m\u001b[38;5;124m'\u001b[39m\u001b[38;5;241m.\u001b[39mjoin(stems)\n",
      "File \u001b[1;32mc:\\Users\\Asus\\AppData\\Local\\Programs\\Python\\Python312\\Lib\\site-packages\\Sastrawi\\Stemmer\\Stemmer.py:36\u001b[0m, in \u001b[0;36mStemmer.stem_word\u001b[1;34m(self, word)\u001b[0m\n\u001b[0;32m     34\u001b[0m     \u001b[38;5;28;01mreturn\u001b[39;00m \u001b[38;5;28mself\u001b[39m\u001b[38;5;241m.\u001b[39mstem_plural_word(word)\n\u001b[0;32m     35\u001b[0m \u001b[38;5;28;01melse\u001b[39;00m:\n\u001b[1;32m---> 36\u001b[0m     \u001b[38;5;28;01mreturn\u001b[39;00m \u001b[38;5;28;43mself\u001b[39;49m\u001b[38;5;241;43m.\u001b[39;49m\u001b[43mstem_singular_word\u001b[49m\u001b[43m(\u001b[49m\u001b[43mword\u001b[49m\u001b[43m)\u001b[49m\n",
      "File \u001b[1;32mc:\\Users\\Asus\\AppData\\Local\\Programs\\Python\\Python312\\Lib\\site-packages\\Sastrawi\\Stemmer\\Stemmer.py:84\u001b[0m, in \u001b[0;36mStemmer.stem_singular_word\u001b[1;34m(self, word)\u001b[0m\n\u001b[0;32m     82\u001b[0m \u001b[38;5;250m\u001b[39m\u001b[38;5;124;03m\"\"\"Stem a singular word to its common stem form.\"\"\"\u001b[39;00m\n\u001b[0;32m     83\u001b[0m context \u001b[38;5;241m=\u001b[39m Context(word, \u001b[38;5;28mself\u001b[39m\u001b[38;5;241m.\u001b[39mdictionary, \u001b[38;5;28mself\u001b[39m\u001b[38;5;241m.\u001b[39mvisitor_provider)\n\u001b[1;32m---> 84\u001b[0m \u001b[43mcontext\u001b[49m\u001b[38;5;241;43m.\u001b[39;49m\u001b[43mexecute\u001b[49m\u001b[43m(\u001b[49m\u001b[43m)\u001b[49m\n\u001b[0;32m     86\u001b[0m \u001b[38;5;28;01mreturn\u001b[39;00m context\u001b[38;5;241m.\u001b[39mresult\n",
      "File \u001b[1;32mc:\\Users\\Asus\\AppData\\Local\\Programs\\Python\\Python312\\Lib\\site-packages\\Sastrawi\\Stemmer\\Context\\Context.py:37\u001b[0m, in \u001b[0;36mContext.execute\u001b[1;34m(self)\u001b[0m\n\u001b[0;32m     34\u001b[0m \u001b[38;5;250m\u001b[39m\u001b[38;5;124;03m\"\"\"Execute stemming process; the result can be retrieved with result\"\"\"\u001b[39;00m\n\u001b[0;32m     36\u001b[0m \u001b[38;5;66;03m#step 1 - 5\u001b[39;00m\n\u001b[1;32m---> 37\u001b[0m \u001b[38;5;28;43mself\u001b[39;49m\u001b[38;5;241;43m.\u001b[39;49m\u001b[43mstart_stemming_process\u001b[49m\u001b[43m(\u001b[49m\u001b[43m)\u001b[49m\n\u001b[0;32m     39\u001b[0m \u001b[38;5;66;03m#step 6\u001b[39;00m\n\u001b[0;32m     40\u001b[0m \u001b[38;5;28;01mif\u001b[39;00m \u001b[38;5;28mself\u001b[39m\u001b[38;5;241m.\u001b[39mdictionary\u001b[38;5;241m.\u001b[39mcontains(\u001b[38;5;28mself\u001b[39m\u001b[38;5;241m.\u001b[39mcurrent_word):\n",
      "File \u001b[1;32mc:\\Users\\Asus\\AppData\\Local\\Programs\\Python\\Python312\\Lib\\site-packages\\Sastrawi\\Stemmer\\Context\\Context.py:80\u001b[0m, in \u001b[0;36mContext.start_stemming_process\u001b[1;34m(self)\u001b[0m\n\u001b[0;32m     77\u001b[0m     \u001b[38;5;28;01mreturn\u001b[39;00m\n\u001b[0;32m     79\u001b[0m \u001b[38;5;66;03m#step 4, 5\u001b[39;00m\n\u001b[1;32m---> 80\u001b[0m \u001b[38;5;28;43mself\u001b[39;49m\u001b[38;5;241;43m.\u001b[39;49m\u001b[43mremove_prefixes\u001b[49m\u001b[43m(\u001b[49m\u001b[43m)\u001b[49m\n\u001b[0;32m     81\u001b[0m \u001b[38;5;28;01mif\u001b[39;00m \u001b[38;5;28mself\u001b[39m\u001b[38;5;241m.\u001b[39mdictionary\u001b[38;5;241m.\u001b[39mcontains(\u001b[38;5;28mself\u001b[39m\u001b[38;5;241m.\u001b[39mcurrent_word):\n\u001b[0;32m     82\u001b[0m     \u001b[38;5;28;01mreturn\u001b[39;00m\n",
      "File \u001b[1;32mc:\\Users\\Asus\\AppData\\Local\\Programs\\Python\\Python312\\Lib\\site-packages\\Sastrawi\\Stemmer\\Context\\Context.py:89\u001b[0m, in \u001b[0;36mContext.remove_prefixes\u001b[1;34m(self)\u001b[0m\n\u001b[0;32m     87\u001b[0m \u001b[38;5;28;01mdef\u001b[39;00m \u001b[38;5;21mremove_prefixes\u001b[39m(\u001b[38;5;28mself\u001b[39m):\n\u001b[0;32m     88\u001b[0m     \u001b[38;5;28;01mfor\u001b[39;00m i \u001b[38;5;129;01min\u001b[39;00m \u001b[38;5;28mrange\u001b[39m(\u001b[38;5;241m3\u001b[39m):\n\u001b[1;32m---> 89\u001b[0m         \u001b[38;5;28;43mself\u001b[39;49m\u001b[38;5;241;43m.\u001b[39;49m\u001b[43maccept_prefix_visitors\u001b[49m\u001b[43m(\u001b[49m\u001b[38;5;28;43mself\u001b[39;49m\u001b[38;5;241;43m.\u001b[39;49m\u001b[43mprefix_pisitors\u001b[49m\u001b[43m)\u001b[49m\n\u001b[0;32m     90\u001b[0m         \u001b[38;5;28;01mif\u001b[39;00m \u001b[38;5;28mself\u001b[39m\u001b[38;5;241m.\u001b[39mdictionary\u001b[38;5;241m.\u001b[39mcontains(\u001b[38;5;28mself\u001b[39m\u001b[38;5;241m.\u001b[39mcurrent_word):\n\u001b[0;32m     91\u001b[0m             \u001b[38;5;28;01mreturn\u001b[39;00m\n",
      "File \u001b[1;32mc:\\Users\\Asus\\AppData\\Local\\Programs\\Python\\Python312\\Lib\\site-packages\\Sastrawi\\Stemmer\\Context\\Context.py:111\u001b[0m, in \u001b[0;36mContext.accept_prefix_visitors\u001b[1;34m(self, visitors)\u001b[0m\n\u001b[0;32m    109\u001b[0m \u001b[38;5;28;01mfor\u001b[39;00m visitor \u001b[38;5;129;01min\u001b[39;00m visitors:\n\u001b[0;32m    110\u001b[0m     \u001b[38;5;28mself\u001b[39m\u001b[38;5;241m.\u001b[39maccept(visitor)\n\u001b[1;32m--> 111\u001b[0m     \u001b[38;5;28;01mif\u001b[39;00m \u001b[38;5;28;43mself\u001b[39;49m\u001b[38;5;241;43m.\u001b[39;49m\u001b[43mdictionary\u001b[49m\u001b[38;5;241;43m.\u001b[39;49m\u001b[43mcontains\u001b[49m\u001b[43m(\u001b[49m\u001b[38;5;28;43mself\u001b[39;49m\u001b[38;5;241;43m.\u001b[39;49m\u001b[43mcurrent_word\u001b[49m\u001b[43m)\u001b[49m:\n\u001b[0;32m    112\u001b[0m         \u001b[38;5;28;01mreturn\u001b[39;00m \u001b[38;5;28mself\u001b[39m\u001b[38;5;241m.\u001b[39mcurrent_word\n\u001b[0;32m    113\u001b[0m     \u001b[38;5;28;01mif\u001b[39;00m \u001b[38;5;28mself\u001b[39m\u001b[38;5;241m.\u001b[39mprocess_is_stopped:\n",
      "File \u001b[1;32mc:\\Users\\Asus\\AppData\\Local\\Programs\\Python\\Python312\\Lib\\site-packages\\Sastrawi\\Dictionary\\ArrayDictionary.py:9\u001b[0m, in \u001b[0;36mArrayDictionary.contains\u001b[1;34m(self, word)\u001b[0m\n\u001b[0;32m      6\u001b[0m     \u001b[38;5;28;01mif\u001b[39;00m words:\n\u001b[0;32m      7\u001b[0m         \u001b[38;5;28mself\u001b[39m\u001b[38;5;241m.\u001b[39madd_words(words)\n\u001b[1;32m----> 9\u001b[0m \u001b[38;5;28;01mdef\u001b[39;00m \u001b[38;5;21mcontains\u001b[39m(\u001b[38;5;28mself\u001b[39m, word):\n\u001b[0;32m     10\u001b[0m     \u001b[38;5;28;01mreturn\u001b[39;00m word \u001b[38;5;129;01min\u001b[39;00m \u001b[38;5;28mself\u001b[39m\u001b[38;5;241m.\u001b[39mwords\n\u001b[0;32m     12\u001b[0m \u001b[38;5;28;01mdef\u001b[39;00m \u001b[38;5;21mcount\u001b[39m(\u001b[38;5;28mself\u001b[39m):\n",
      "\u001b[1;31mKeyboardInterrupt\u001b[0m: "
     ]
    }
   ],
   "source": [
    "#stemmer versi dasar\n",
    "from Sastrawi.Stemmer.StemmerFactory import StemmerFactory\n",
    "\n",
    "\n",
    "factory = StemmerFactory()\n",
    "stemmer = factory.create_stemmer()\n",
    "\n",
    "# Membuat fungsi stopword removal dan stemming\n",
    "def stemming(text):\n",
    "    text = stemmer.stem(text)\n",
    "    return text\n",
    "\n",
    "# #menghapus kata tribunnews\n",
    "# def remove_tribunnews(text):\n",
    "#     text = text.replace('tribunnews', '')\n",
    "#     return text\n",
    "\n",
    "# tokenisasi menggunakan nltk\n",
    "\n",
    "# import nltk\n",
    "# nltk.download('punkt')\n",
    "# from nltk.tokenize import word_tokenize\n",
    "\n",
    "# # Membuat fungsi tokenisasi\n",
    "# def tokenisasi(text):\n",
    "#     return word_tokenize(text)\n",
    "\n",
    "# # Menerapkan fungsi remove_tribunnews ke kolom \"Isi Artikel\" dan \"Judul\"\n",
    "# df['Judul'] = df['Judul'].apply(remove_tribunnews)\n",
    "\n",
    "# Menerapkan fungsi stopword removal dan stemming ke kolom \"Isi Artikel\" dan \"Judul\"\n",
    "df['Judul'] = df['Judul'].apply(stemming)\n",
    "df['Isi Artikel'] = df['Isi Artikel'].apply(stemming)\n",
    "\n",
    "# # Menerapkan fungsi tokenisasi ke kolom \"Isi Artikel\" dan \"Judul\"\n",
    "# df['Judul'] = df['Judul'].apply(tokenisasi)\n",
    "# df['Isi Artikel'] = df['Isi Artikel'].apply(tokenisasi)\n",
    "\n",
    "\n"
   ]
  },
  {
   "cell_type": "code",
   "execution_count": null,
   "metadata": {},
   "outputs": [
    {
     "name": "stderr",
     "output_type": "stream",
     "text": [
      "c:\\Users\\Asus\\AppData\\Local\\Programs\\Python\\Python312\\Lib\\site-packages\\numpy\\core\\fromnumeric.py:59: FutureWarning: 'DataFrame.swapaxes' is deprecated and will be removed in a future version. Please use 'DataFrame.transpose' instead.\n",
      "  return bound(*args, **kwds)\n"
     ]
    },
    {
     "ename": "",
     "evalue": "",
     "output_type": "error",
     "traceback": [
      "\u001b[1;31mCannot execute code, session has been disposed. Please try restarting the Kernel."
     ]
    },
    {
     "ename": "",
     "evalue": "",
     "output_type": "error",
     "traceback": [
      "\u001b[1;31mCannot execute code, session has been disposed. Please try restarting the Kernel. \n",
      "\u001b[1;31mView Jupyter <a href='command:jupyter.viewOutput'>log</a> for further details."
     ]
    }
   ],
   "source": [
    "#stemmer versi cepat sikit\n",
    "import pandas as pd\n",
    "from Sastrawi.Stemmer.StemmerFactory import StemmerFactory\n",
    "from multiprocessing import Pool, cpu_count\n",
    "import numpy as np\n",
    "\n",
    "# Initialize the stemmer\n",
    "factory = StemmerFactory()\n",
    "stemmer = factory.create_stemmer()\n",
    "\n",
    "# Define the stemming function\n",
    "def stemming(text):\n",
    "    return stemmer.stem(text)\n",
    "\n",
    "# Function to apply stemming in parallel\n",
    "def parallelize_dataframe(df, func):\n",
    "    num_partitions = cpu_count()  # Number of partitions to split dataframe\n",
    "    num_cores = cpu_count()  # Number of cores on your machine\n",
    "    df_split = np.array_split(df, num_partitions)\n",
    "    pool = Pool(num_cores)\n",
    "    df = pd.concat(pool.map(func, df_split))\n",
    "    pool.close()\n",
    "    pool.join()\n",
    "    return df\n",
    "\n",
    "# Function to apply stemming to a dataframe\n",
    "def apply_stemming(df):\n",
    "    df['Judul'] = df['Judul'].apply(stemming)\n",
    "    df['Isi Artikel'] = df['Isi Artikel'].apply(stemming)\n",
    "    return df\n",
    "\n",
    "# Assuming df is already loaded\n",
    "# Apply stemming in parallel\n",
    "df = parallelize_dataframe(df, apply_stemming)\n",
    "\n",
    "# Save the processed dataframe to a new CSV file if needed\n",
    "# df.to_csv('processed_file.csv', index=False)"
   ]
  },
  {
   "cell_type": "code",
   "execution_count": null,
   "metadata": {},
   "outputs": [],
   "source": [
    "#tokenisasi menggunakan nltk\n",
    "\n",
    "import nltk\n",
    "nltk.download('punkt')\n",
    "from nltk.tokenize import word_tokenize\n",
    "\n",
    "# Membuat fungsi tokenisasi\n",
    "def tokenisasi(text):\n",
    "    return word_tokenize(text)\n",
    "\n",
    "# Menerapkan fungsi tokenisasi ke kolom \"Isi Artikel\" dan \"Judul\"\n",
    "df['Judul'] = df['Judul'].apply(tokenisasi)\n",
    "df['Isi Artikel'] = df['Isi Artikel'].apply(tokenisasi)\n",
    "\n",
    "df.head()"
   ]
  },
  {
   "cell_type": "code",
   "execution_count": null,
   "metadata": {},
   "outputs": [],
   "source": [
    "# # tokenisasi menggunakan nltk mengunakan indonlp\n",
    "# %pip install indonlp\n",
    "\n",
    "# from indonlp.tokenize import Tokenizer\n",
    "\n",
    "# tokenizer = Tokenizer()\n",
    "\n",
    "# # Membuat fungsi tokenisasi\n",
    "# def tokenisasi(text):\n",
    "#     return tokenizer.tokenize(text)\n",
    "\n",
    "# # Menerapkan fungsi tokenisasi ke kolom \"Isi Artikel\" dan \"Judul\"\n",
    "# df['Judul'] = df['Judul'].apply(tokenisasi)\n",
    "# df['Isi Artikel'] = df['Isi Artikel'].apply(tokenisasi)\n",
    "\n",
    "# tokenisasi menggunakan nltk\n",
    "\n",
    "# import nltk\n",
    "# nltk.download('punkt')\n",
    "# from nltk.tokenize import word_tokenize\n",
    "\n",
    "# # Membuat fungsi tokenisasi\n",
    "# def tokenisasi(text):\n",
    "#     return word_tokenize(text)\n",
    "\n",
    "\n",
    "# # Menerapkan fungsi tokenisasi ke kolom \"Isi Artikel\" dan \"Judul\"\n",
    "# df['Judul'] = df['Judul'].apply(tokenisasi)\n",
    "# df['Isi Artikel'] = df['Isi Artikel'].apply(tokenisasi)"
   ]
  },
  {
   "cell_type": "code",
   "execution_count": null,
   "metadata": {},
   "outputs": [],
   "source": [
    "# #Persiapan Data untuk Model\n",
    "# from sklearn.feature_extraction.text import TfidfVectorizer\n",
    "# from sklearn.preprocessing import LabelEncoder\n",
    "\n",
    "# # Vectorizing teks dengan TF-IDF\n",
    "# vectorizer = TfidfVectorizer(max_features=5000)  # Membatasi jumlah fitur (kata) yang digunakan\n",
    "# X = vectorizer.fit_transform(df['stemmed_isi_artikel'])\n",
    "\n",
    "# # Label Encoding untuk kategori\n",
    "# label_encoder = LabelEncoder()\n",
    "# y = label_encoder.fit_transform(df['Kategori'])\n",
    "\n",
    "# # Menampilkan shape dari data yang sudah diproses\n",
    "# print(X.shape)\n",
    "# print(y.shape)\n"
   ]
  },
  {
   "cell_type": "code",
   "execution_count": null,
   "metadata": {},
   "outputs": [],
   "source": [
    "# #vectorizing teks dengan bag of words\n",
    "# from sklearn.feature_extraction.text import CountVectorizer\n",
    "\n",
    "# # Membuat objek CountVectorizer\n",
    "# vectorizer = CountVectorizer(max_features=5000)  # Membatasi jumlah fitur (kata) yang digunakan\n",
    "# X = vectorizer.fit_transform(df['Isi Artikel'])\n",
    "\n",
    "# # Label Encoding untuk kategori\n",
    "# label_encoder = LabelEncoder()\n",
    "# y = label_encoder.fit_transform(df['Kategori'])\n",
    "\n",
    "# # Menampilkan shape dari data yang sudah diproses\n",
    "# print(X.shape)\n",
    "# print(y.shape)\n",
    "\n",
    "# # Splitting Data\n",
    "# from sklearn.model_selection import train_test_split\n",
    "\n",
    "# X_train, X_test, y_train, y_test = train_test_split(X, y, test_size=0.2, random_state=42)\n",
    "\n",
    "# # Training Model\n",
    "# from sklearn.naive_bayes import MultinomialNB\n",
    "\n",
    "# # Membuat objek MultinomialNB\n",
    "# model = MultinomialNB()\n",
    "\n",
    "# # Melakukan training model\n",
    "# model.fit(X_train, y_train)\n",
    "\n",
    "# # Evaluasi Model\n",
    "# from sklearn.metrics import classification_report\n",
    "\n",
    "# # Melakukan prediksi\n",
    "# y_pred = model.predict(X_test)\n",
    "\n",
    "# # Menampilkan classification report\n",
    "# print(classification_report(y_test, y_pred, target_names=label_encoder.classes_))\n",
    "\n",
    "# # Menyimpan model\n",
    "# import joblib\n",
    "\n",
    "# joblib.dump(vectorizer, 'vectorizer.joblib')\n",
    "# joblib.dump(label_encoder, 'label_encoder.joblib')\n",
    "# joblib.dump(model, 'model.joblib')\n",
    "\n",
    "# # Menyimpan model\n",
    "# import joblib\n",
    "\n",
    "# joblib.dump(vectorizer, 'vectorizer.joblib')\n",
    "# joblib.dump(label_encoder, 'label_encoder.joblib')\n",
    "# joblib.dump(model, 'model.joblib')\n",
    "\n"
   ]
  },
  {
   "cell_type": "code",
   "execution_count": null,
   "metadata": {},
   "outputs": [],
   "source": [
    "# #grid search\n",
    "# from sklearn.model_selection import GridSearchCV\n",
    "\n",
    "# # Membuat objek MultinomialNB\n",
    "# model = MultinomialNB()\n",
    "\n",
    "# # Membuat grid parameter\n",
    "# param_grid = {\n",
    "#     'alpha': [0.1, 0.5, 1.0, 2.0, 5.0]\n",
    "# }\n",
    "\n",
    "# # Membuat objek GridSearchCV\n",
    "# grid_search = GridSearchCV(model, param_grid, cv=5)\n",
    "\n",
    "# # Melakukan training model\n",
    "# grid_search.fit(X, y)\n",
    "\n",
    "# # Menampilkan parameter terbaik\n",
    "\n",
    "# print(grid_search.best_params_)\n",
    "\n",
    "# # Menyimpan model\n",
    "\n",
    "# joblib.dump(vectorizer, 'vectorizer.joblib')"
   ]
  }
 ],
 "metadata": {
  "kernelspec": {
   "display_name": "Python 3",
   "language": "python",
   "name": "python3"
  },
  "language_info": {
   "codemirror_mode": {
    "name": "ipython",
    "version": 3
   },
   "file_extension": ".py",
   "mimetype": "text/x-python",
   "name": "python",
   "nbconvert_exporter": "python",
   "pygments_lexer": "ipython3",
   "version": "3.12.5"
  }
 },
 "nbformat": 4,
 "nbformat_minor": 2
}
