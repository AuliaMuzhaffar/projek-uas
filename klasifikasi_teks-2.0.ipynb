{
 "cells": [
  {
   "cell_type": "code",
   "execution_count": 5,
   "metadata": {},
   "outputs": [],
   "source": [
    "\n",
    "import pandas as pd"
   ]
  },
  {
   "cell_type": "code",
   "execution_count": 6,
   "metadata": {},
   "outputs": [
    {
     "data": {
      "text/html": [
       "<div>\n",
       "<style scoped>\n",
       "    .dataframe tbody tr th:only-of-type {\n",
       "        vertical-align: middle;\n",
       "    }\n",
       "\n",
       "    .dataframe tbody tr th {\n",
       "        vertical-align: top;\n",
       "    }\n",
       "\n",
       "    .dataframe thead th {\n",
       "        text-align: right;\n",
       "    }\n",
       "</style>\n",
       "<table border=\"1\" class=\"dataframe\">\n",
       "  <thead>\n",
       "    <tr style=\"text-align: right;\">\n",
       "      <th></th>\n",
       "      <th>Judul</th>\n",
       "      <th>Tanggal</th>\n",
       "      <th>Penulis</th>\n",
       "      <th>Editor</th>\n",
       "      <th>Isi Artikel</th>\n",
       "      <th>Kategori</th>\n",
       "    </tr>\n",
       "  </thead>\n",
       "  <tbody>\n",
       "    <tr>\n",
       "      <th>0</th>\n",
       "      <td>Susno Duadji dan Hotman Paris Beda Pendapat so...</td>\n",
       "      <td>Selasa, 30 Juli 2024 21:25 WIB</td>\n",
       "      <td>Hasanudin Aco</td>\n",
       "      <td>Editor tidak ditemukan</td>\n",
       "      <td>TRIBUNNEWS.COM, JAKARTA -  Pengacara kondang H...</td>\n",
       "      <td>nasional</td>\n",
       "    </tr>\n",
       "    <tr>\n",
       "      <th>1</th>\n",
       "      <td>BREAKING NEWS: Jokowi Benarkan Adanya Pemotong...</td>\n",
       "      <td>Senin, 27 Mei 2024 22:42 WIB</td>\n",
       "      <td>Taufik Ismail</td>\n",
       "      <td>Acos Abdul Qodir</td>\n",
       "      <td>Laporan Wartawan Tribunnews Taufik Ismail\\nTRI...</td>\n",
       "      <td>nasional</td>\n",
       "    </tr>\n",
       "    <tr>\n",
       "      <th>2</th>\n",
       "      <td>6 'Kemewahan' Nayunda dari SYL: Saweran Ratusa...</td>\n",
       "      <td>Rabu, 29 Mei 2024 21:31 WIB</td>\n",
       "      <td>Faryyanida Putwiliani</td>\n",
       "      <td>Garudea Prabawati</td>\n",
       "      <td>TRIBUNNEWS.COM - Penyanyi dangdut Nayunda Nabi...</td>\n",
       "      <td>nasional</td>\n",
       "    </tr>\n",
       "    <tr>\n",
       "      <th>3</th>\n",
       "      <td>Peran Ditjen Administrasi Hukum Umum Diganjar ...</td>\n",
       "      <td>Rabu, 21 Agustus 2024 20:45 WIB</td>\n",
       "      <td>Ilham Rian Pratama</td>\n",
       "      <td>Wahyu Aji</td>\n",
       "      <td>TRIBUNNEWS.COM, JAKARTA - Direktorat Jenderal ...</td>\n",
       "      <td>nasional</td>\n",
       "    </tr>\n",
       "    <tr>\n",
       "      <th>4</th>\n",
       "      <td>Senator Bali Dipecat Badan Kehormatan DPD RI, ...</td>\n",
       "      <td>Jumat, 2 Februari 2024 18:09 WIB</td>\n",
       "      <td>Chaerul Umam</td>\n",
       "      <td>Dodi Esvandi</td>\n",
       "      <td>Laporan Wartawan Tribunnews.com, Chaerul Umam\\...</td>\n",
       "      <td>nasional</td>\n",
       "    </tr>\n",
       "  </tbody>\n",
       "</table>\n",
       "</div>"
      ],
      "text/plain": [
       "                                               Judul  \\\n",
       "0  Susno Duadji dan Hotman Paris Beda Pendapat so...   \n",
       "1  BREAKING NEWS: Jokowi Benarkan Adanya Pemotong...   \n",
       "2  6 'Kemewahan' Nayunda dari SYL: Saweran Ratusa...   \n",
       "3  Peran Ditjen Administrasi Hukum Umum Diganjar ...   \n",
       "4  Senator Bali Dipecat Badan Kehormatan DPD RI, ...   \n",
       "\n",
       "                            Tanggal                Penulis  \\\n",
       "0    Selasa, 30 Juli 2024 21:25 WIB          Hasanudin Aco   \n",
       "1      Senin, 27 Mei 2024 22:42 WIB          Taufik Ismail   \n",
       "2       Rabu, 29 Mei 2024 21:31 WIB  Faryyanida Putwiliani   \n",
       "3   Rabu, 21 Agustus 2024 20:45 WIB     Ilham Rian Pratama   \n",
       "4  Jumat, 2 Februari 2024 18:09 WIB           Chaerul Umam   \n",
       "\n",
       "                   Editor                                        Isi Artikel  \\\n",
       "0  Editor tidak ditemukan  TRIBUNNEWS.COM, JAKARTA -  Pengacara kondang H...   \n",
       "1        Acos Abdul Qodir  Laporan Wartawan Tribunnews Taufik Ismail\\nTRI...   \n",
       "2       Garudea Prabawati  TRIBUNNEWS.COM - Penyanyi dangdut Nayunda Nabi...   \n",
       "3               Wahyu Aji  TRIBUNNEWS.COM, JAKARTA - Direktorat Jenderal ...   \n",
       "4            Dodi Esvandi  Laporan Wartawan Tribunnews.com, Chaerul Umam\\...   \n",
       "\n",
       "   Kategori  \n",
       "0  nasional  \n",
       "1  nasional  \n",
       "2  nasional  \n",
       "3  nasional  \n",
       "4  nasional  "
      ]
     },
     "execution_count": 6,
     "metadata": {},
     "output_type": "execute_result"
    }
   ],
   "source": [
    "df = pd.read_csv('artikel.csv')\n",
    "df.head()"
   ]
  },
  {
   "cell_type": "markdown",
   "metadata": {},
   "source": [
    "## Exploratory Data Analysis"
   ]
  },
  {
   "cell_type": "code",
   "execution_count": 7,
   "metadata": {},
   "outputs": [
    {
     "name": "stdout",
     "output_type": "stream",
     "text": [
      "<class 'pandas.core.frame.DataFrame'>\n",
      "RangeIndex: 27754 entries, 0 to 27753\n",
      "Data columns (total 6 columns):\n",
      " #   Column       Non-Null Count  Dtype \n",
      "---  ------       --------------  ----- \n",
      " 0   Judul        27754 non-null  object\n",
      " 1   Tanggal      27754 non-null  object\n",
      " 2   Penulis      27754 non-null  object\n",
      " 3   Editor       27754 non-null  object\n",
      " 4   Isi Artikel  27753 non-null  object\n",
      " 5   Kategori     27754 non-null  object\n",
      "dtypes: object(6)\n",
      "memory usage: 1.3+ MB\n",
      "None\n"
     ]
    }
   ],
   "source": [
    "# exploratory data analysis\n",
    "print(df.info())"
   ]
  },
  {
   "cell_type": "code",
   "execution_count": 8,
   "metadata": {},
   "outputs": [
    {
     "name": "stdout",
     "output_type": "stream",
     "text": [
      "Kategori\n",
      "regional         5000\n",
      "internasional    4998\n",
      "pendidikan       4998\n",
      "metropolitan     4989\n",
      "nasional         4854\n",
      "lifestyle        2915\n",
      "Name: count, dtype: int64\n"
     ]
    },
    {
     "data": {
      "text/plain": [
       "<Axes: xlabel='Kategori'>"
      ]
     },
     "execution_count": 8,
     "metadata": {},
     "output_type": "execute_result"
    },
    {
     "data": {
      "image/png": "[encoded data removed]",
      "text/plain": [
       "<Figure size 640x480 with 1 Axes>"
      ]
     },
     "metadata": {},
     "output_type": "display_data"
    }
   ],
   "source": [
    "# tampilkan distribusi data katagori\n",
    "print(df['Kategori'].value_counts())\n",
    "# visualisasi distribusi data katagori\n",
    "df['Kategori'].value_counts().plot(kind='bar')"
   ]
  },
  {
   "cell_type": "code",
   "execution_count": 9,
   "metadata": {},
   "outputs": [
    {
     "name": "stdout",
     "output_type": "stream",
     "text": [
      "Judul          0\n",
      "Tanggal        0\n",
      "Penulis        0\n",
      "Editor         0\n",
      "Isi Artikel    1\n",
      "Kategori       0\n",
      "dtype: int64\n"
     ]
    }
   ],
   "source": [
    "#cek isian data kosong\n",
    "\n",
    "print(df.isnull().sum())"
   ]
  },
  {
   "cell_type": "code",
   "execution_count": 10,
   "metadata": {},
   "outputs": [
    {
     "name": "stdout",
     "output_type": "stream",
     "text": [
      "Judul          0\n",
      "Tanggal        0\n",
      "Penulis        0\n",
      "Editor         0\n",
      "Isi Artikel    0\n",
      "Kategori       0\n",
      "dtype: int64\n"
     ]
    }
   ],
   "source": [
    "#hapus baris data yang kosong\n",
    "df = df.dropna()\n",
    "print(df.isnull().sum())"
   ]
  },
  {
   "cell_type": "code",
   "execution_count": 11,
   "metadata": {},
   "outputs": [
    {
     "name": "stdout",
     "output_type": "stream",
     "text": [
      "Kategori\n",
      "regional         5000\n",
      "internasional    4998\n",
      "pendidikan       4998\n",
      "metropolitan     4988\n",
      "nasional         4854\n",
      "lifestyle        2915\n",
      "Name: count, dtype: int64\n"
     ]
    },
    {
     "data": {
      "text/plain": [
       "<Axes: xlabel='Kategori'>"
      ]
     },
     "execution_count": 11,
     "metadata": {},
     "output_type": "execute_result"
    },
    {
     "data": {
      "image/png": "[encoded data removed]",
      "text/plain": [
       "<Figure size 640x480 with 1 Axes>"
      ]
     },
     "metadata": {},
     "output_type": "display_data"
    }
   ],
   "source": [
    "# tampilkan distribusi data katagori\n",
    "print(df['Kategori'].value_counts())\n",
    "# visualisasi distribusi data katagori\n",
    "df['Kategori'].value_counts().plot(kind='bar')"
   ]
  },
  {
   "cell_type": "markdown",
   "metadata": {},
   "source": [
    "## Prepocessing Data"
   ]
  },
  {
   "cell_type": "code",
   "execution_count": 12,
   "metadata": {},
   "outputs": [],
   "source": [
    "import re\n",
    "\n",
    "# Fungsi untuk membersihkan teks\n",
    "def clean_text(text):\n",
    "    # Menghapus URL\n",
    "    text = re.sub(r'http\\S+', '', text)\n",
    "    # Menghapus karakter non-alfabet dan mengubahnya menjadi huruf kecil\n",
    "    text = re.sub(r'[^a-zA-Z0-9\\s]', '', text)\n",
    "    text = text.lower()\n",
    "    # Menghapus spasi berlebih\n",
    "    text = ' '.join(text.split())\n",
    "    # # Menghapus angka\n",
    "    # text = re.sub(r'\\d+', '', text)\n",
    "    # menghapus tag html\n",
    "    text = re.sub(r'<.*?>', '', text)\n",
    "    # menghapus karakter tanda baca\n",
    "    text = re.sub(r'[^\\w\\s]', '', text)\n",
    "    # menghapus -, +, *, /, =, dll\n",
    "    text = re.sub(r'[-+*/=]', '', text)\n",
    "    return text\n",
    "\n",
    "# # Menerapkan fungsi pembersihan ke kolom \"Isi Artikel\" dan \"Judul\"\n",
    "# df['juduldf['Isi Artikel'].apply(clean_text)\n",
    "# df['Judul'].apply(clean_text)\n",
    "\n",
    "# # Fill NaN values with an empty string\n",
    "# df['Judul'] = df['Judul'].fillna('')\n",
    "# df['Isi Artikel'] = df['Isi Artikel'].fillna('')\n",
    "\n",
    "df['Judul'] = df['Judul'].apply(clean_text)\n",
    "df['Isi Artikel'] = df['Isi Artikel'].apply(clean_text)"
   ]
  },
  {
   "cell_type": "code",
   "execution_count": 13,
   "metadata": {},
   "outputs": [
    {
     "data": {
      "text/html": [
       "<div>\n",
       "<style scoped>\n",
       "    .dataframe tbody tr th:only-of-type {\n",
       "        vertical-align: middle;\n",
       "    }\n",
       "\n",
       "    .dataframe tbody tr th {\n",
       "        vertical-align: top;\n",
       "    }\n",
       "\n",
       "    .dataframe thead th {\n",
       "        text-align: right;\n",
       "    }\n",
       "</style>\n",
       "<table border=\"1\" class=\"dataframe\">\n",
       "  <thead>\n",
       "    <tr style=\"text-align: right;\">\n",
       "      <th></th>\n",
       "      <th>Judul</th>\n",
       "      <th>Tanggal</th>\n",
       "      <th>Penulis</th>\n",
       "      <th>Editor</th>\n",
       "      <th>Isi Artikel</th>\n",
       "      <th>Kategori</th>\n",
       "    </tr>\n",
       "  </thead>\n",
       "  <tbody>\n",
       "    <tr>\n",
       "      <th>0</th>\n",
       "      <td>susno duadji dan hotman paris beda pendapat so...</td>\n",
       "      <td>Selasa, 30 Juli 2024 21:25 WIB</td>\n",
       "      <td>Hasanudin Aco</td>\n",
       "      <td>Editor tidak ditemukan</td>\n",
       "      <td>tribunnewscom jakarta pengacara kondang hotman...</td>\n",
       "      <td>nasional</td>\n",
       "    </tr>\n",
       "    <tr>\n",
       "      <th>1</th>\n",
       "      <td>breaking news jokowi benarkan adanya pemotonga...</td>\n",
       "      <td>Senin, 27 Mei 2024 22:42 WIB</td>\n",
       "      <td>Taufik Ismail</td>\n",
       "      <td>Acos Abdul Qodir</td>\n",
       "      <td>laporan wartawan tribunnews taufik ismail trib...</td>\n",
       "      <td>nasional</td>\n",
       "    </tr>\n",
       "    <tr>\n",
       "      <th>2</th>\n",
       "      <td>6 kemewahan nayunda dari syl saweran ratusan j...</td>\n",
       "      <td>Rabu, 29 Mei 2024 21:31 WIB</td>\n",
       "      <td>Faryyanida Putwiliani</td>\n",
       "      <td>Garudea Prabawati</td>\n",
       "      <td>tribunnewscom penyanyi dangdut nayunda nabila ...</td>\n",
       "      <td>nasional</td>\n",
       "    </tr>\n",
       "    <tr>\n",
       "      <th>3</th>\n",
       "      <td>peran ditjen administrasi hukum umum diganjar ...</td>\n",
       "      <td>Rabu, 21 Agustus 2024 20:45 WIB</td>\n",
       "      <td>Ilham Rian Pratama</td>\n",
       "      <td>Wahyu Aji</td>\n",
       "      <td>tribunnewscom jakarta direktorat jenderal admi...</td>\n",
       "      <td>nasional</td>\n",
       "    </tr>\n",
       "    <tr>\n",
       "      <th>4</th>\n",
       "      <td>senator bali dipecat badan kehormatan dpd ri l...</td>\n",
       "      <td>Jumat, 2 Februari 2024 18:09 WIB</td>\n",
       "      <td>Chaerul Umam</td>\n",
       "      <td>Dodi Esvandi</td>\n",
       "      <td>laporan wartawan tribunnewscom chaerul umam tr...</td>\n",
       "      <td>nasional</td>\n",
       "    </tr>\n",
       "  </tbody>\n",
       "</table>\n",
       "</div>"
      ],
      "text/plain": [
       "                                               Judul  \\\n",
       "0  susno duadji dan hotman paris beda pendapat so...   \n",
       "1  breaking news jokowi benarkan adanya pemotonga...   \n",
       "2  6 kemewahan nayunda dari syl saweran ratusan j...   \n",
       "3  peran ditjen administrasi hukum umum diganjar ...   \n",
       "4  senator bali dipecat badan kehormatan dpd ri l...   \n",
       "\n",
       "                            Tanggal                Penulis  \\\n",
       "0    Selasa, 30 Juli 2024 21:25 WIB          Hasanudin Aco   \n",
       "1      Senin, 27 Mei 2024 22:42 WIB          Taufik Ismail   \n",
       "2       Rabu, 29 Mei 2024 21:31 WIB  Faryyanida Putwiliani   \n",
       "3   Rabu, 21 Agustus 2024 20:45 WIB     Ilham Rian Pratama   \n",
       "4  Jumat, 2 Februari 2024 18:09 WIB           Chaerul Umam   \n",
       "\n",
       "                   Editor                                        Isi Artikel  \\\n",
       "0  Editor tidak ditemukan  tribunnewscom jakarta pengacara kondang hotman...   \n",
       "1        Acos Abdul Qodir  laporan wartawan tribunnews taufik ismail trib...   \n",
       "2       Garudea Prabawati  tribunnewscom penyanyi dangdut nayunda nabila ...   \n",
       "3               Wahyu Aji  tribunnewscom jakarta direktorat jenderal admi...   \n",
       "4            Dodi Esvandi  laporan wartawan tribunnewscom chaerul umam tr...   \n",
       "\n",
       "   Kategori  \n",
       "0  nasional  \n",
       "1  nasional  \n",
       "2  nasional  \n",
       "3  nasional  \n",
       "4  nasional  "
      ]
     },
     "execution_count": 13,
     "metadata": {},
     "output_type": "execute_result"
    }
   ],
   "source": [
    "df.head()\n"
   ]
  },
  {
   "cell_type": "code",
   "execution_count": 14,
   "metadata": {},
   "outputs": [
    {
     "name": "stdout",
     "output_type": "stream",
     "text": [
      "Requirement already satisfied: Sastrawi in /usr/local/lib/python3.11/site-packages (1.0.1)\n",
      "Note: you may need to restart the kernel to use updated packages.\n"
     ]
    }
   ],
   "source": [
    "%pip install Sastrawi"
   ]
  },
  {
   "cell_type": "code",
   "execution_count": 15,
   "metadata": {},
   "outputs": [
    {
     "name": "stdout",
     "output_type": "stream",
     "text": [
      "Requirement already satisfied: nltk in /usr/local/lib/python3.11/site-packages (3.8.1)\n",
      "Requirement already satisfied: click in /usr/local/lib/python3.11/site-packages (from nltk) (8.1.7)\n",
      "Requirement already satisfied: joblib in /usr/local/lib/python3.11/site-packages (from nltk) (1.3.2)\n",
      "Requirement already satisfied: regex>=2021.8.3 in /usr/local/lib/python3.11/site-packages (from nltk) (2023.10.3)\n",
      "Requirement already satisfied: tqdm in /usr/local/lib/python3.11/site-packages (from nltk) (4.66.1)\n",
      "Note: you may need to restart the kernel to use updated packages.\n"
     ]
    }
   ],
   "source": [
    "%pip install nltk"
   ]
  },
  {
   "cell_type": "code",
   "execution_count": 16,
   "metadata": {},
   "outputs": [],
   "source": [
    "#menghapus kata tribunnews\n",
    "def remove_tribunnews(text):\n",
    "    text = text.replace('tribunnewscom', '')\n",
    "    return text\n",
    "\n",
    "# Menerapkan fungsi remove_tribunnews ke kolom \"Isi Artikel\" dan \"Judul\"\n",
    "df['Judul'] = df['Judul'].apply(remove_tribunnews)\n",
    "df['Isi Artikel'] = df['Isi Artikel'].apply(remove_tribunnews)"
   ]
  },
  {
   "cell_type": "code",
   "execution_count": 17,
   "metadata": {},
   "outputs": [
    {
     "data": {
      "text/html": [
       "<div>\n",
       "<style scoped>\n",
       "    .dataframe tbody tr th:only-of-type {\n",
       "        vertical-align: middle;\n",
       "    }\n",
       "\n",
       "    .dataframe tbody tr th {\n",
       "        vertical-align: top;\n",
       "    }\n",
       "\n",
       "    .dataframe thead th {\n",
       "        text-align: right;\n",
       "    }\n",
       "</style>\n",
       "<table border=\"1\" class=\"dataframe\">\n",
       "  <thead>\n",
       "    <tr style=\"text-align: right;\">\n",
       "      <th></th>\n",
       "      <th>Judul</th>\n",
       "      <th>Tanggal</th>\n",
       "      <th>Penulis</th>\n",
       "      <th>Editor</th>\n",
       "      <th>Isi Artikel</th>\n",
       "      <th>Kategori</th>\n",
       "    </tr>\n",
       "  </thead>\n",
       "  <tbody>\n",
       "    <tr>\n",
       "      <th>0</th>\n",
       "      <td>susno duadji dan hotman paris beda pendapat so...</td>\n",
       "      <td>Selasa, 30 Juli 2024 21:25 WIB</td>\n",
       "      <td>Hasanudin Aco</td>\n",
       "      <td>Editor tidak ditemukan</td>\n",
       "      <td>jakarta pengacara kondang hotman paris beda p...</td>\n",
       "      <td>nasional</td>\n",
       "    </tr>\n",
       "    <tr>\n",
       "      <th>1</th>\n",
       "      <td>breaking news jokowi benarkan adanya pemotonga...</td>\n",
       "      <td>Senin, 27 Mei 2024 22:42 WIB</td>\n",
       "      <td>Taufik Ismail</td>\n",
       "      <td>Acos Abdul Qodir</td>\n",
       "      <td>laporan wartawan tribunnews taufik ismail  jak...</td>\n",
       "      <td>nasional</td>\n",
       "    </tr>\n",
       "    <tr>\n",
       "      <th>2</th>\n",
       "      <td>6 kemewahan nayunda dari syl saweran ratusan j...</td>\n",
       "      <td>Rabu, 29 Mei 2024 21:31 WIB</td>\n",
       "      <td>Faryyanida Putwiliani</td>\n",
       "      <td>Garudea Prabawati</td>\n",
       "      <td>penyanyi dangdut nayunda nabila nizrinah ikut...</td>\n",
       "      <td>nasional</td>\n",
       "    </tr>\n",
       "    <tr>\n",
       "      <th>3</th>\n",
       "      <td>peran ditjen administrasi hukum umum diganjar ...</td>\n",
       "      <td>Rabu, 21 Agustus 2024 20:45 WIB</td>\n",
       "      <td>Ilham Rian Pratama</td>\n",
       "      <td>Wahyu Aji</td>\n",
       "      <td>jakarta direktorat jenderal administrasi huku...</td>\n",
       "      <td>nasional</td>\n",
       "    </tr>\n",
       "    <tr>\n",
       "      <th>4</th>\n",
       "      <td>senator bali dipecat badan kehormatan dpd ri l...</td>\n",
       "      <td>Jumat, 2 Februari 2024 18:09 WIB</td>\n",
       "      <td>Chaerul Umam</td>\n",
       "      <td>Dodi Esvandi</td>\n",
       "      <td>laporan wartawan  chaerul umam  jakarta ketua ...</td>\n",
       "      <td>nasional</td>\n",
       "    </tr>\n",
       "  </tbody>\n",
       "</table>\n",
       "</div>"
      ],
      "text/plain": [
       "                                               Judul  \\\n",
       "0  susno duadji dan hotman paris beda pendapat so...   \n",
       "1  breaking news jokowi benarkan adanya pemotonga...   \n",
       "2  6 kemewahan nayunda dari syl saweran ratusan j...   \n",
       "3  peran ditjen administrasi hukum umum diganjar ...   \n",
       "4  senator bali dipecat badan kehormatan dpd ri l...   \n",
       "\n",
       "                            Tanggal                Penulis  \\\n",
       "0    Selasa, 30 Juli 2024 21:25 WIB          Hasanudin Aco   \n",
       "1      Senin, 27 Mei 2024 22:42 WIB          Taufik Ismail   \n",
       "2       Rabu, 29 Mei 2024 21:31 WIB  Faryyanida Putwiliani   \n",
       "3   Rabu, 21 Agustus 2024 20:45 WIB     Ilham Rian Pratama   \n",
       "4  Jumat, 2 Februari 2024 18:09 WIB           Chaerul Umam   \n",
       "\n",
       "                   Editor                                        Isi Artikel  \\\n",
       "0  Editor tidak ditemukan   jakarta pengacara kondang hotman paris beda p...   \n",
       "1        Acos Abdul Qodir  laporan wartawan tribunnews taufik ismail  jak...   \n",
       "2       Garudea Prabawati   penyanyi dangdut nayunda nabila nizrinah ikut...   \n",
       "3               Wahyu Aji   jakarta direktorat jenderal administrasi huku...   \n",
       "4            Dodi Esvandi  laporan wartawan  chaerul umam  jakarta ketua ...   \n",
       "\n",
       "   Kategori  \n",
       "0  nasional  \n",
       "1  nasional  \n",
       "2  nasional  \n",
       "3  nasional  \n",
       "4  nasional  "
      ]
     },
     "execution_count": 17,
     "metadata": {},
     "output_type": "execute_result"
    }
   ],
   "source": [
    "df.head()"
   ]
  },
  {
   "cell_type": "code",
   "execution_count": 18,
   "metadata": {},
   "outputs": [
    {
     "name": "stderr",
     "output_type": "stream",
     "text": [
      "[nltk_data] Downloading package punkt to\n",
      "[nltk_data]     /Users/muksalbakrie/nltk_data...\n",
      "[nltk_data]   Package punkt is already up-to-date!\n"
     ]
    }
   ],
   "source": [
    "import nltk\n",
    "nltk.download('punkt')\n",
    "from nltk.tokenize import word_tokenize"
   ]
  },
  {
   "cell_type": "code",
   "execution_count": null,
   "metadata": {},
   "outputs": [],
   "source": [
    "from Sastrawi.StopWordRemover.StopWordRemoverFactory import StopWordRemoverFactory\n",
    "factory = StopWordRemoverFactory()\n",
    "stopword = factory.create_stop_word_remover()\n",
    "\n",
    "# Membuat fungsi stopword removal \n",
    "def stopwordd(text):\n",
    "    text = stopword.remove(text)\n",
    "    return text\n",
    "\n",
    "# Menerapkan fungsi stopword removal ke kolom \"Isi Artikel\" dan \"Judul\"\n",
    "df['Judul'] = df['Judul'].apply(stopwordd)\n",
    "df['Isi Artikel'] = df['Isi Artikel'].apply(stopwordd)"
   ]
  },
  {
   "cell_type": "code",
   "execution_count": 20,
   "metadata": {},
   "outputs": [
    {
     "data": {
      "text/html": [
       "<div>\n",
       "<style scoped>\n",
       "    .dataframe tbody tr th:only-of-type {\n",
       "        vertical-align: middle;\n",
       "    }\n",
       "\n",
       "    .dataframe tbody tr th {\n",
       "        vertical-align: top;\n",
       "    }\n",
       "\n",
       "    .dataframe thead th {\n",
       "        text-align: right;\n",
       "    }\n",
       "</style>\n",
       "<table border=\"1\" class=\"dataframe\">\n",
       "  <thead>\n",
       "    <tr style=\"text-align: right;\">\n",
       "      <th></th>\n",
       "      <th>Judul</th>\n",
       "      <th>Tanggal</th>\n",
       "      <th>Penulis</th>\n",
       "      <th>Editor</th>\n",
       "      <th>Isi Artikel</th>\n",
       "      <th>Kategori</th>\n",
       "    </tr>\n",
       "  </thead>\n",
       "  <tbody>\n",
       "    <tr>\n",
       "      <th>0</th>\n",
       "      <td>susno duadji hotman paris beda pendapat soal p...</td>\n",
       "      <td>Selasa, 30 Juli 2024 21:25 WIB</td>\n",
       "      <td>Hasanudin Aco</td>\n",
       "      <td>Editor tidak ditemukan</td>\n",
       "      <td>jakarta pengacara kondang hotman paris beda p...</td>\n",
       "      <td>nasional</td>\n",
       "    </tr>\n",
       "    <tr>\n",
       "      <th>1</th>\n",
       "      <td>breaking news jokowi benarkan adanya pemotonga...</td>\n",
       "      <td>Senin, 27 Mei 2024 22:42 WIB</td>\n",
       "      <td>Taufik Ismail</td>\n",
       "      <td>Acos Abdul Qodir</td>\n",
       "      <td>laporan wartawan tribunnews taufik ismail  jak...</td>\n",
       "      <td>nasional</td>\n",
       "    </tr>\n",
       "    <tr>\n",
       "      <th>2</th>\n",
       "      <td>6 kemewahan nayunda syl saweran ratusan juta t...</td>\n",
       "      <td>Rabu, 29 Mei 2024 21:31 WIB</td>\n",
       "      <td>Faryyanida Putwiliani</td>\n",
       "      <td>Garudea Prabawati</td>\n",
       "      <td>penyanyi dangdut nayunda nabila nizrinah ikut...</td>\n",
       "      <td>nasional</td>\n",
       "    </tr>\n",
       "    <tr>\n",
       "      <th>3</th>\n",
       "      <td>peran ditjen administrasi hukum umum diganjar ...</td>\n",
       "      <td>Rabu, 21 Agustus 2024 20:45 WIB</td>\n",
       "      <td>Ilham Rian Pratama</td>\n",
       "      <td>Wahyu Aji</td>\n",
       "      <td>jakarta direktorat jenderal administrasi huku...</td>\n",
       "      <td>nasional</td>\n",
       "    </tr>\n",
       "    <tr>\n",
       "      <th>4</th>\n",
       "      <td>senator bali dipecat badan kehormatan dpd ri l...</td>\n",
       "      <td>Jumat, 2 Februari 2024 18:09 WIB</td>\n",
       "      <td>Chaerul Umam</td>\n",
       "      <td>Dodi Esvandi</td>\n",
       "      <td>laporan wartawan  chaerul umam  jakarta ketua ...</td>\n",
       "      <td>nasional</td>\n",
       "    </tr>\n",
       "  </tbody>\n",
       "</table>\n",
       "</div>"
      ],
      "text/plain": [
       "                                               Judul  \\\n",
       "0  susno duadji hotman paris beda pendapat soal p...   \n",
       "1  breaking news jokowi benarkan adanya pemotonga...   \n",
       "2  6 kemewahan nayunda syl saweran ratusan juta t...   \n",
       "3  peran ditjen administrasi hukum umum diganjar ...   \n",
       "4  senator bali dipecat badan kehormatan dpd ri l...   \n",
       "\n",
       "                            Tanggal                Penulis  \\\n",
       "0    Selasa, 30 Juli 2024 21:25 WIB          Hasanudin Aco   \n",
       "1      Senin, 27 Mei 2024 22:42 WIB          Taufik Ismail   \n",
       "2       Rabu, 29 Mei 2024 21:31 WIB  Faryyanida Putwiliani   \n",
       "3   Rabu, 21 Agustus 2024 20:45 WIB     Ilham Rian Pratama   \n",
       "4  Jumat, 2 Februari 2024 18:09 WIB           Chaerul Umam   \n",
       "\n",
       "                   Editor                                        Isi Artikel  \\\n",
       "0  Editor tidak ditemukan   jakarta pengacara kondang hotman paris beda p...   \n",
       "1        Acos Abdul Qodir  laporan wartawan tribunnews taufik ismail  jak...   \n",
       "2       Garudea Prabawati   penyanyi dangdut nayunda nabila nizrinah ikut...   \n",
       "3               Wahyu Aji   jakarta direktorat jenderal administrasi huku...   \n",
       "4            Dodi Esvandi  laporan wartawan  chaerul umam  jakarta ketua ...   \n",
       "\n",
       "   Kategori  \n",
       "0  nasional  \n",
       "1  nasional  \n",
       "2  nasional  \n",
       "3  nasional  \n",
       "4  nasional  "
      ]
     },
     "execution_count": 20,
     "metadata": {},
     "output_type": "execute_result"
    }
   ],
   "source": [
    "df.head()"
   ]
  },
  {
   "cell_type": "code",
   "execution_count": 21,
   "metadata": {},
   "outputs": [
    {
     "name": "stderr",
     "output_type": "stream",
     "text": [
      "[nltk_data] Downloading package punkt to\n",
      "[nltk_data]     /Users/muksalbakrie/nltk_data...\n",
      "[nltk_data]   Package punkt is already up-to-date!\n"
     ]
    },
    {
     "data": {
      "text/html": [
       "<div>\n",
       "<style scoped>\n",
       "    .dataframe tbody tr th:only-of-type {\n",
       "        vertical-align: middle;\n",
       "    }\n",
       "\n",
       "    .dataframe tbody tr th {\n",
       "        vertical-align: top;\n",
       "    }\n",
       "\n",
       "    .dataframe thead th {\n",
       "        text-align: right;\n",
       "    }\n",
       "</style>\n",
       "<table border=\"1\" class=\"dataframe\">\n",
       "  <thead>\n",
       "    <tr style=\"text-align: right;\">\n",
       "      <th></th>\n",
       "      <th>Judul</th>\n",
       "      <th>Tanggal</th>\n",
       "      <th>Penulis</th>\n",
       "      <th>Editor</th>\n",
       "      <th>Isi Artikel</th>\n",
       "      <th>Kategori</th>\n",
       "    </tr>\n",
       "  </thead>\n",
       "  <tbody>\n",
       "    <tr>\n",
       "      <th>0</th>\n",
       "      <td>[susno, duadji, hotman, paris, beda, pendapat,...</td>\n",
       "      <td>Selasa, 30 Juli 2024 21:25 WIB</td>\n",
       "      <td>Hasanudin Aco</td>\n",
       "      <td>Editor tidak ditemukan</td>\n",
       "      <td>[jakarta, pengacara, kondang, hotman, paris, b...</td>\n",
       "      <td>nasional</td>\n",
       "    </tr>\n",
       "    <tr>\n",
       "      <th>1</th>\n",
       "      <td>[breaking, news, jokowi, benarkan, adanya, pem...</td>\n",
       "      <td>Senin, 27 Mei 2024 22:42 WIB</td>\n",
       "      <td>Taufik Ismail</td>\n",
       "      <td>Acos Abdul Qodir</td>\n",
       "      <td>[laporan, wartawan, tribunnews, taufik, ismail...</td>\n",
       "      <td>nasional</td>\n",
       "    </tr>\n",
       "    <tr>\n",
       "      <th>2</th>\n",
       "      <td>[6, kemewahan, nayunda, syl, saweran, ratusan,...</td>\n",
       "      <td>Rabu, 29 Mei 2024 21:31 WIB</td>\n",
       "      <td>Faryyanida Putwiliani</td>\n",
       "      <td>Garudea Prabawati</td>\n",
       "      <td>[penyanyi, dangdut, nayunda, nabila, nizrinah,...</td>\n",
       "      <td>nasional</td>\n",
       "    </tr>\n",
       "    <tr>\n",
       "      <th>3</th>\n",
       "      <td>[peran, ditjen, administrasi, hukum, umum, dig...</td>\n",
       "      <td>Rabu, 21 Agustus 2024 20:45 WIB</td>\n",
       "      <td>Ilham Rian Pratama</td>\n",
       "      <td>Wahyu Aji</td>\n",
       "      <td>[jakarta, direktorat, jenderal, administrasi, ...</td>\n",
       "      <td>nasional</td>\n",
       "    </tr>\n",
       "    <tr>\n",
       "      <th>4</th>\n",
       "      <td>[senator, bali, dipecat, badan, kehormatan, dp...</td>\n",
       "      <td>Jumat, 2 Februari 2024 18:09 WIB</td>\n",
       "      <td>Chaerul Umam</td>\n",
       "      <td>Dodi Esvandi</td>\n",
       "      <td>[laporan, wartawan, chaerul, umam, jakarta, ke...</td>\n",
       "      <td>nasional</td>\n",
       "    </tr>\n",
       "  </tbody>\n",
       "</table>\n",
       "</div>"
      ],
      "text/plain": [
       "                                               Judul  \\\n",
       "0  [susno, duadji, hotman, paris, beda, pendapat,...   \n",
       "1  [breaking, news, jokowi, benarkan, adanya, pem...   \n",
       "2  [6, kemewahan, nayunda, syl, saweran, ratusan,...   \n",
       "3  [peran, ditjen, administrasi, hukum, umum, dig...   \n",
       "4  [senator, bali, dipecat, badan, kehormatan, dp...   \n",
       "\n",
       "                            Tanggal                Penulis  \\\n",
       "0    Selasa, 30 Juli 2024 21:25 WIB          Hasanudin Aco   \n",
       "1      Senin, 27 Mei 2024 22:42 WIB          Taufik Ismail   \n",
       "2       Rabu, 29 Mei 2024 21:31 WIB  Faryyanida Putwiliani   \n",
       "3   Rabu, 21 Agustus 2024 20:45 WIB     Ilham Rian Pratama   \n",
       "4  Jumat, 2 Februari 2024 18:09 WIB           Chaerul Umam   \n",
       "\n",
       "                   Editor                                        Isi Artikel  \\\n",
       "0  Editor tidak ditemukan  [jakarta, pengacara, kondang, hotman, paris, b...   \n",
       "1        Acos Abdul Qodir  [laporan, wartawan, tribunnews, taufik, ismail...   \n",
       "2       Garudea Prabawati  [penyanyi, dangdut, nayunda, nabila, nizrinah,...   \n",
       "3               Wahyu Aji  [jakarta, direktorat, jenderal, administrasi, ...   \n",
       "4            Dodi Esvandi  [laporan, wartawan, chaerul, umam, jakarta, ke...   \n",
       "\n",
       "   Kategori  \n",
       "0  nasional  \n",
       "1  nasional  \n",
       "2  nasional  \n",
       "3  nasional  \n",
       "4  nasional  "
      ]
     },
     "execution_count": 21,
     "metadata": {},
     "output_type": "execute_result"
    }
   ],
   "source": [
    "#tokenisasi menggunakan nltk\n",
    "\n",
    "import nltk\n",
    "nltk.download('punkt')\n",
    "from nltk.tokenize import word_tokenize\n",
    "\n",
    "# Membuat fungsi tokenisasi\n",
    "def tokenisasi(text):\n",
    "    return word_tokenize(text)\n",
    "\n",
    "# Menerapkan fungsi tokenisasi ke kolom \"Isi Artikel\" dan \"Judul\"\n",
    "df['Judul'] = df['Judul'].apply(tokenisasi)\n",
    "df['Isi Artikel'] = df['Isi Artikel'].apply(tokenisasi)\n",
    "\n",
    "df.head()"
   ]
  },
  {
   "cell_type": "code",
   "execution_count": 22,
   "metadata": {},
   "outputs": [
    {
     "name": "stdout",
     "output_type": "stream",
     "text": [
      "    00  000  0000  000000  000000000783d  000000002  0000000090387  \\\n",
      "0  0.0  0.0   0.0     0.0            0.0        0.0            0.0   \n",
      "1  0.0  0.0   0.0     0.0            0.0        0.0            0.0   \n",
      "2  0.0  0.0   0.0     0.0            0.0        0.0            0.0   \n",
      "3  0.0  0.0   0.0     0.0            0.0        0.0            0.0   \n",
      "4  0.0  0.0   0.0     0.0            0.0        0.0            0.0   \n",
      "\n",
      "   0000000392e  00000100  00001  ...  zyumbi  zyunbi   zz  zza  zzambia  zzd  \\\n",
      "0          0.0       0.0    0.0  ...     0.0     0.0  0.0  0.0      0.0  0.0   \n",
      "1          0.0       0.0    0.0  ...     0.0     0.0  0.0  0.0      0.0  0.0   \n",
      "2          0.0       0.0    0.0  ...     0.0     0.0  0.0  0.0      0.0  0.0   \n",
      "3          0.0       0.0    0.0  ...     0.0     0.0  0.0  0.0      0.0  0.0   \n",
      "4          0.0       0.0    0.0  ...     0.0     0.0  0.0  0.0      0.0  0.0   \n",
      "\n",
      "   zzh  zzp  zzt  zzu  \n",
      "0  0.0  0.0  0.0  0.0  \n",
      "1  0.0  0.0  0.0  0.0  \n",
      "2  0.0  0.0  0.0  0.0  \n",
      "3  0.0  0.0  0.0  0.0  \n",
      "4  0.0  0.0  0.0  0.0  \n",
      "\n",
      "[5 rows x 189621 columns]\n"
     ]
    }
   ],
   "source": [
    "#vectorization\n",
    "\n",
    "from sklearn.feature_extraction.text import TfidfVectorizer\n",
    "\n",
    "# Initialize the TF-IDF Vectorizer\n",
    "tfidf_vectorizer = TfidfVectorizer()\n",
    "\n",
    "# Fit and transform the 'Judul' and 'Isi Artikel' columns\n",
    "tfidf_isi_artikel = tfidf_vectorizer.fit_transform(df['Isi Artikel'].apply(lambda x: ' '.join(x)))\n",
    "\n",
    "# Convert the result to a DataFrame for better readability\n",
    "tfidf_isi_artikel_df = pd.DataFrame(tfidf_isi_artikel.toarray(), columns=tfidf_vectorizer.get_feature_names_out())\n",
    "\n",
    "print(tfidf_isi_artikel_df.head())"
   ]
  },
  {
   "cell_type": "markdown",
   "metadata": {},
   "source": [
    "## Label Encoder"
   ]
  },
  {
   "cell_type": "code",
   "execution_count": 55,
   "metadata": {},
   "outputs": [
    {
     "name": "stdout",
     "output_type": "stream",
     "text": [
      "   Kategori  Kategori_encoded\n",
      "0  nasional                 3\n",
      "1  nasional                 3\n",
      "2  nasional                 3\n",
      "3  nasional                 3\n",
      "4  nasional                 3\n",
      "{'internasional': 0, 'lifestyle': 1, 'metropolitan': 2, 'nasional': 3, 'pendidikan': 4, 'regional': 5}\n"
     ]
    }
   ],
   "source": [
    "from sklearn.preprocessing import LabelEncoder\n",
    "\n",
    "# Initialize the LabelEncoder\n",
    "label_encoder = LabelEncoder()\n",
    "\n",
    "# Fit and transform the 'Kategori' column\n",
    "df['Kategori_encoded'] = label_encoder.fit_transform(df['Kategori'])\n",
    "\n",
    "# Display the first few rows to verify the encoding\n",
    "print(df[['Kategori', 'Kategori_encoded']].head())\n",
    "df.head()\n",
    "\n",
    "#display encode for each category\n",
    "print(dict(zip(label_encoder.classes_, label_encoder.transform(label_encoder.classes_))))"
   ]
  },
  {
   "cell_type": "markdown",
   "metadata": {},
   "source": [
    "## Menyimpan teks bersih ke csv"
   ]
  },
  {
   "cell_type": "code",
   "execution_count": 69,
   "metadata": {},
   "outputs": [],
   "source": [
    "df.head()\n",
    "\n",
    "df.to_csv('cleaned_artikel.csv', index=False)"
   ]
  },
  {
   "cell_type": "markdown",
   "metadata": {},
   "source": [
    "## Membangun Model Klasifikasi Teks"
   ]
  },
  {
   "cell_type": "code",
   "execution_count": 24,
   "metadata": {},
   "outputs": [
    {
     "name": "stdout",
     "output_type": "stream",
     "text": [
      "Training set shape: (22202,)\n",
      "Test set shape: (5551,)\n"
     ]
    }
   ],
   "source": [
    "from sklearn.model_selection import train_test_split\n",
    "\n",
    "# Combine title and article content as features\n",
    "X = df[['Judul', 'Isi Artikel']].apply(lambda x: ' '.join(x['Judul']) + ' ' + ' '.join(x['Isi Artikel']), axis=1)\n",
    "\n",
    "# Set target variable\n",
    "y = df['Kategori_encoded']\n",
    "\n",
    "# Split into training and test sets\n",
    "X_train, X_test, y_train, y_test = train_test_split(\n",
    "    X, \n",
    "    y,\n",
    "    test_size=0.2,\n",
    "    random_state=42,\n",
    "    stratify=y\n",
    ")\n",
    "\n",
    "print(f\"Training set shape: {X_train.shape}\")\n",
    "print(f\"Test set shape: {X_test.shape}\")\n"
   ]
  },
  {
   "cell_type": "code",
   "execution_count": 25,
   "metadata": {},
   "outputs": [
    {
     "name": "stdout",
     "output_type": "stream",
     "text": [
      "TF-IDF training set shape: (22202, 170210)\n",
      "TF-IDF test set shape: (5551, 170210)\n"
     ]
    }
   ],
   "source": [
    "# Fit and transform the training data\n",
    "tfidf_X_train = tfidf_vectorizer.fit_transform(X_train)\n",
    "\n",
    "# Transform the test data\n",
    "tfidf_X_test = tfidf_vectorizer.transform(X_test)\n",
    "\n",
    "print(f\"TF-IDF training set shape: {tfidf_X_train.shape}\")\n",
    "print(f\"TF-IDF test set shape: {tfidf_X_test.shape}\")"
   ]
  },
  {
   "cell_type": "markdown",
   "metadata": {},
   "source": [
    "### Multinomial Model "
   ]
  },
  {
   "cell_type": "code",
   "execution_count": 33,
   "metadata": {},
   "outputs": [
    {
     "name": "stdout",
     "output_type": "stream",
     "text": [
      "{'alpha': 0.1}\n",
      "0.8763169463090652\n",
      "Model accuracy: 0.8857863448027382\n",
      "               precision    recall  f1-score   support\n",
      "\n",
      "internasional       0.98      0.94      0.96      1000\n",
      "    lifestyle       0.97      0.90      0.94       583\n",
      " metropolitan       0.85      0.85      0.85       997\n",
      "     nasional       0.73      0.82      0.77       971\n",
      "   pendidikan       0.94      0.97      0.96      1000\n",
      "     regional       0.89      0.83      0.86      1000\n",
      "\n",
      "     accuracy                           0.89      5551\n",
      "    macro avg       0.89      0.89      0.89      5551\n",
      " weighted avg       0.89      0.89      0.89      5551\n",
      "\n"
     ]
    }
   ],
   "source": [
    "from sklearn.model_selection import GridSearchCV\n",
    "from sklearn.metrics import classification_report\n",
    "from sklearn.metrics import accuracy_score\n",
    "from sklearn.naive_bayes import MultinomialNB\n",
    "\n",
    "#grid search\n",
    "\n",
    "# Membuat objek MultinomialNB\n",
    "model = MultinomialNB()\n",
    "\n",
    "# Membuat grid parameter\n",
    "param_grid = {\n",
    "    'alpha': [0.1, 0.5, 1.0, 2.0, 5.0]\n",
    "}\n",
    "\n",
    "# Membuat objek GridSearchCV\n",
    "grid_search = GridSearchCV(model, param_grid, cv=5)\n",
    "\n",
    "# Melakukan training model\n",
    "grid_search.fit(tfidf_X_train, y_train)\n",
    "\n",
    "# Menampilkan parameter terbaik\n",
    "print(grid_search.best_params_)\n",
    "\n",
    "# Menampilkan skor validasi terbaik\n",
    "print(grid_search.best_score_)\n",
    "from sklearn.naive_bayes import MultinomialNB\n",
    "\n",
    "# Initialize the Multinomial Naive Bayes classifier\n",
    "nb_classifier = MultinomialNB(alpha=0.1)\n",
    "\n",
    "# Train the classifier\n",
    "nb_classifier.fit(tfidf_X_train, y_train)\n",
    "\n",
    "# Predict the categories of the test set\n",
    "y_pred = nb_classifier.predict(tfidf_X_test)\n",
    "\n",
    "\n",
    "# Calculate the accuracy of the model\n",
    "accuracy = accuracy_score(y_test, y_pred)\n",
    "print(f\"Model accuracy: {accuracy}\")\n",
    "\n",
    "\n",
    "\n",
    "# Generate the classification report\n",
    "class_report = classification_report(y_test, y_pred, target_names=label_encoder.classes_)\n",
    "\n",
    "print(class_report)"
   ]
  },
  {
   "cell_type": "markdown",
   "metadata": {},
   "source": [
    "### Logistic Regresion Model"
   ]
  },
  {
   "cell_type": "code",
   "execution_count": null,
   "metadata": {},
   "outputs": [
    {
     "name": "stdout",
     "output_type": "stream",
     "text": [
      "Model accuracy: 0.9110070257611241\n",
      "               precision    recall  f1-score   support\n",
      "\n",
      "internasional       0.98      0.95      0.97      1000\n",
      "    lifestyle       0.94      0.95      0.94       583\n",
      " metropolitan       0.88      0.89      0.89       997\n",
      "     nasional       0.82      0.82      0.82       971\n",
      "   pendidikan       0.98      0.96      0.97      1000\n",
      "     regional       0.87      0.91      0.89      1000\n",
      "\n",
      "     accuracy                           0.91      5551\n",
      "    macro avg       0.91      0.91      0.91      5551\n",
      " weighted avg       0.91      0.91      0.91      5551\n",
      "\n"
     ]
    },
    {
     "data": {
      "image/png": "[encoded data removed]",
      "text/plain": [
       "<Figure size 1000x800 with 2 Axes>"
      ]
     },
     "metadata": {},
     "output_type": "display_data"
    }
   ],
   "source": [
    "# logistic regression\n",
    "\n",
    "from sklearn.linear_model import LogisticRegression\n",
    "\n",
    "# Initialize the Logistic Regression classifier\n",
    "logreg_classifier = LogisticRegression(max_iter=1000)\n",
    "\n",
    "# Train the classifier\n",
    "logreg_classifier.fit(tfidf_X_train, y_train)\n",
    "\n",
    "# Predict the categories of the test set\n",
    "y_pred = logreg_classifier.predict(tfidf_X_test)\n",
    "\n",
    "# Calculate the accuracy of the model\n",
    "accuracy = accuracy_score(y_test, y_pred)\n",
    "print(f\"Model accuracy: {accuracy}\")\n",
    "\n",
    "# Generate the classification report\n",
    "class_report = classification_report(y_test, y_pred, target_names=label_encoder.classes_)\n",
    "print(class_report)\n",
    "\n",
    "# confusion matrix\n",
    "from sklearn.metrics import confusion_matrix\n",
    "import seaborn as sns\n",
    "import matplotlib.pyplot as plt\n",
    "\n",
    "# Generate the confusion matrix\n",
    "conf_matrix = confusion_matrix(y_test, y_pred)\n",
    "\n",
    "# Display the confusion matrix\n",
    "plt.figure(figsize=(10, 8))\n",
    "sns.heatmap(conf_matrix, annot=True, fmt='d', cmap='Blues', xticklabels=label_encoder.classes_, yticklabels=label_encoder.classes_)\n",
    "\n",
    "plt.title('Confusion Matrix')\n",
    "plt.ylabel('True Label')\n",
    "plt.xlabel('Predicted Label')\n",
    "plt.show()"
   ]
  },
  {
   "cell_type": "markdown",
   "metadata": {},
   "source": [
    "### Logistic regression grid search"
   ]
  },
  {
   "cell_type": "code",
   "execution_count": 60,
   "metadata": {},
   "outputs": [
    {
     "name": "stdout",
     "output_type": "stream",
     "text": [
      "{'C': 5.0}\n",
      "0.9086113224235268\n"
     ]
    }
   ],
   "source": [
    "# logistic regression grid search\n",
    "\n",
    "# Membuat objek LogisticRegression\n",
    "model = LogisticRegression(max_iter=1000)\n",
    "\n",
    "# Membuat grid parameter\n",
    "param_grid = {\n",
    "    'C': [0.1, 0.5, 1.0, 2.0, 5.0]\n",
    "}\n",
    "\n",
    "# Membuat objek GridSearchCV\n",
    "grid_search = GridSearchCV(model, param_grid, cv=5)\n",
    "\n",
    "# Melakukan training model\n",
    "grid_search.fit(tfidf_X_train, y_train)\n",
    "\n",
    "# Menampilkan parameter terbaik\n",
    "print(grid_search.best_params_)\n",
    "\n",
    "# Menampilkan skor validasi terbaik\n",
    "print(grid_search.best_score_)\n",
    "\n",
    "\n"
   ]
  },
  {
   "cell_type": "code",
   "execution_count": 64,
   "metadata": {},
   "outputs": [
    {
     "name": "stdout",
     "output_type": "stream",
     "text": [
      "Model accuracy: 0.914249684741488\n",
      "               precision    recall  f1-score   support\n",
      "\n",
      "internasional       0.98      0.96      0.97      1000\n",
      "    lifestyle       0.94      0.96      0.95       583\n",
      " metropolitan       0.89      0.90      0.90       997\n",
      "     nasional       0.84      0.81      0.83       971\n",
      "   pendidikan       0.97      0.96      0.97      1000\n",
      "     regional       0.87      0.91      0.89      1000\n",
      "\n",
      "     accuracy                           0.91      5551\n",
      "    macro avg       0.92      0.92      0.92      5551\n",
      " weighted avg       0.91      0.91      0.91      5551\n",
      "\n"
     ]
    }
   ],
   "source": [
    "# Initialize the Logistic Regression classifier\n",
    "logreg_classifier = LogisticRegression(max_iter=1000, C=5.0)\n",
    "\n",
    "# Train the classifier\n",
    "logreg_classifier.fit(tfidf_X_train, y_train)\n",
    "\n",
    "# Predict the categories of the test set\n",
    "y_pred = logreg_classifier.predict(tfidf_X_test)\n",
    "\n",
    "# Calculate the accuracy of the model\n",
    "accuracy = accuracy_score(y_test, y_pred)\n",
    "print(f\"Model accuracy: {accuracy}\")\n",
    "\n",
    "# Generate the classification report\n",
    "class_report = classification_report(y_test, y_pred, target_names=label_encoder.classes_)\n",
    "print(class_report)\n",
    "\n"
   ]
  },
  {
   "cell_type": "code",
   "execution_count": 46,
   "metadata": {},
   "outputs": [
    {
     "name": "stdout",
     "output_type": "stream",
     "text": [
      "pendidikan\n"
     ]
    }
   ],
   "source": [
    "#predict\n",
    "def predict_category(title, content):\n",
    "    # Combine title and content\n",
    "    text = title + ' ' + content\n",
    "    \n",
    "    # Vectorize the text\n",
    "    text_vectorized = tfidf_vectorizer.transform([text])\n",
    "    \n",
    "    # Predict the category\n",
    "    category = nb_classifier.predict(text_vectorized)\n",
    "    \n",
    "    # Decode the category\n",
    "    category = label_encoder.inverse_transform(category)\n",
    "    \n",
    "    return category[0]\n",
    "\n",
    "\n",
    "# Test the function\n",
    "title = \"\"\n",
    "content = \"belajar\"\n",
    "print(predict_category(title, content))"
   ]
  },
  {
   "cell_type": "code",
   "execution_count": null,
   "metadata": {},
   "outputs": [
    {
     "name": "stdout",
     "output_type": "stream",
     "text": [
      "metropolitan\n"
     ]
    }
   ],
   "source": [
    "#predict regression\n",
    "def predict_category(title, content):\n",
    "    # Combine title and content\n",
    "    text = title + ' ' + content\n",
    "    \n",
    "    # Predict the category\n",
    "    category = pipe.predict([text])\n",
    "    \n",
    "    # Decode the category\n",
    "    category = label_encoder.inverse_transform(category)\n",
    "    \n",
    "    return category[0]\n",
    "\n",
    "#test the function\n",
    "title = \"\"\n",
    "content = \"\"\n",
    "print(predict_category(title, content))"
   ]
  },
  {
   "cell_type": "markdown",
   "metadata": {},
   "source": [
    "### SVM Model"
   ]
  },
  {
   "cell_type": "code",
   "execution_count": 66,
   "metadata": {},
   "outputs": [
    {
     "name": "stdout",
     "output_type": "stream",
     "text": [
      "Model accuracy: 0.9110070257611241\n",
      "               precision    recall  f1-score   support\n",
      "\n",
      "internasional       0.98      0.95      0.97      1000\n",
      "    lifestyle       0.95      0.94      0.94       583\n",
      " metropolitan       0.89      0.89      0.89       997\n",
      "     nasional       0.81      0.82      0.82       971\n",
      "   pendidikan       0.98      0.96      0.97      1000\n",
      "     regional       0.88      0.91      0.89      1000\n",
      "\n",
      "     accuracy                           0.91      5551\n",
      "    macro avg       0.91      0.91      0.91      5551\n",
      " weighted avg       0.91      0.91      0.91      5551\n",
      "\n"
     ]
    },
    {
     "data": {
      "image/png": "[encoded data removed]",
      "text/plain": [
       "<Figure size 1000x800 with 2 Axes>"
      ]
     },
     "metadata": {},
     "output_type": "display_data"
    }
   ],
   "source": [
    "#svm model\n",
    "from sklearn.svm import SVC\n",
    "\n",
    "# Initialize the Support Vector Machine classifier\n",
    "svm_classifier = SVC()\n",
    "\n",
    "# Train the classifier\n",
    "svm_classifier.fit(tfidf_X_train, y_train)\n",
    "\n",
    "# Predict the categories of the test set\n",
    "y_pred = svm_classifier.predict(tfidf_X_test)\n",
    "\n",
    "# Calculate the accuracy of the model\n",
    "accuracy = accuracy_score(y_test, y_pred)\n",
    "print(f\"Model accuracy: {accuracy}\")\n",
    "\n",
    "# Generate the classification report\n",
    "class_report = classification_report(y_test, y_pred, target_names=label_encoder.classes_)\n",
    "print(class_report)\n",
    "\n",
    "# confusion matrix\n",
    "# Generate the confusion matrix\n",
    "conf_matrix = confusion_matrix(y_test, y_pred)\n",
    "\n",
    "# Display the confusion matrix\n",
    "plt.figure(figsize=(10, 8))\n",
    "sns.heatmap(conf_matrix, annot=True, fmt='d', cmap='Blues', xticklabels=label_encoder.classes_, yticklabels=label_encoder.classes_)\n",
    "plt.title('Confusion Matrix')\n",
    "plt.ylabel('True Label')\n",
    "plt.xlabel('Predicted Label')\n",
    "plt.show()\n"
   ]
  },
  {
   "cell_type": "markdown",
   "metadata": {},
   "source": [
    "### Menyimpan Model"
   ]
  },
  {
   "cell_type": "code",
   "execution_count": 67,
   "metadata": {},
   "outputs": [
    {
     "data": {
      "text/plain": [
       "['model/svm_model.pkl']"
      ]
     },
     "execution_count": 67,
     "metadata": {},
     "output_type": "execute_result"
    }
   ],
   "source": [
    "import joblib\n",
    "\n",
    "# Save the Logistic Regression model\n",
    "joblib.dump(logreg_classifier, 'model/logreg_model.pkl')\n",
    "\n",
    "# Save the Naive Bayes model\n",
    "joblib.dump(nb_classifier, 'model/nb_model.pkl')\n",
    "\n",
    "# Save the SVM model\n",
    "joblib.dump(svm_classifier, 'model/svm_model.pkl')"
   ]
  },
  {
   "cell_type": "code",
   "execution_count": null,
   "metadata": {},
   "outputs": [],
   "source": [
    "import joblib\n",
    "\n",
    "# Load the models\n",
    "logreg_model = joblib.load('model/logreg_model.pkl')\n",
    "nb_model = joblib.load('model/nb_model.pkl')\n",
    "svm_model = joblib.load('model/svm_model.pkl')\n",
    "\n",
    "# Load the TF-IDF vectorizer\n",
    "tfidf_vectorizer = joblib.load('model/tfidf_vectorizer.pkl')\n",
    "\n",
    "# Function to preprocess the text\n",
    "def preprocess_text(text):\n",
    "    text = clean_text(text)\n",
    "    text = stopwordd(text)\n",
    "    text = ' '.join(tokenisasi(text))\n",
    "    return text\n",
    "\n",
    "# Function to predict category using all three models\n",
    "def predict_category_all_models(title, content):\n",
    "    # Combine title and content\n",
    "    text = title + ' ' + content\n",
    "    \n",
    "    # Preprocess the text\n",
    "    text = preprocess_text(text)\n",
    "    \n",
    "    # Vectorize the text\n",
    "    text_vectorized = tfidf_vectorizer.transform([text])\n",
    "    \n",
    "    # Predict the category using Logistic Regression\n",
    "    logreg_pred = logreg_model.predict(text_vectorized)\n",
    "    logreg_category = label_encoder.inverse_transform(logreg_pred)[0]\n",
    "    \n",
    "    # Predict the category using Naive Bayes\n",
    "    nb_pred = nb_model.predict(text_vectorized)\n",
    "    nb_category = label_encoder.inverse_transform(nb_pred)[0]\n",
    "    \n",
    "    # Predict the category using SVM\n",
    "    svm_pred = svm_model.predict(text_vectorized)\n",
    "    svm_category = label_encoder.inverse_transform(svm_pred)[0]\n",
    "    \n",
    "    return logreg_category, nb_category, svm_category\n",
    "\n",
    "# Load new data from text file\n",
    "with open('new_data.txt', 'r') as file:\n",
    "    lines = file.readlines()\n",
    "\n",
    "# Assuming each line in the text file is a new data point with title and content separated by a tab\n",
    "for line in lines:\n",
    "    title, content = line.strip().split('\\t')\n",
    "    logreg_category, nb_category, svm_category = predict_category_all_models(title, content)\n",
    "    print(f\"Title: {title}\")\n",
    "    print(f\"Content: {content}\")\n",
    "    print(f\"Logistic Regression Prediction: {logreg_category}\")\n",
    "    print(f\"Naive Bayes Prediction: {nb_category}\")\n",
    "    print(f\"SVM Prediction: {svm_category}\")\n",
    "    print(\"\\n\")"
   ]
  }
 ],
 "metadata": {
  "kernelspec": {
   "display_name": "Python 3",
   "language": "python",
   "name": "python3"
  },
  "language_info": {
   "codemirror_mode": {
    "name": "ipython",
    "version": 3
   },
   "file_extension": ".py",
   "mimetype": "text/x-python",
   "name": "python",
   "nbconvert_exporter": "python",
   "pygments_lexer": "ipython3",
   "version": "3.11.5"
  }
 },
 "nbformat": 4,
 "nbformat_minor": 2
}
