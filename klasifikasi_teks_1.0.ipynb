{
 "cells": [
  {
   "cell_type": "code",
   "execution_count": 1,
   "metadata": {},
   "outputs": [],
   "source": [
    "\n",
    "import pandas as pd"
   ]
  },
  {
   "cell_type": "code",
   "execution_count": 2,
   "metadata": {},
   "outputs": [
    {
     "data": {
      "text/html": [
       "<div>\n",
       "<style scoped>\n",
       "    .dataframe tbody tr th:only-of-type {\n",
       "        vertical-align: middle;\n",
       "    }\n",
       "\n",
       "    .dataframe tbody tr th {\n",
       "        vertical-align: top;\n",
       "    }\n",
       "\n",
       "    .dataframe thead th {\n",
       "        text-align: right;\n",
       "    }\n",
       "</style>\n",
       "<table border=\"1\" class=\"dataframe\">\n",
       "  <thead>\n",
       "    <tr style=\"text-align: right;\">\n",
       "      <th></th>\n",
       "      <th>Judul</th>\n",
       "      <th>Tanggal</th>\n",
       "      <th>Penulis</th>\n",
       "      <th>Editor</th>\n",
       "      <th>Isi Artikel</th>\n",
       "      <th>Kategori</th>\n",
       "    </tr>\n",
       "  </thead>\n",
       "  <tbody>\n",
       "    <tr>\n",
       "      <th>0</th>\n",
       "      <td>Bagaimana Kopenhagen Hadapi Ancaman Iklim Terb...</td>\n",
       "      <td>Jumat, 6 Desember 2024 22:26 WIB</td>\n",
       "      <td>Penulis tidak ditemukan</td>\n",
       "      <td>Editor tidak ditemukan</td>\n",
       "      <td>Bukan cuma Jakarta yang kelimpungan tangani ma...</td>\n",
       "      <td>internasional</td>\n",
       "    </tr>\n",
       "    <tr>\n",
       "      <th>1</th>\n",
       "      <td>44.612 Jiwa Melayang Akibat Perang Israel-Hama...</td>\n",
       "      <td>Jumat, 6 Desember 2024 19:41 WIB</td>\n",
       "      <td>Andari Wulan Nugrahani</td>\n",
       "      <td>Tiara Shelavie</td>\n",
       "      <td>TRIBUNNEWS.COM - Perang yang berkepanjangan an...</td>\n",
       "      <td>internasional</td>\n",
       "    </tr>\n",
       "    <tr>\n",
       "      <th>2</th>\n",
       "      <td>Batal Digelar Hari Ini, Sidang Kasus Dugaan Ko...</td>\n",
       "      <td>Senin, 2 Desember 2024 16:56 WIB</td>\n",
       "      <td>Bobby W</td>\n",
       "      <td>Tiara Shelavie</td>\n",
       "      <td>TRIBUNNEWS.COM - Sosok Perdana Menteri Israel,...</td>\n",
       "      <td>internasional</td>\n",
       "    </tr>\n",
       "    <tr>\n",
       "      <th>3</th>\n",
       "      <td>Komandan IRGC: Israel Akan Dihajar Iran jika S...</td>\n",
       "      <td>Kamis, 17 Oktober 2024 18:48 WIB</td>\n",
       "      <td>Yunita Rahmayanti</td>\n",
       "      <td>Febri Prasetyo</td>\n",
       "      <td>TRIBUNNEWS.COM - Komandan Garda Revolusi Iran ...</td>\n",
       "      <td>internasional</td>\n",
       "    </tr>\n",
       "    <tr>\n",
       "      <th>4</th>\n",
       "      <td>Pesawat Siluman B-2 AS Tembaki 9 Lokasi di Yam...</td>\n",
       "      <td>Kamis, 17 Oktober 2024 17:57 WIB</td>\n",
       "      <td>Yunita Rahmayanti</td>\n",
       "      <td>Febri Prasetyo</td>\n",
       "      <td>TRIBUNNEWS.COM - Koalisi Amerika Serikat (AS) ...</td>\n",
       "      <td>internasional</td>\n",
       "    </tr>\n",
       "  </tbody>\n",
       "</table>\n",
       "</div>"
      ],
      "text/plain": [
       "                                               Judul  \\\n",
       "0  Bagaimana Kopenhagen Hadapi Ancaman Iklim Terb...   \n",
       "1  44.612 Jiwa Melayang Akibat Perang Israel-Hama...   \n",
       "2  Batal Digelar Hari Ini, Sidang Kasus Dugaan Ko...   \n",
       "3  Komandan IRGC: Israel Akan Dihajar Iran jika S...   \n",
       "4  Pesawat Siluman B-2 AS Tembaki 9 Lokasi di Yam...   \n",
       "\n",
       "                            Tanggal                  Penulis  \\\n",
       "0  Jumat, 6 Desember 2024 22:26 WIB  Penulis tidak ditemukan   \n",
       "1  Jumat, 6 Desember 2024 19:41 WIB   Andari Wulan Nugrahani   \n",
       "2  Senin, 2 Desember 2024 16:56 WIB                  Bobby W   \n",
       "3  Kamis, 17 Oktober 2024 18:48 WIB        Yunita Rahmayanti   \n",
       "4  Kamis, 17 Oktober 2024 17:57 WIB        Yunita Rahmayanti   \n",
       "\n",
       "                   Editor                                        Isi Artikel  \\\n",
       "0  Editor tidak ditemukan  Bukan cuma Jakarta yang kelimpungan tangani ma...   \n",
       "1          Tiara Shelavie  TRIBUNNEWS.COM - Perang yang berkepanjangan an...   \n",
       "2          Tiara Shelavie  TRIBUNNEWS.COM - Sosok Perdana Menteri Israel,...   \n",
       "3          Febri Prasetyo  TRIBUNNEWS.COM - Komandan Garda Revolusi Iran ...   \n",
       "4          Febri Prasetyo  TRIBUNNEWS.COM - Koalisi Amerika Serikat (AS) ...   \n",
       "\n",
       "        Kategori  \n",
       "0  internasional  \n",
       "1  internasional  \n",
       "2  internasional  \n",
       "3  internasional  \n",
       "4  internasional  "
      ]
     },
     "execution_count": 2,
     "metadata": {},
     "output_type": "execute_result"
    }
   ],
   "source": [
    "df = pd.read_csv('artikel.csv')\n",
    "df.head()"
   ]
  },
  {
   "cell_type": "markdown",
   "metadata": {},
   "source": [
    "## Exploratory data analysis"
   ]
  },
  {
   "cell_type": "code",
   "execution_count": 3,
   "metadata": {},
   "outputs": [
    {
     "name": "stdout",
     "output_type": "stream",
     "text": [
      "<class 'pandas.core.frame.DataFrame'>\n",
      "RangeIndex: 9996 entries, 0 to 9995\n",
      "Data columns (total 6 columns):\n",
      " #   Column       Non-Null Count  Dtype \n",
      "---  ------       --------------  ----- \n",
      " 0   Judul        9996 non-null   object\n",
      " 1   Tanggal      9996 non-null   object\n",
      " 2   Penulis      9996 non-null   object\n",
      " 3   Editor       9996 non-null   object\n",
      " 4   Isi Artikel  9996 non-null   object\n",
      " 5   Kategori     9996 non-null   object\n",
      "dtypes: object(6)\n",
      "memory usage: 468.7+ KB\n",
      "None\n"
     ]
    }
   ],
   "source": [
    "# exploratory data analysis\n",
    "print(df.info())"
   ]
  },
  {
   "cell_type": "code",
   "execution_count": 4,
   "metadata": {},
   "outputs": [
    {
     "name": "stdout",
     "output_type": "stream",
     "text": [
      "Kategori\n",
      "internasional    4998\n",
      "pendidikan       4998\n",
      "Name: count, dtype: int64\n"
     ]
    },
    {
     "data": {
      "text/plain": [
       "<Axes: xlabel='Kategori'>"
      ]
     },
     "execution_count": 4,
     "metadata": {},
     "output_type": "execute_result"
    },
    {
     "data": {
      "image/png": "[encoded data removed]",
      "text/plain": [
       "<Figure size 640x480 with 1 Axes>"
      ]
     },
     "metadata": {},
     "output_type": "display_data"
    }
   ],
   "source": [
    "# tampilkan distribusi data katagori\n",
    "print(df['Kategori'].value_counts())\n",
    "# visualisasi distribusi data katagori\n",
    "df['Kategori'].value_counts().plot(kind='bar')"
   ]
  },
  {
   "cell_type": "code",
   "execution_count": 5,
   "metadata": {},
   "outputs": [
    {
     "name": "stdout",
     "output_type": "stream",
     "text": [
      "Judul          0\n",
      "Tanggal        0\n",
      "Penulis        0\n",
      "Editor         0\n",
      "Isi Artikel    0\n",
      "Kategori       0\n",
      "dtype: int64\n"
     ]
    }
   ],
   "source": [
    "#cek isian data kosong\n",
    "\n",
    "print(df.isnull().sum())"
   ]
  },
  {
   "cell_type": "code",
   "execution_count": 6,
   "metadata": {},
   "outputs": [
    {
     "name": "stdout",
     "output_type": "stream",
     "text": [
      "Judul          0\n",
      "Tanggal        0\n",
      "Penulis        0\n",
      "Editor         0\n",
      "Isi Artikel    0\n",
      "Kategori       0\n",
      "dtype: int64\n"
     ]
    }
   ],
   "source": [
    "#hapus baris data yang kosong\n",
    "df = df.dropna()\n",
    "print(df.isnull().sum())"
   ]
  },
  {
   "cell_type": "code",
   "execution_count": 7,
   "metadata": {},
   "outputs": [
    {
     "name": "stdout",
     "output_type": "stream",
     "text": [
      "Kategori\n",
      "internasional    4998\n",
      "pendidikan       4998\n",
      "Name: count, dtype: int64\n"
     ]
    },
    {
     "data": {
      "text/plain": [
       "<Axes: xlabel='Kategori'>"
      ]
     },
     "execution_count": 7,
     "metadata": {},
     "output_type": "execute_result"
    },
    {
     "data": {
      "image/png": "[encoded data removed]",
      "text/plain": [
       "<Figure size 640x480 with 1 Axes>"
      ]
     },
     "metadata": {},
     "output_type": "display_data"
    }
   ],
   "source": [
    "# tampilkan distribusi data katagori\n",
    "print(df['Kategori'].value_counts())\n",
    "# visualisasi distribusi data katagori\n",
    "df['Kategori'].value_counts().plot(kind='bar')"
   ]
  },
  {
   "cell_type": "code",
   "execution_count": 8,
   "metadata": {},
   "outputs": [],
   "source": [
    "import re\n",
    "\n",
    "# Fungsi untuk membersihkan teks\n",
    "def clean_text(text):\n",
    "    # Menghapus URL\n",
    "    text = re.sub(r'http\\S+', '', text)\n",
    "    # Menghapus karakter non-alfabet dan mengubahnya menjadi huruf kecil\n",
    "    text = re.sub(r'[^a-zA-Z0-9\\s]', '', text)\n",
    "    text = text.lower()\n",
    "    # Menghapus spasi berlebih\n",
    "    text = ' '.join(text.split())\n",
    "    # # Menghapus angka\n",
    "    # text = re.sub(r'\\d+', '', text)\n",
    "    # menghapus tag html\n",
    "    text = re.sub(r'<.*?>', '', text)\n",
    "    # menghapus karakter tanda baca\n",
    "    text = re.sub(r'[^\\w\\s]', '', text)\n",
    "    # menghapus -, +, *, /, =, dll\n",
    "    text = re.sub(r'[-+*/=]', '', text)\n",
    "    return text\n",
    "\n",
    "# # Menerapkan fungsi pembersihan ke kolom \"Isi Artikel\" dan \"Judul\"\n",
    "# df['juduldf['Isi Artikel'].apply(clean_text)\n",
    "# df['Judul'].apply(clean_text)\n",
    "\n",
    "# # Fill NaN values with an empty string\n",
    "# df['Judul'] = df['Judul'].fillna('')\n",
    "# df['Isi Artikel'] = df['Isi Artikel'].fillna('')\n",
    "\n",
    "df['Judul'] = df['Judul'].apply(clean_text)\n",
    "df['Isi Artikel'] = df['Isi Artikel'].apply(clean_text)"
   ]
  },
  {
   "cell_type": "code",
   "execution_count": 9,
   "metadata": {},
   "outputs": [
    {
     "data": {
      "text/html": [
       "<div>\n",
       "<style scoped>\n",
       "    .dataframe tbody tr th:only-of-type {\n",
       "        vertical-align: middle;\n",
       "    }\n",
       "\n",
       "    .dataframe tbody tr th {\n",
       "        vertical-align: top;\n",
       "    }\n",
       "\n",
       "    .dataframe thead th {\n",
       "        text-align: right;\n",
       "    }\n",
       "</style>\n",
       "<table border=\"1\" class=\"dataframe\">\n",
       "  <thead>\n",
       "    <tr style=\"text-align: right;\">\n",
       "      <th></th>\n",
       "      <th>Judul</th>\n",
       "      <th>Tanggal</th>\n",
       "      <th>Penulis</th>\n",
       "      <th>Editor</th>\n",
       "      <th>Isi Artikel</th>\n",
       "      <th>Kategori</th>\n",
       "    </tr>\n",
       "  </thead>\n",
       "  <tbody>\n",
       "    <tr>\n",
       "      <th>0</th>\n",
       "      <td>bagaimana kopenhagen hadapi ancaman iklim terb...</td>\n",
       "      <td>Jumat, 6 Desember 2024 22:26 WIB</td>\n",
       "      <td>Penulis tidak ditemukan</td>\n",
       "      <td>Editor tidak ditemukan</td>\n",
       "      <td>bukan cuma jakarta yang kelimpungan tangani ma...</td>\n",
       "      <td>internasional</td>\n",
       "    </tr>\n",
       "    <tr>\n",
       "      <th>1</th>\n",
       "      <td>44612 jiwa melayang akibat perang israelhamas ...</td>\n",
       "      <td>Jumat, 6 Desember 2024 19:41 WIB</td>\n",
       "      <td>Andari Wulan Nugrahani</td>\n",
       "      <td>Tiara Shelavie</td>\n",
       "      <td>tribunnewscom perang yang berkepanjangan antar...</td>\n",
       "      <td>internasional</td>\n",
       "    </tr>\n",
       "    <tr>\n",
       "      <th>2</th>\n",
       "      <td>batal digelar hari ini sidang kasus dugaan kor...</td>\n",
       "      <td>Senin, 2 Desember 2024 16:56 WIB</td>\n",
       "      <td>Bobby W</td>\n",
       "      <td>Tiara Shelavie</td>\n",
       "      <td>tribunnewscom sosok perdana menteri israel ben...</td>\n",
       "      <td>internasional</td>\n",
       "    </tr>\n",
       "    <tr>\n",
       "      <th>3</th>\n",
       "      <td>komandan irgc israel akan dihajar iran jika se...</td>\n",
       "      <td>Kamis, 17 Oktober 2024 18:48 WIB</td>\n",
       "      <td>Yunita Rahmayanti</td>\n",
       "      <td>Febri Prasetyo</td>\n",
       "      <td>tribunnewscom komandan garda revolusi iran irg...</td>\n",
       "      <td>internasional</td>\n",
       "    </tr>\n",
       "    <tr>\n",
       "      <th>4</th>\n",
       "      <td>pesawat siluman b2 as tembaki 9 lokasi di yama...</td>\n",
       "      <td>Kamis, 17 Oktober 2024 17:57 WIB</td>\n",
       "      <td>Yunita Rahmayanti</td>\n",
       "      <td>Febri Prasetyo</td>\n",
       "      <td>tribunnewscom koalisi amerika serikat as dan i...</td>\n",
       "      <td>internasional</td>\n",
       "    </tr>\n",
       "  </tbody>\n",
       "</table>\n",
       "</div>"
      ],
      "text/plain": [
       "                                               Judul  \\\n",
       "0  bagaimana kopenhagen hadapi ancaman iklim terb...   \n",
       "1  44612 jiwa melayang akibat perang israelhamas ...   \n",
       "2  batal digelar hari ini sidang kasus dugaan kor...   \n",
       "3  komandan irgc israel akan dihajar iran jika se...   \n",
       "4  pesawat siluman b2 as tembaki 9 lokasi di yama...   \n",
       "\n",
       "                            Tanggal                  Penulis  \\\n",
       "0  Jumat, 6 Desember 2024 22:26 WIB  Penulis tidak ditemukan   \n",
       "1  Jumat, 6 Desember 2024 19:41 WIB   Andari Wulan Nugrahani   \n",
       "2  Senin, 2 Desember 2024 16:56 WIB                  Bobby W   \n",
       "3  Kamis, 17 Oktober 2024 18:48 WIB        Yunita Rahmayanti   \n",
       "4  Kamis, 17 Oktober 2024 17:57 WIB        Yunita Rahmayanti   \n",
       "\n",
       "                   Editor                                        Isi Artikel  \\\n",
       "0  Editor tidak ditemukan  bukan cuma jakarta yang kelimpungan tangani ma...   \n",
       "1          Tiara Shelavie  tribunnewscom perang yang berkepanjangan antar...   \n",
       "2          Tiara Shelavie  tribunnewscom sosok perdana menteri israel ben...   \n",
       "3          Febri Prasetyo  tribunnewscom komandan garda revolusi iran irg...   \n",
       "4          Febri Prasetyo  tribunnewscom koalisi amerika serikat as dan i...   \n",
       "\n",
       "        Kategori  \n",
       "0  internasional  \n",
       "1  internasional  \n",
       "2  internasional  \n",
       "3  internasional  \n",
       "4  internasional  "
      ]
     },
     "execution_count": 9,
     "metadata": {},
     "output_type": "execute_result"
    }
   ],
   "source": [
    "df.head()\n"
   ]
  },
  {
   "cell_type": "code",
   "execution_count": 10,
   "metadata": {},
   "outputs": [
    {
     "name": "stdout",
     "output_type": "stream",
     "text": [
      "Requirement already satisfied: Sastrawi in c:\\users\\asus\\appdata\\local\\programs\\python\\python312\\lib\\site-packages (1.0.1)\n",
      "Note: you may need to restart the kernel to use updated packages.\n"
     ]
    }
   ],
   "source": [
    "%pip install Sastrawi"
   ]
  },
  {
   "cell_type": "code",
   "execution_count": 11,
   "metadata": {},
   "outputs": [
    {
     "name": "stdout",
     "output_type": "stream",
     "text": [
      "Requirement already satisfied: nltk in c:\\users\\asus\\appdata\\local\\programs\\python\\python312\\lib\\site-packages (3.9.1)\n",
      "Requirement already satisfied: click in c:\\users\\asus\\appdata\\local\\programs\\python\\python312\\lib\\site-packages (from nltk) (8.1.7)\n",
      "Requirement already satisfied: joblib in c:\\users\\asus\\appdata\\local\\programs\\python\\python312\\lib\\site-packages (from nltk) (1.4.2)\n",
      "Requirement already satisfied: regex>=2021.8.3 in c:\\users\\asus\\appdata\\local\\programs\\python\\python312\\lib\\site-packages (from nltk) (2024.11.6)\n",
      "Requirement already satisfied: tqdm in c:\\users\\asus\\appdata\\local\\programs\\python\\python312\\lib\\site-packages (from nltk) (4.67.1)\n",
      "Requirement already satisfied: colorama in c:\\users\\asus\\appdata\\roaming\\python\\python312\\site-packages (from click->nltk) (0.4.6)\n",
      "Note: you may need to restart the kernel to use updated packages.\n"
     ]
    }
   ],
   "source": [
    "%pip install nltk"
   ]
  },
  {
   "cell_type": "code",
   "execution_count": 12,
   "metadata": {},
   "outputs": [],
   "source": [
    "#menghapus kata tribunnews\n",
    "def remove_tribunnews(text):\n",
    "    text = text.replace('tribunnewscom', '')\n",
    "    return text\n",
    "\n",
    "# Menerapkan fungsi remove_tribunnews ke kolom \"Isi Artikel\" dan \"Judul\"\n",
    "df['Judul'] = df['Judul'].apply(remove_tribunnews)\n",
    "df['Isi Artikel'] = df['Isi Artikel'].apply(remove_tribunnews)"
   ]
  },
  {
   "cell_type": "code",
   "execution_count": 13,
   "metadata": {},
   "outputs": [
    {
     "data": {
      "text/html": [
       "<div>\n",
       "<style scoped>\n",
       "    .dataframe tbody tr th:only-of-type {\n",
       "        vertical-align: middle;\n",
       "    }\n",
       "\n",
       "    .dataframe tbody tr th {\n",
       "        vertical-align: top;\n",
       "    }\n",
       "\n",
       "    .dataframe thead th {\n",
       "        text-align: right;\n",
       "    }\n",
       "</style>\n",
       "<table border=\"1\" class=\"dataframe\">\n",
       "  <thead>\n",
       "    <tr style=\"text-align: right;\">\n",
       "      <th></th>\n",
       "      <th>Judul</th>\n",
       "      <th>Tanggal</th>\n",
       "      <th>Penulis</th>\n",
       "      <th>Editor</th>\n",
       "      <th>Isi Artikel</th>\n",
       "      <th>Kategori</th>\n",
       "    </tr>\n",
       "  </thead>\n",
       "  <tbody>\n",
       "    <tr>\n",
       "      <th>0</th>\n",
       "      <td>bagaimana kopenhagen hadapi ancaman iklim terb...</td>\n",
       "      <td>Jumat, 6 Desember 2024 22:26 WIB</td>\n",
       "      <td>Penulis tidak ditemukan</td>\n",
       "      <td>Editor tidak ditemukan</td>\n",
       "      <td>bukan cuma jakarta yang kelimpungan tangani ma...</td>\n",
       "      <td>internasional</td>\n",
       "    </tr>\n",
       "    <tr>\n",
       "      <th>1</th>\n",
       "      <td>44612 jiwa melayang akibat perang israelhamas ...</td>\n",
       "      <td>Jumat, 6 Desember 2024 19:41 WIB</td>\n",
       "      <td>Andari Wulan Nugrahani</td>\n",
       "      <td>Tiara Shelavie</td>\n",
       "      <td>perang yang berkepanjangan antara israel dan ...</td>\n",
       "      <td>internasional</td>\n",
       "    </tr>\n",
       "    <tr>\n",
       "      <th>2</th>\n",
       "      <td>batal digelar hari ini sidang kasus dugaan kor...</td>\n",
       "      <td>Senin, 2 Desember 2024 16:56 WIB</td>\n",
       "      <td>Bobby W</td>\n",
       "      <td>Tiara Shelavie</td>\n",
       "      <td>sosok perdana menteri israel benjamin netanya...</td>\n",
       "      <td>internasional</td>\n",
       "    </tr>\n",
       "    <tr>\n",
       "      <th>3</th>\n",
       "      <td>komandan irgc israel akan dihajar iran jika se...</td>\n",
       "      <td>Kamis, 17 Oktober 2024 18:48 WIB</td>\n",
       "      <td>Yunita Rahmayanti</td>\n",
       "      <td>Febri Prasetyo</td>\n",
       "      <td>komandan garda revolusi iran irgc hossein sal...</td>\n",
       "      <td>internasional</td>\n",
       "    </tr>\n",
       "    <tr>\n",
       "      <th>4</th>\n",
       "      <td>pesawat siluman b2 as tembaki 9 lokasi di yama...</td>\n",
       "      <td>Kamis, 17 Oktober 2024 17:57 WIB</td>\n",
       "      <td>Yunita Rahmayanti</td>\n",
       "      <td>Febri Prasetyo</td>\n",
       "      <td>koalisi amerika serikat as dan inggris melanc...</td>\n",
       "      <td>internasional</td>\n",
       "    </tr>\n",
       "  </tbody>\n",
       "</table>\n",
       "</div>"
      ],
      "text/plain": [
       "                                               Judul  \\\n",
       "0  bagaimana kopenhagen hadapi ancaman iklim terb...   \n",
       "1  44612 jiwa melayang akibat perang israelhamas ...   \n",
       "2  batal digelar hari ini sidang kasus dugaan kor...   \n",
       "3  komandan irgc israel akan dihajar iran jika se...   \n",
       "4  pesawat siluman b2 as tembaki 9 lokasi di yama...   \n",
       "\n",
       "                            Tanggal                  Penulis  \\\n",
       "0  Jumat, 6 Desember 2024 22:26 WIB  Penulis tidak ditemukan   \n",
       "1  Jumat, 6 Desember 2024 19:41 WIB   Andari Wulan Nugrahani   \n",
       "2  Senin, 2 Desember 2024 16:56 WIB                  Bobby W   \n",
       "3  Kamis, 17 Oktober 2024 18:48 WIB        Yunita Rahmayanti   \n",
       "4  Kamis, 17 Oktober 2024 17:57 WIB        Yunita Rahmayanti   \n",
       "\n",
       "                   Editor                                        Isi Artikel  \\\n",
       "0  Editor tidak ditemukan  bukan cuma jakarta yang kelimpungan tangani ma...   \n",
       "1          Tiara Shelavie   perang yang berkepanjangan antara israel dan ...   \n",
       "2          Tiara Shelavie   sosok perdana menteri israel benjamin netanya...   \n",
       "3          Febri Prasetyo   komandan garda revolusi iran irgc hossein sal...   \n",
       "4          Febri Prasetyo   koalisi amerika serikat as dan inggris melanc...   \n",
       "\n",
       "        Kategori  \n",
       "0  internasional  \n",
       "1  internasional  \n",
       "2  internasional  \n",
       "3  internasional  \n",
       "4  internasional  "
      ]
     },
     "execution_count": 13,
     "metadata": {},
     "output_type": "execute_result"
    }
   ],
   "source": [
    "df.head()"
   ]
  },
  {
   "cell_type": "code",
   "execution_count": 14,
   "metadata": {},
   "outputs": [
    {
     "name": "stderr",
     "output_type": "stream",
     "text": [
      "[nltk_data] Downloading package punkt to\n",
      "[nltk_data]     C:\\Users\\Asus\\AppData\\Roaming\\nltk_data...\n",
      "[nltk_data]   Package punkt is already up-to-date!\n"
     ]
    }
   ],
   "source": [
    "import nltk\n",
    "nltk.download('punkt')\n",
    "from nltk.tokenize import word_tokenize"
   ]
  },
  {
   "cell_type": "code",
   "execution_count": 15,
   "metadata": {},
   "outputs": [],
   "source": [
    "from Sastrawi.StopWordRemover.StopWordRemoverFactory import StopWordRemoverFactory\n",
    "factory = StopWordRemoverFactory()\n",
    "stopword = factory.create_stop_word_remover()\n",
    "\n",
    "# Membuat fungsi stopword removal dan stemming\n",
    "def stopwordd(text):\n",
    "    text = stopword.remove(text)\n",
    "    return text\n",
    "\n",
    "# # Menggabungkan token kembali menjadi string sebelum menerapkan fungsi stopword removal\n",
    "# df['Judul'] = df['Judul'].apply(lambda x: ' '.join(x))\n",
    "# df['Isi Artikel'] = df['Isi Artikel'].apply(lambda x: ' '.join(x))\n",
    "\n",
    "# Menerapkan fungsi stopword removal ke kolom \"Isi Artikel\" dan \"Judul\"\n",
    "df['Judul'] = df['Judul'].apply(stopwordd)\n",
    "df['Isi Artikel'] = df['Isi Artikel'].apply(stopwordd)"
   ]
  },
  {
   "cell_type": "code",
   "execution_count": 16,
   "metadata": {},
   "outputs": [
    {
     "data": {
      "text/html": [
       "<div>\n",
       "<style scoped>\n",
       "    .dataframe tbody tr th:only-of-type {\n",
       "        vertical-align: middle;\n",
       "    }\n",
       "\n",
       "    .dataframe tbody tr th {\n",
       "        vertical-align: top;\n",
       "    }\n",
       "\n",
       "    .dataframe thead th {\n",
       "        text-align: right;\n",
       "    }\n",
       "</style>\n",
       "<table border=\"1\" class=\"dataframe\">\n",
       "  <thead>\n",
       "    <tr style=\"text-align: right;\">\n",
       "      <th></th>\n",
       "      <th>Judul</th>\n",
       "      <th>Tanggal</th>\n",
       "      <th>Penulis</th>\n",
       "      <th>Editor</th>\n",
       "      <th>Isi Artikel</th>\n",
       "      <th>Kategori</th>\n",
       "    </tr>\n",
       "  </thead>\n",
       "  <tbody>\n",
       "    <tr>\n",
       "      <th>0</th>\n",
       "      <td>bagaimana kopenhagen hadapi ancaman iklim terb...</td>\n",
       "      <td>Jumat, 6 Desember 2024 22:26 WIB</td>\n",
       "      <td>Penulis tidak ditemukan</td>\n",
       "      <td>Editor tidak ditemukan</td>\n",
       "      <td>bukan cuma jakarta kelimpungan tangani masalah...</td>\n",
       "      <td>internasional</td>\n",
       "    </tr>\n",
       "    <tr>\n",
       "      <th>1</th>\n",
       "      <td>44612 jiwa melayang akibat perang israelhamas ...</td>\n",
       "      <td>Jumat, 6 Desember 2024 19:41 WIB</td>\n",
       "      <td>Andari Wulan Nugrahani</td>\n",
       "      <td>Tiara Shelavie</td>\n",
       "      <td>perang berkepanjangan israel palestina menyeb...</td>\n",
       "      <td>internasional</td>\n",
       "    </tr>\n",
       "    <tr>\n",
       "      <th>2</th>\n",
       "      <td>batal digelar hari sidang kasus dugaan korupsi...</td>\n",
       "      <td>Senin, 2 Desember 2024 16:56 WIB</td>\n",
       "      <td>Bobby W</td>\n",
       "      <td>Tiara Shelavie</td>\n",
       "      <td>sosok perdana menteri israel benjamin netanya...</td>\n",
       "      <td>internasional</td>\n",
       "    </tr>\n",
       "    <tr>\n",
       "      <th>3</th>\n",
       "      <td>komandan irgc israel dihajar iran serang siste...</td>\n",
       "      <td>Kamis, 17 Oktober 2024 18:48 WIB</td>\n",
       "      <td>Yunita Rahmayanti</td>\n",
       "      <td>Febri Prasetyo</td>\n",
       "      <td>komandan garda revolusi iran irgc hossein sal...</td>\n",
       "      <td>internasional</td>\n",
       "    </tr>\n",
       "    <tr>\n",
       "      <th>4</th>\n",
       "      <td>pesawat siluman b2 as tembaki 9 lokasi yaman h...</td>\n",
       "      <td>Kamis, 17 Oktober 2024 17:57 WIB</td>\n",
       "      <td>Yunita Rahmayanti</td>\n",
       "      <td>Febri Prasetyo</td>\n",
       "      <td>koalisi amerika serikat as inggris melancarka...</td>\n",
       "      <td>internasional</td>\n",
       "    </tr>\n",
       "  </tbody>\n",
       "</table>\n",
       "</div>"
      ],
      "text/plain": [
       "                                               Judul  \\\n",
       "0  bagaimana kopenhagen hadapi ancaman iklim terb...   \n",
       "1  44612 jiwa melayang akibat perang israelhamas ...   \n",
       "2  batal digelar hari sidang kasus dugaan korupsi...   \n",
       "3  komandan irgc israel dihajar iran serang siste...   \n",
       "4  pesawat siluman b2 as tembaki 9 lokasi yaman h...   \n",
       "\n",
       "                            Tanggal                  Penulis  \\\n",
       "0  Jumat, 6 Desember 2024 22:26 WIB  Penulis tidak ditemukan   \n",
       "1  Jumat, 6 Desember 2024 19:41 WIB   Andari Wulan Nugrahani   \n",
       "2  Senin, 2 Desember 2024 16:56 WIB                  Bobby W   \n",
       "3  Kamis, 17 Oktober 2024 18:48 WIB        Yunita Rahmayanti   \n",
       "4  Kamis, 17 Oktober 2024 17:57 WIB        Yunita Rahmayanti   \n",
       "\n",
       "                   Editor                                        Isi Artikel  \\\n",
       "0  Editor tidak ditemukan  bukan cuma jakarta kelimpungan tangani masalah...   \n",
       "1          Tiara Shelavie   perang berkepanjangan israel palestina menyeb...   \n",
       "2          Tiara Shelavie   sosok perdana menteri israel benjamin netanya...   \n",
       "3          Febri Prasetyo   komandan garda revolusi iran irgc hossein sal...   \n",
       "4          Febri Prasetyo   koalisi amerika serikat as inggris melancarka...   \n",
       "\n",
       "        Kategori  \n",
       "0  internasional  \n",
       "1  internasional  \n",
       "2  internasional  \n",
       "3  internasional  \n",
       "4  internasional  "
      ]
     },
     "execution_count": 16,
     "metadata": {},
     "output_type": "execute_result"
    }
   ],
   "source": [
    "df.head()"
   ]
  },
  {
   "cell_type": "code",
   "execution_count": 21,
   "metadata": {},
   "outputs": [
    {
     "name": "stderr",
     "output_type": "stream",
     "text": [
      "[nltk_data] Downloading package punkt to\n",
      "[nltk_data]     C:\\Users\\Asus\\AppData\\Roaming\\nltk_data...\n",
      "[nltk_data]   Package punkt is already up-to-date!\n"
     ]
    },
    {
     "data": {
      "text/plain": [
       "True"
      ]
     },
     "execution_count": 21,
     "metadata": {},
     "output_type": "execute_result"
    }
   ],
   "source": [
    "import nltk\n",
    "nltk.download('punkt')"
   ]
  },
  {
   "cell_type": "code",
   "execution_count": null,
   "metadata": {},
   "outputs": [
    {
     "ename": "LookupError",
     "evalue": "\n**********************************************************************\n  Resource \u001b[93mpunkt_tab\u001b[0m not found.\n  Please use the NLTK Downloader to obtain the resource:\n\n  \u001b[31m>>> import nltk\n  >>> nltk.download('punkt_tab')\n  \u001b[0m\n  For more information see: https://www.nltk.org/data.html\n\n  Attempted to load \u001b[93mtokenizers/punkt_tab/english/\u001b[0m\n\n  Searched in:\n    - 'C:\\\\Users\\\\Asus/nltk_data'\n    - 'c:\\\\Users\\\\Asus\\\\AppData\\\\Local\\\\Programs\\\\Python\\\\Python312\\\\nltk_data'\n    - 'c:\\\\Users\\\\Asus\\\\AppData\\\\Local\\\\Programs\\\\Python\\\\Python312\\\\share\\\\nltk_data'\n    - 'c:\\\\Users\\\\Asus\\\\AppData\\\\Local\\\\Programs\\\\Python\\\\Python312\\\\lib\\\\nltk_data'\n    - 'C:\\\\Users\\\\Asus\\\\AppData\\\\Roaming\\\\nltk_data'\n    - 'C:\\\\nltk_data'\n    - 'D:\\\\nltk_data'\n    - 'E:\\\\nltk_data'\n**********************************************************************\n",
     "output_type": "error",
     "traceback": [
      "\u001b[1;31m---------------------------------------------------------------------------\u001b[0m",
      "\u001b[1;31mLookupError\u001b[0m                               Traceback (most recent call last)",
      "Cell \u001b[1;32mIn[22], line 11\u001b[0m\n\u001b[0;32m      8\u001b[0m     \u001b[38;5;28;01mreturn\u001b[39;00m word_tokenize(text)\n\u001b[0;32m     10\u001b[0m \u001b[38;5;66;03m# Menerapkan fungsi tokenisasi ke kolom \"Isi Artikel\" dan \"Judul\"\u001b[39;00m\n\u001b[1;32m---> 11\u001b[0m df[\u001b[38;5;124m'\u001b[39m\u001b[38;5;124mJudul\u001b[39m\u001b[38;5;124m'\u001b[39m] \u001b[38;5;241m=\u001b[39m \u001b[43mdf\u001b[49m\u001b[43m[\u001b[49m\u001b[38;5;124;43m'\u001b[39;49m\u001b[38;5;124;43mJudul\u001b[39;49m\u001b[38;5;124;43m'\u001b[39;49m\u001b[43m]\u001b[49m\u001b[38;5;241;43m.\u001b[39;49m\u001b[43mapply\u001b[49m\u001b[43m(\u001b[49m\u001b[43mtokenisasi\u001b[49m\u001b[43m)\u001b[49m\n\u001b[0;32m     12\u001b[0m df[\u001b[38;5;124m'\u001b[39m\u001b[38;5;124mIsi Artikel\u001b[39m\u001b[38;5;124m'\u001b[39m] \u001b[38;5;241m=\u001b[39m df[\u001b[38;5;124m'\u001b[39m\u001b[38;5;124mIsi Artikel\u001b[39m\u001b[38;5;124m'\u001b[39m]\u001b[38;5;241m.\u001b[39mapply(tokenisasi)\n\u001b[0;32m     14\u001b[0m df\u001b[38;5;241m.\u001b[39mhead()\n",
      "File \u001b[1;32mc:\\Users\\Asus\\AppData\\Local\\Programs\\Python\\Python312\\Lib\\site-packages\\pandas\\core\\series.py:4915\u001b[0m, in \u001b[0;36mSeries.apply\u001b[1;34m(self, func, convert_dtype, args, by_row, **kwargs)\u001b[0m\n\u001b[0;32m   4780\u001b[0m \u001b[38;5;28;01mdef\u001b[39;00m \u001b[38;5;21mapply\u001b[39m(\n\u001b[0;32m   4781\u001b[0m     \u001b[38;5;28mself\u001b[39m,\n\u001b[0;32m   4782\u001b[0m     func: AggFuncType,\n\u001b[1;32m   (...)\u001b[0m\n\u001b[0;32m   4787\u001b[0m     \u001b[38;5;241m*\u001b[39m\u001b[38;5;241m*\u001b[39mkwargs,\n\u001b[0;32m   4788\u001b[0m ) \u001b[38;5;241m-\u001b[39m\u001b[38;5;241m>\u001b[39m DataFrame \u001b[38;5;241m|\u001b[39m Series:\n\u001b[0;32m   4789\u001b[0m \u001b[38;5;250m    \u001b[39m\u001b[38;5;124;03m\"\"\"\u001b[39;00m\n\u001b[0;32m   4790\u001b[0m \u001b[38;5;124;03m    Invoke function on values of Series.\u001b[39;00m\n\u001b[0;32m   4791\u001b[0m \n\u001b[1;32m   (...)\u001b[0m\n\u001b[0;32m   4906\u001b[0m \u001b[38;5;124;03m    dtype: float64\u001b[39;00m\n\u001b[0;32m   4907\u001b[0m \u001b[38;5;124;03m    \"\"\"\u001b[39;00m\n\u001b[0;32m   4908\u001b[0m     \u001b[38;5;28;01mreturn\u001b[39;00m \u001b[43mSeriesApply\u001b[49m\u001b[43m(\u001b[49m\n\u001b[0;32m   4909\u001b[0m \u001b[43m        \u001b[49m\u001b[38;5;28;43mself\u001b[39;49m\u001b[43m,\u001b[49m\n\u001b[0;32m   4910\u001b[0m \u001b[43m        \u001b[49m\u001b[43mfunc\u001b[49m\u001b[43m,\u001b[49m\n\u001b[0;32m   4911\u001b[0m \u001b[43m        \u001b[49m\u001b[43mconvert_dtype\u001b[49m\u001b[38;5;241;43m=\u001b[39;49m\u001b[43mconvert_dtype\u001b[49m\u001b[43m,\u001b[49m\n\u001b[0;32m   4912\u001b[0m \u001b[43m        \u001b[49m\u001b[43mby_row\u001b[49m\u001b[38;5;241;43m=\u001b[39;49m\u001b[43mby_row\u001b[49m\u001b[43m,\u001b[49m\n\u001b[0;32m   4913\u001b[0m \u001b[43m        \u001b[49m\u001b[43margs\u001b[49m\u001b[38;5;241;43m=\u001b[39;49m\u001b[43margs\u001b[49m\u001b[43m,\u001b[49m\n\u001b[0;32m   4914\u001b[0m \u001b[43m        \u001b[49m\u001b[43mkwargs\u001b[49m\u001b[38;5;241;43m=\u001b[39;49m\u001b[43mkwargs\u001b[49m\u001b[43m,\u001b[49m\n\u001b[1;32m-> 4915\u001b[0m \u001b[43m    \u001b[49m\u001b[43m)\u001b[49m\u001b[38;5;241;43m.\u001b[39;49m\u001b[43mapply\u001b[49m\u001b[43m(\u001b[49m\u001b[43m)\u001b[49m\n",
      "File \u001b[1;32mc:\\Users\\Asus\\AppData\\Local\\Programs\\Python\\Python312\\Lib\\site-packages\\pandas\\core\\apply.py:1427\u001b[0m, in \u001b[0;36mSeriesApply.apply\u001b[1;34m(self)\u001b[0m\n\u001b[0;32m   1424\u001b[0m     \u001b[38;5;28;01mreturn\u001b[39;00m \u001b[38;5;28mself\u001b[39m\u001b[38;5;241m.\u001b[39mapply_compat()\n\u001b[0;32m   1426\u001b[0m \u001b[38;5;66;03m# self.func is Callable\u001b[39;00m\n\u001b[1;32m-> 1427\u001b[0m \u001b[38;5;28;01mreturn\u001b[39;00m \u001b[38;5;28;43mself\u001b[39;49m\u001b[38;5;241;43m.\u001b[39;49m\u001b[43mapply_standard\u001b[49m\u001b[43m(\u001b[49m\u001b[43m)\u001b[49m\n",
      "File \u001b[1;32mc:\\Users\\Asus\\AppData\\Local\\Programs\\Python\\Python312\\Lib\\site-packages\\pandas\\core\\apply.py:1507\u001b[0m, in \u001b[0;36mSeriesApply.apply_standard\u001b[1;34m(self)\u001b[0m\n\u001b[0;32m   1501\u001b[0m \u001b[38;5;66;03m# row-wise access\u001b[39;00m\n\u001b[0;32m   1502\u001b[0m \u001b[38;5;66;03m# apply doesn't have a `na_action` keyword and for backward compat reasons\u001b[39;00m\n\u001b[0;32m   1503\u001b[0m \u001b[38;5;66;03m# we need to give `na_action=\"ignore\"` for categorical data.\u001b[39;00m\n\u001b[0;32m   1504\u001b[0m \u001b[38;5;66;03m# TODO: remove the `na_action=\"ignore\"` when that default has been changed in\u001b[39;00m\n\u001b[0;32m   1505\u001b[0m \u001b[38;5;66;03m#  Categorical (GH51645).\u001b[39;00m\n\u001b[0;32m   1506\u001b[0m action \u001b[38;5;241m=\u001b[39m \u001b[38;5;124m\"\u001b[39m\u001b[38;5;124mignore\u001b[39m\u001b[38;5;124m\"\u001b[39m \u001b[38;5;28;01mif\u001b[39;00m \u001b[38;5;28misinstance\u001b[39m(obj\u001b[38;5;241m.\u001b[39mdtype, CategoricalDtype) \u001b[38;5;28;01melse\u001b[39;00m \u001b[38;5;28;01mNone\u001b[39;00m\n\u001b[1;32m-> 1507\u001b[0m mapped \u001b[38;5;241m=\u001b[39m \u001b[43mobj\u001b[49m\u001b[38;5;241;43m.\u001b[39;49m\u001b[43m_map_values\u001b[49m\u001b[43m(\u001b[49m\n\u001b[0;32m   1508\u001b[0m \u001b[43m    \u001b[49m\u001b[43mmapper\u001b[49m\u001b[38;5;241;43m=\u001b[39;49m\u001b[43mcurried\u001b[49m\u001b[43m,\u001b[49m\u001b[43m \u001b[49m\u001b[43mna_action\u001b[49m\u001b[38;5;241;43m=\u001b[39;49m\u001b[43maction\u001b[49m\u001b[43m,\u001b[49m\u001b[43m \u001b[49m\u001b[43mconvert\u001b[49m\u001b[38;5;241;43m=\u001b[39;49m\u001b[38;5;28;43mself\u001b[39;49m\u001b[38;5;241;43m.\u001b[39;49m\u001b[43mconvert_dtype\u001b[49m\n\u001b[0;32m   1509\u001b[0m \u001b[43m\u001b[49m\u001b[43m)\u001b[49m\n\u001b[0;32m   1511\u001b[0m \u001b[38;5;28;01mif\u001b[39;00m \u001b[38;5;28mlen\u001b[39m(mapped) \u001b[38;5;129;01mand\u001b[39;00m \u001b[38;5;28misinstance\u001b[39m(mapped[\u001b[38;5;241m0\u001b[39m], ABCSeries):\n\u001b[0;32m   1512\u001b[0m     \u001b[38;5;66;03m# GH#43986 Need to do list(mapped) in order to get treated as nested\u001b[39;00m\n\u001b[0;32m   1513\u001b[0m     \u001b[38;5;66;03m#  See also GH#25959 regarding EA support\u001b[39;00m\n\u001b[0;32m   1514\u001b[0m     \u001b[38;5;28;01mreturn\u001b[39;00m obj\u001b[38;5;241m.\u001b[39m_constructor_expanddim(\u001b[38;5;28mlist\u001b[39m(mapped), index\u001b[38;5;241m=\u001b[39mobj\u001b[38;5;241m.\u001b[39mindex)\n",
      "File \u001b[1;32mc:\\Users\\Asus\\AppData\\Local\\Programs\\Python\\Python312\\Lib\\site-packages\\pandas\\core\\base.py:921\u001b[0m, in \u001b[0;36mIndexOpsMixin._map_values\u001b[1;34m(self, mapper, na_action, convert)\u001b[0m\n\u001b[0;32m    918\u001b[0m \u001b[38;5;28;01mif\u001b[39;00m \u001b[38;5;28misinstance\u001b[39m(arr, ExtensionArray):\n\u001b[0;32m    919\u001b[0m     \u001b[38;5;28;01mreturn\u001b[39;00m arr\u001b[38;5;241m.\u001b[39mmap(mapper, na_action\u001b[38;5;241m=\u001b[39mna_action)\n\u001b[1;32m--> 921\u001b[0m \u001b[38;5;28;01mreturn\u001b[39;00m \u001b[43malgorithms\u001b[49m\u001b[38;5;241;43m.\u001b[39;49m\u001b[43mmap_array\u001b[49m\u001b[43m(\u001b[49m\u001b[43marr\u001b[49m\u001b[43m,\u001b[49m\u001b[43m \u001b[49m\u001b[43mmapper\u001b[49m\u001b[43m,\u001b[49m\u001b[43m \u001b[49m\u001b[43mna_action\u001b[49m\u001b[38;5;241;43m=\u001b[39;49m\u001b[43mna_action\u001b[49m\u001b[43m,\u001b[49m\u001b[43m \u001b[49m\u001b[43mconvert\u001b[49m\u001b[38;5;241;43m=\u001b[39;49m\u001b[43mconvert\u001b[49m\u001b[43m)\u001b[49m\n",
      "File \u001b[1;32mc:\\Users\\Asus\\AppData\\Local\\Programs\\Python\\Python312\\Lib\\site-packages\\pandas\\core\\algorithms.py:1743\u001b[0m, in \u001b[0;36mmap_array\u001b[1;34m(arr, mapper, na_action, convert)\u001b[0m\n\u001b[0;32m   1741\u001b[0m values \u001b[38;5;241m=\u001b[39m arr\u001b[38;5;241m.\u001b[39mastype(\u001b[38;5;28mobject\u001b[39m, copy\u001b[38;5;241m=\u001b[39m\u001b[38;5;28;01mFalse\u001b[39;00m)\n\u001b[0;32m   1742\u001b[0m \u001b[38;5;28;01mif\u001b[39;00m na_action \u001b[38;5;129;01mis\u001b[39;00m \u001b[38;5;28;01mNone\u001b[39;00m:\n\u001b[1;32m-> 1743\u001b[0m     \u001b[38;5;28;01mreturn\u001b[39;00m \u001b[43mlib\u001b[49m\u001b[38;5;241;43m.\u001b[39;49m\u001b[43mmap_infer\u001b[49m\u001b[43m(\u001b[49m\u001b[43mvalues\u001b[49m\u001b[43m,\u001b[49m\u001b[43m \u001b[49m\u001b[43mmapper\u001b[49m\u001b[43m,\u001b[49m\u001b[43m \u001b[49m\u001b[43mconvert\u001b[49m\u001b[38;5;241;43m=\u001b[39;49m\u001b[43mconvert\u001b[49m\u001b[43m)\u001b[49m\n\u001b[0;32m   1744\u001b[0m \u001b[38;5;28;01melse\u001b[39;00m:\n\u001b[0;32m   1745\u001b[0m     \u001b[38;5;28;01mreturn\u001b[39;00m lib\u001b[38;5;241m.\u001b[39mmap_infer_mask(\n\u001b[0;32m   1746\u001b[0m         values, mapper, mask\u001b[38;5;241m=\u001b[39misna(values)\u001b[38;5;241m.\u001b[39mview(np\u001b[38;5;241m.\u001b[39muint8), convert\u001b[38;5;241m=\u001b[39mconvert\n\u001b[0;32m   1747\u001b[0m     )\n",
      "File \u001b[1;32mlib.pyx:2972\u001b[0m, in \u001b[0;36mpandas._libs.lib.map_infer\u001b[1;34m()\u001b[0m\n",
      "Cell \u001b[1;32mIn[22], line 8\u001b[0m, in \u001b[0;36mtokenisasi\u001b[1;34m(text)\u001b[0m\n\u001b[0;32m      7\u001b[0m \u001b[38;5;28;01mdef\u001b[39;00m \u001b[38;5;21mtokenisasi\u001b[39m(text):\n\u001b[1;32m----> 8\u001b[0m     \u001b[38;5;28;01mreturn\u001b[39;00m \u001b[43mword_tokenize\u001b[49m\u001b[43m(\u001b[49m\u001b[43mtext\u001b[49m\u001b[43m)\u001b[49m\n",
      "File \u001b[1;32mc:\\Users\\Asus\\AppData\\Local\\Programs\\Python\\Python312\\Lib\\site-packages\\nltk\\tokenize\\__init__.py:142\u001b[0m, in \u001b[0;36mword_tokenize\u001b[1;34m(text, language, preserve_line)\u001b[0m\n\u001b[0;32m    127\u001b[0m \u001b[38;5;28;01mdef\u001b[39;00m \u001b[38;5;21mword_tokenize\u001b[39m(text, language\u001b[38;5;241m=\u001b[39m\u001b[38;5;124m\"\u001b[39m\u001b[38;5;124menglish\u001b[39m\u001b[38;5;124m\"\u001b[39m, preserve_line\u001b[38;5;241m=\u001b[39m\u001b[38;5;28;01mFalse\u001b[39;00m):\n\u001b[0;32m    128\u001b[0m \u001b[38;5;250m    \u001b[39m\u001b[38;5;124;03m\"\"\"\u001b[39;00m\n\u001b[0;32m    129\u001b[0m \u001b[38;5;124;03m    Return a tokenized copy of *text*,\u001b[39;00m\n\u001b[0;32m    130\u001b[0m \u001b[38;5;124;03m    using NLTK's recommended word tokenizer\u001b[39;00m\n\u001b[1;32m   (...)\u001b[0m\n\u001b[0;32m    140\u001b[0m \u001b[38;5;124;03m    :type preserve_line: bool\u001b[39;00m\n\u001b[0;32m    141\u001b[0m \u001b[38;5;124;03m    \"\"\"\u001b[39;00m\n\u001b[1;32m--> 142\u001b[0m     sentences \u001b[38;5;241m=\u001b[39m [text] \u001b[38;5;28;01mif\u001b[39;00m preserve_line \u001b[38;5;28;01melse\u001b[39;00m \u001b[43msent_tokenize\u001b[49m\u001b[43m(\u001b[49m\u001b[43mtext\u001b[49m\u001b[43m,\u001b[49m\u001b[43m \u001b[49m\u001b[43mlanguage\u001b[49m\u001b[43m)\u001b[49m\n\u001b[0;32m    143\u001b[0m     \u001b[38;5;28;01mreturn\u001b[39;00m [\n\u001b[0;32m    144\u001b[0m         token \u001b[38;5;28;01mfor\u001b[39;00m sent \u001b[38;5;129;01min\u001b[39;00m sentences \u001b[38;5;28;01mfor\u001b[39;00m token \u001b[38;5;129;01min\u001b[39;00m _treebank_word_tokenizer\u001b[38;5;241m.\u001b[39mtokenize(sent)\n\u001b[0;32m    145\u001b[0m     ]\n",
      "File \u001b[1;32mc:\\Users\\Asus\\AppData\\Local\\Programs\\Python\\Python312\\Lib\\site-packages\\nltk\\tokenize\\__init__.py:119\u001b[0m, in \u001b[0;36msent_tokenize\u001b[1;34m(text, language)\u001b[0m\n\u001b[0;32m    109\u001b[0m \u001b[38;5;28;01mdef\u001b[39;00m \u001b[38;5;21msent_tokenize\u001b[39m(text, language\u001b[38;5;241m=\u001b[39m\u001b[38;5;124m\"\u001b[39m\u001b[38;5;124menglish\u001b[39m\u001b[38;5;124m\"\u001b[39m):\n\u001b[0;32m    110\u001b[0m \u001b[38;5;250m    \u001b[39m\u001b[38;5;124;03m\"\"\"\u001b[39;00m\n\u001b[0;32m    111\u001b[0m \u001b[38;5;124;03m    Return a sentence-tokenized copy of *text*,\u001b[39;00m\n\u001b[0;32m    112\u001b[0m \u001b[38;5;124;03m    using NLTK's recommended sentence tokenizer\u001b[39;00m\n\u001b[1;32m   (...)\u001b[0m\n\u001b[0;32m    117\u001b[0m \u001b[38;5;124;03m    :param language: the model name in the Punkt corpus\u001b[39;00m\n\u001b[0;32m    118\u001b[0m \u001b[38;5;124;03m    \"\"\"\u001b[39;00m\n\u001b[1;32m--> 119\u001b[0m     tokenizer \u001b[38;5;241m=\u001b[39m \u001b[43m_get_punkt_tokenizer\u001b[49m\u001b[43m(\u001b[49m\u001b[43mlanguage\u001b[49m\u001b[43m)\u001b[49m\n\u001b[0;32m    120\u001b[0m     \u001b[38;5;28;01mreturn\u001b[39;00m tokenizer\u001b[38;5;241m.\u001b[39mtokenize(text)\n",
      "File \u001b[1;32mc:\\Users\\Asus\\AppData\\Local\\Programs\\Python\\Python312\\Lib\\site-packages\\nltk\\tokenize\\__init__.py:105\u001b[0m, in \u001b[0;36m_get_punkt_tokenizer\u001b[1;34m(language)\u001b[0m\n\u001b[0;32m     96\u001b[0m \u001b[38;5;129m@functools\u001b[39m\u001b[38;5;241m.\u001b[39mlru_cache\n\u001b[0;32m     97\u001b[0m \u001b[38;5;28;01mdef\u001b[39;00m \u001b[38;5;21m_get_punkt_tokenizer\u001b[39m(language\u001b[38;5;241m=\u001b[39m\u001b[38;5;124m\"\u001b[39m\u001b[38;5;124menglish\u001b[39m\u001b[38;5;124m\"\u001b[39m):\n\u001b[0;32m     98\u001b[0m \u001b[38;5;250m    \u001b[39m\u001b[38;5;124;03m\"\"\"\u001b[39;00m\n\u001b[0;32m     99\u001b[0m \u001b[38;5;124;03m    A constructor for the PunktTokenizer that utilizes\u001b[39;00m\n\u001b[0;32m    100\u001b[0m \u001b[38;5;124;03m    a lru cache for performance.\u001b[39;00m\n\u001b[1;32m   (...)\u001b[0m\n\u001b[0;32m    103\u001b[0m \u001b[38;5;124;03m    :type language: str\u001b[39;00m\n\u001b[0;32m    104\u001b[0m \u001b[38;5;124;03m    \"\"\"\u001b[39;00m\n\u001b[1;32m--> 105\u001b[0m     \u001b[38;5;28;01mreturn\u001b[39;00m \u001b[43mPunktTokenizer\u001b[49m\u001b[43m(\u001b[49m\u001b[43mlanguage\u001b[49m\u001b[43m)\u001b[49m\n",
      "File \u001b[1;32mc:\\Users\\Asus\\AppData\\Local\\Programs\\Python\\Python312\\Lib\\site-packages\\nltk\\tokenize\\punkt.py:1744\u001b[0m, in \u001b[0;36mPunktTokenizer.__init__\u001b[1;34m(self, lang)\u001b[0m\n\u001b[0;32m   1742\u001b[0m \u001b[38;5;28;01mdef\u001b[39;00m \u001b[38;5;21m__init__\u001b[39m(\u001b[38;5;28mself\u001b[39m, lang\u001b[38;5;241m=\u001b[39m\u001b[38;5;124m\"\u001b[39m\u001b[38;5;124menglish\u001b[39m\u001b[38;5;124m\"\u001b[39m):\n\u001b[0;32m   1743\u001b[0m     PunktSentenceTokenizer\u001b[38;5;241m.\u001b[39m\u001b[38;5;21m__init__\u001b[39m(\u001b[38;5;28mself\u001b[39m)\n\u001b[1;32m-> 1744\u001b[0m     \u001b[38;5;28;43mself\u001b[39;49m\u001b[38;5;241;43m.\u001b[39;49m\u001b[43mload_lang\u001b[49m\u001b[43m(\u001b[49m\u001b[43mlang\u001b[49m\u001b[43m)\u001b[49m\n",
      "File \u001b[1;32mc:\\Users\\Asus\\AppData\\Local\\Programs\\Python\\Python312\\Lib\\site-packages\\nltk\\tokenize\\punkt.py:1749\u001b[0m, in \u001b[0;36mPunktTokenizer.load_lang\u001b[1;34m(self, lang)\u001b[0m\n\u001b[0;32m   1746\u001b[0m \u001b[38;5;28;01mdef\u001b[39;00m \u001b[38;5;21mload_lang\u001b[39m(\u001b[38;5;28mself\u001b[39m, lang\u001b[38;5;241m=\u001b[39m\u001b[38;5;124m\"\u001b[39m\u001b[38;5;124menglish\u001b[39m\u001b[38;5;124m\"\u001b[39m):\n\u001b[0;32m   1747\u001b[0m     \u001b[38;5;28;01mfrom\u001b[39;00m \u001b[38;5;21;01mnltk\u001b[39;00m\u001b[38;5;21;01m.\u001b[39;00m\u001b[38;5;21;01mdata\u001b[39;00m \u001b[38;5;28;01mimport\u001b[39;00m find\n\u001b[1;32m-> 1749\u001b[0m     lang_dir \u001b[38;5;241m=\u001b[39m \u001b[43mfind\u001b[49m\u001b[43m(\u001b[49m\u001b[38;5;124;43mf\u001b[39;49m\u001b[38;5;124;43m\"\u001b[39;49m\u001b[38;5;124;43mtokenizers/punkt_tab/\u001b[39;49m\u001b[38;5;132;43;01m{\u001b[39;49;00m\u001b[43mlang\u001b[49m\u001b[38;5;132;43;01m}\u001b[39;49;00m\u001b[38;5;124;43m/\u001b[39;49m\u001b[38;5;124;43m\"\u001b[39;49m\u001b[43m)\u001b[49m\n\u001b[0;32m   1750\u001b[0m     \u001b[38;5;28mself\u001b[39m\u001b[38;5;241m.\u001b[39m_params \u001b[38;5;241m=\u001b[39m load_punkt_params(lang_dir)\n\u001b[0;32m   1751\u001b[0m     \u001b[38;5;28mself\u001b[39m\u001b[38;5;241m.\u001b[39m_lang \u001b[38;5;241m=\u001b[39m lang\n",
      "File \u001b[1;32mc:\\Users\\Asus\\AppData\\Local\\Programs\\Python\\Python312\\Lib\\site-packages\\nltk\\data.py:579\u001b[0m, in \u001b[0;36mfind\u001b[1;34m(resource_name, paths)\u001b[0m\n\u001b[0;32m    577\u001b[0m sep \u001b[38;5;241m=\u001b[39m \u001b[38;5;124m\"\u001b[39m\u001b[38;5;124m*\u001b[39m\u001b[38;5;124m\"\u001b[39m \u001b[38;5;241m*\u001b[39m \u001b[38;5;241m70\u001b[39m\n\u001b[0;32m    578\u001b[0m resource_not_found \u001b[38;5;241m=\u001b[39m \u001b[38;5;124mf\u001b[39m\u001b[38;5;124m\"\u001b[39m\u001b[38;5;130;01m\\n\u001b[39;00m\u001b[38;5;132;01m{\u001b[39;00msep\u001b[38;5;132;01m}\u001b[39;00m\u001b[38;5;130;01m\\n\u001b[39;00m\u001b[38;5;132;01m{\u001b[39;00mmsg\u001b[38;5;132;01m}\u001b[39;00m\u001b[38;5;130;01m\\n\u001b[39;00m\u001b[38;5;132;01m{\u001b[39;00msep\u001b[38;5;132;01m}\u001b[39;00m\u001b[38;5;130;01m\\n\u001b[39;00m\u001b[38;5;124m\"\u001b[39m\n\u001b[1;32m--> 579\u001b[0m \u001b[38;5;28;01mraise\u001b[39;00m \u001b[38;5;167;01mLookupError\u001b[39;00m(resource_not_found)\n",
      "\u001b[1;31mLookupError\u001b[0m: \n**********************************************************************\n  Resource \u001b[93mpunkt_tab\u001b[0m not found.\n  Please use the NLTK Downloader to obtain the resource:\n\n  \u001b[31m>>> import nltk\n  >>> nltk.download('punkt_tab')\n  \u001b[0m\n  For more information see: https://www.nltk.org/data.html\n\n  Attempted to load \u001b[93mtokenizers/punkt_tab/english/\u001b[0m\n\n  Searched in:\n    - 'C:\\\\Users\\\\Asus/nltk_data'\n    - 'c:\\\\Users\\\\Asus\\\\AppData\\\\Local\\\\Programs\\\\Python\\\\Python312\\\\nltk_data'\n    - 'c:\\\\Users\\\\Asus\\\\AppData\\\\Local\\\\Programs\\\\Python\\\\Python312\\\\share\\\\nltk_data'\n    - 'c:\\\\Users\\\\Asus\\\\AppData\\\\Local\\\\Programs\\\\Python\\\\Python312\\\\lib\\\\nltk_data'\n    - 'C:\\\\Users\\\\Asus\\\\AppData\\\\Roaming\\\\nltk_data'\n    - 'C:\\\\nltk_data'\n    - 'D:\\\\nltk_data'\n    - 'E:\\\\nltk_data'\n**********************************************************************\n"
     ]
    }
   ],
   "source": [
    "#token\n",
    "#tokenisasi menggunakan nltk\n",
    "\n",
    "from nltk.tokenize import word_tokenize\n",
    "\n",
    "\n",
    "# Membuat fungsi tokenisasi\n",
    "def tokenisasi(text):\n",
    "    return word_tokenize(text)\n",
    "\n",
    "# Menerapkan fungsi tokenisasi ke kolom \"Isi Artikel\" dan \"Judul\"\n",
    "df['Judul'] = df['Judul'].apply(tokenisasi)\n",
    "df['Isi Artikel'] = df['Isi Artikel'].apply(tokenisasi)\n",
    "\n",
    "df.head()"
   ]
  },
  {
   "cell_type": "code",
   "execution_count": null,
   "metadata": {},
   "outputs": [
    {
     "name": "stdout",
     "output_type": "stream",
     "text": [
      "    00  000  0000  000000  000000000783d  000000002  0000000090387  \\\n",
      "0  0.0  0.0   0.0     0.0            0.0        0.0            0.0   \n",
      "1  0.0  0.0   0.0     0.0            0.0        0.0            0.0   \n",
      "2  0.0  0.0   0.0     0.0            0.0        0.0            0.0   \n",
      "3  0.0  0.0   0.0     0.0            0.0        0.0            0.0   \n",
      "4  0.0  0.0   0.0     0.0            0.0        0.0            0.0   \n",
      "\n",
      "   0000000392e  00000100  00001  ...  zyumbi  zyunbi   zz  zza  zzambia  zzd  \\\n",
      "0          0.0       0.0    0.0  ...     0.0     0.0  0.0  0.0      0.0  0.0   \n",
      "1          0.0       0.0    0.0  ...     0.0     0.0  0.0  0.0      0.0  0.0   \n",
      "2          0.0       0.0    0.0  ...     0.0     0.0  0.0  0.0      0.0  0.0   \n",
      "3          0.0       0.0    0.0  ...     0.0     0.0  0.0  0.0      0.0  0.0   \n",
      "4          0.0       0.0    0.0  ...     0.0     0.0  0.0  0.0      0.0  0.0   \n",
      "\n",
      "   zzh  zzp  zzt  zzu  \n",
      "0  0.0  0.0  0.0  0.0  \n",
      "1  0.0  0.0  0.0  0.0  \n",
      "2  0.0  0.0  0.0  0.0  \n",
      "3  0.0  0.0  0.0  0.0  \n",
      "4  0.0  0.0  0.0  0.0  \n",
      "\n",
      "[5 rows x 189621 columns]\n"
     ]
    }
   ],
   "source": [
    "#vectorization\n",
    "\n",
    "from sklearn.feature_extraction.text import TfidfVectorizer\n",
    "\n",
    "# Initialize the TF-IDF Vectorizer\n",
    "tfidf_vectorizer = TfidfVectorizer()\n",
    "\n",
    "# Fit and transform the 'Judul' and 'Isi Artikel' columns\n",
    "tfidf_isi_artikel = tfidf_vectorizer.fit_transform(df['Isi Artikel'].apply(lambda x: ' '.join(x)))\n",
    "\n",
    "# Convert the result to a DataFrame for better readability\n",
    "tfidf_isi_artikel_df = pd.DataFrame(tfidf_isi_artikel.toarray(), columns=tfidf_vectorizer.get_feature_names_out())\n",
    "\n",
    "print(tfidf_isi_artikel_df.head())"
   ]
  },
  {
   "cell_type": "code",
   "execution_count": 23,
   "metadata": {},
   "outputs": [
    {
     "ename": "SyntaxError",
     "evalue": "incomplete input (1536555791.py, line 14)",
     "output_type": "error",
     "traceback": [
      "\u001b[1;36m  Cell \u001b[1;32mIn[23], line 14\u001b[1;36m\u001b[0m\n\u001b[1;33m    print(dict(zip(label_encoder.classes_, label_encoder.transform(label_encoder.classes_)))\u001b[0m\n\u001b[1;37m                                                                                            ^\u001b[0m\n\u001b[1;31mSyntaxError\u001b[0m\u001b[1;31m:\u001b[0m incomplete input\n"
     ]
    }
   ],
   "source": [
    "from sklearn.preprocessing import LabelEncoder\n",
    "\n",
    "# Initialize the LabelEncoder\n",
    "label_encoder = LabelEncoder()\n",
    "\n",
    "# Fit and transform the 'Kategori' column\n",
    "df['Kategori_encoded'] = label_encoder.fit_transform(df['Kategori'])\n",
    "\n",
    "# Display the first few rows to verify the encoding\n",
    "print(df[['Kategori', 'Kategori_encoded']].head())\n",
    "df.head()\n",
    "\n",
    "#display encode for each category\n",
    "print(dict(zip(label_encoder.classes_, label_encoder.transform(label_encoder.classes_)))\n"
   ]
  },
  {
   "cell_type": "code",
   "execution_count": null,
   "metadata": {},
   "outputs": [
    {
     "name": "stdout",
     "output_type": "stream",
     "text": [
      "Training set shape: (22202,)\n",
      "Test set shape: (5551,)\n"
     ]
    }
   ],
   "source": [
    "from sklearn.model_selection import train_test_split\n",
    "\n",
    "# Combine title and article content as features\n",
    "X = df[['Judul', 'Isi Artikel']].apply(lambda x: ' '.join(x['Judul']) + ' ' + ' '.join(x['Isi Artikel']), axis=1)\n",
    "\n",
    "# Set target variable\n",
    "y = df['Kategori_encoded']\n",
    "\n",
    "# Split into training and test sets\n",
    "X_train, X_test, y_train, y_test = train_test_split(\n",
    "    X, \n",
    "    y,\n",
    "    test_size=0.2,\n",
    "    random_state=42,\n",
    "    stratify=y\n",
    ")\n",
    "\n",
    "print(f\"Training set shape: {X_train.shape}\")\n",
    "print(f\"Test set shape: {X_test.shape}\")\n"
   ]
  },
  {
   "cell_type": "code",
   "execution_count": null,
   "metadata": {},
   "outputs": [
    {
     "name": "stdout",
     "output_type": "stream",
     "text": [
      "TF-IDF training set shape: (22202, 170210)\n",
      "TF-IDF test set shape: (5551, 170210)\n"
     ]
    }
   ],
   "source": [
    "# Fit and transform the training data\n",
    "tfidf_X_train = tfidf_vectorizer.fit_transform(X_train)\n",
    "\n",
    "# Transform the test data\n",
    "tfidf_X_test = tfidf_vectorizer.transform(X_test)\n",
    "\n",
    "print(f\"TF-IDF training set shape: {tfidf_X_train.shape}\")\n",
    "print(f\"TF-IDF test set shape: {tfidf_X_test.shape}\")"
   ]
  },
  {
   "cell_type": "code",
   "execution_count": null,
   "metadata": {},
   "outputs": [
    {
     "name": "stdout",
     "output_type": "stream",
     "text": [
      "{'alpha': 0.1}\n",
      "0.8763169463090652\n",
      "Model accuracy: 0.8857863448027382\n",
      "               precision    recall  f1-score   support\n",
      "\n",
      "internasional       0.98      0.94      0.96      1000\n",
      "    lifestyle       0.97      0.90      0.94       583\n",
      " metropolitan       0.85      0.85      0.85       997\n",
      "     nasional       0.73      0.82      0.77       971\n",
      "   pendidikan       0.94      0.97      0.96      1000\n",
      "     regional       0.89      0.83      0.86      1000\n",
      "\n",
      "     accuracy                           0.89      5551\n",
      "    macro avg       0.89      0.89      0.89      5551\n",
      " weighted avg       0.89      0.89      0.89      5551\n",
      "\n"
     ]
    }
   ],
   "source": [
    "from sklearn.model_selection import GridSearchCV\n",
    "from sklearn.metrics import classification_report\n",
    "from sklearn.metrics import accuracy_score\n",
    "from sklearn.naive_bayes import MultinomialNB\n",
    "\n",
    "#grid search\n",
    "\n",
    "# Membuat objek MultinomialNB\n",
    "model = MultinomialNB()\n",
    "\n",
    "# Membuat grid parameter\n",
    "param_grid = {\n",
    "    'alpha': [0.1, 0.5, 1.0, 2.0, 5.0]\n",
    "}\n",
    "\n",
    "# Membuat objek GridSearchCV\n",
    "grid_search = GridSearchCV(model, param_grid, cv=5)\n",
    "\n",
    "# Melakukan training model\n",
    "grid_search.fit(tfidf_X_train, y_train)\n",
    "\n",
    "# Menampilkan parameter terbaik\n",
    "print(grid_search.best_params_)\n",
    "\n",
    "# Menampilkan skor validasi terbaik\n",
    "print(grid_search.best_score_)\n",
    "from sklearn.naive_bayes import MultinomialNB\n",
    "\n",
    "# Initialize the Multinomial Naive Bayes classifier\n",
    "nb_classifier = MultinomialNB(alpha=0.1)\n",
    "\n",
    "# Train the classifier\n",
    "nb_classifier.fit(tfidf_X_train, y_train)\n",
    "\n",
    "# Predict the categories of the test set\n",
    "y_pred = nb_classifier.predict(tfidf_X_test)\n",
    "\n",
    "\n",
    "# Calculate the accuracy of the model\n",
    "accuracy = accuracy_score(y_test, y_pred)\n",
    "print(f\"Model accuracy: {accuracy}\")\n",
    "\n",
    "\n",
    "\n",
    "# Generate the classification report\n",
    "class_report = classification_report(y_test, y_pred, target_names=label_encoder.classes_)\n",
    "\n",
    "print(class_report)"
   ]
  },
  {
   "cell_type": "code",
   "execution_count": null,
   "metadata": {},
   "outputs": [
    {
     "name": "stdout",
     "output_type": "stream",
     "text": [
      "Basic Performance Metrics:\n",
      "Accuracy: 0.911\n",
      "\n",
      "Classification Report:\n",
      "              precision    recall  f1-score   support\n",
      "\n",
      "           0       0.98      0.95      0.97      1000\n",
      "           1       0.94      0.95      0.94       583\n",
      "           2       0.88      0.89      0.89       997\n",
      "           3       0.82      0.82      0.82       971\n",
      "           4       0.97      0.96      0.97      1000\n",
      "           5       0.88      0.91      0.89      1000\n",
      "\n",
      "    accuracy                           0.91      5551\n",
      "   macro avg       0.91      0.91      0.91      5551\n",
      "weighted avg       0.91      0.91      0.91      5551\n",
      "\n"
     ]
    },
    {
     "data": {
      "image/png": "[encoded data removed]",
      "text/plain": [
       "<Figure size 1000x800 with 2 Axes>"
      ]
     },
     "metadata": {},
     "output_type": "display_data"
    },
    {
     "name": "stdout",
     "output_type": "stream",
     "text": [
      "\n",
      "Cross-validation Results:\n",
      "accuracy: 0.904 (+/- 0.011)\n",
      "precision_weighted: 0.906 (+/- 0.010)\n",
      "recall_weighted: 0.904 (+/- 0.011)\n",
      "f1_weighted: 0.905 (+/- 0.010)\n"
     ]
    }
   ],
   "source": [
    "from sklearn.pipeline import Pipeline\n",
    "from sklearn.feature_extraction.text import TfidfVectorizer\n",
    "from sklearn.linear_model import LogisticRegression\n",
    "from sklearn.metrics import (classification_report, accuracy_score, \n",
    "                           confusion_matrix, roc_curve, auc)\n",
    "from sklearn.model_selection import cross_val_score, cross_validate\n",
    "import seaborn as sns\n",
    "import matplotlib.pyplot as plt\n",
    "import numpy as np\n",
    "\n",
    "# Create pipeline\n",
    "pipe = Pipeline([\n",
    "    ('tfidf', TfidfVectorizer(min_df=2, max_df=0.95)),\n",
    "    ('logreg', LogisticRegression(max_iter=1000))\n",
    "])\n",
    "\n",
    "# Fit and predict\n",
    "pipe.fit(X_train, y_train)\n",
    "y_pred = pipe.predict(X_test)\n",
    "\n",
    "# Basic metrics\n",
    "print(\"Basic Performance Metrics:\")\n",
    "print(f\"Accuracy: {accuracy_score(y_test, y_pred):.3f}\")\n",
    "print(\"\\nClassification Report:\")\n",
    "print(classification_report(y_test, y_pred))\n",
    "\n",
    "# Confusion Matrix\n",
    "plt.figure(figsize=(10,8))\n",
    "cm = confusion_matrix(y_test, y_pred)\n",
    "sns.heatmap(cm, annot=True, fmt='d', cmap='Blues',\n",
    "            xticklabels=pipe.classes_,\n",
    "            yticklabels=pipe.classes_)\n",
    "plt.title('Confusion Matrix')\n",
    "plt.ylabel('True Label')\n",
    "plt.xlabel('Predicted Label')\n",
    "plt.show()\n",
    "\n",
    "# Cross-validation with multiple metrics\n",
    "cv_metrics = cross_validate(pipe, X, y, \n",
    "                          cv=5,\n",
    "                          scoring=['accuracy', 'precision_weighted',\n",
    "                                 'recall_weighted', 'f1_weighted'])\n",
    "\n",
    "print(\"\\nCross-validation Results:\")\n",
    "for metric, scores in cv_metrics.items():\n",
    "    if metric.startswith('test_'):\n",
    "        print(f\"{metric[5:]}: {scores.mean():.3f} (+/- {scores.std()*2:.3f})\")\n",
    "\n",
    "# ROC Curve (for binary classification)\n",
    "if len(np.unique(y)) == 2:\n",
    "    y_prob = pipe.predict_proba(X_test)[:,1]\n",
    "    fpr, tpr, _ = roc_curve(y_test, y_prob)\n",
    "    roc_auc = auc(fpr, tpr)\n",
    "    \n",
    "    plt.figure(figsize=(8,6))\n",
    "    plt.plot(fpr, tpr, color='darkorange', lw=2,\n",
    "             label=f'ROC curve (AUC = {roc_auc:.2f})')\n",
    "    plt.plot([0, 1], [0, 1], color='navy', lw=2, linestyle='--')\n",
    "    plt.xlim([0.0, 1.0])\n",
    "    plt.ylim([0.0, 1.05])\n",
    "    plt.xlabel('False Positive Rate')\n",
    "    plt.ylabel('True Positive Rate')\n",
    "    plt.title('Receiver Operating Characteristic (ROC) Curve')\n",
    "    plt.legend(loc=\"lower right\")\n",
    "    plt.show()"
   ]
  },
  {
   "cell_type": "code",
   "execution_count": null,
   "metadata": {},
   "outputs": [],
   "source": [
    "# #grid search\n",
    "# from sklearn.model_selection import GridSearchCV\n",
    "\n",
    "# # Membuat objek MultinomialNB\n",
    "# model = MultinomialNB()\n",
    "\n",
    "# # Membuat grid parameter\n",
    "# param_grid = {\n",
    "#     'alpha': [0.1, 0.5, 1.0, 2.0, 5.0]\n",
    "# }\n",
    "\n",
    "# # Membuat objek GridSearchCV\n",
    "# grid_search = GridSearchCV(model, param_grid, cv=5)\n",
    "\n",
    "# # Melakukan training model\n",
    "# grid_search.fit(X, y)\n",
    "\n",
    "# # Menampilkan parameter terbaik\n",
    "\n",
    "# print(grid_search.best_params_)\n",
    "\n",
    "# # Menyimpan model\n",
    "\n",
    "# joblib.dump(vectorizer, 'vectorizer.joblib')"
   ]
  }
 ],
 "metadata": {
  "kernelspec": {
   "display_name": "Python 3",
   "language": "python",
   "name": "python3"
  },
  "language_info": {
   "codemirror_mode": {
    "name": "ipython",
    "version": 3
   },
   "file_extension": ".py",
   "mimetype": "text/x-python",
   "name": "python",
   "nbconvert_exporter": "python",
   "pygments_lexer": "ipython3",
   "version": "3.12.5"
  }
 },
 "nbformat": 4,
 "nbformat_minor": 2
}
